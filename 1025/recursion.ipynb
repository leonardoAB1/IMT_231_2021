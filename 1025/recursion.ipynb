{
 "cells": [
  {
   "cell_type": "markdown",
   "metadata": {},
   "source": [
    "# Recursividad\n",
    "\n",
    "Una función o método que se llama a sí misma se denomina una función o método *recursivo*. El resultado es un loop virtual, similar a un while loop.\n",
    "\n",
    "1. Una solución recursiva debe contener un **caso base**\n",
    "2. Una solución recursiva debe contener un **caso recursivo**\n",
    "3. Una solución recursiva debe lograr progreso hacia el caso base"
   ]
  },
  {
   "cell_type": "code",
   "execution_count": 1,
   "metadata": {},
   "outputs": [],
   "source": [
    "def imprimirReverso(n):\n",
    "    # if n <= 0:\n",
    "    #     pass\n",
    "    # else:\n",
    "    #     print(n)\n",
    "    #     imprimirReverso(n-1)\n",
    "\n",
    "    if n > 0:\n",
    "        print(n)\n",
    "        imprimirReverso(n-1)\n",
    "\n",
    "    "
   ]
  },
  {
   "cell_type": "code",
   "execution_count": 2,
   "metadata": {},
   "outputs": [
    {
     "name": "stdout",
     "output_type": "stream",
     "text": [
      "5\n",
      "4\n",
      "3\n",
      "2\n",
      "1\n"
     ]
    }
   ],
   "source": [
    "imprimirReverso(5)"
   ]
  },
  {
   "cell_type": "code",
   "execution_count": 3,
   "metadata": {},
   "outputs": [],
   "source": [
    "def imprimirReversoIter(n):\n",
    "    while n > 0:\n",
    "        print(n)\n",
    "        n -= 1"
   ]
  },
  {
   "cell_type": "code",
   "execution_count": 7,
   "metadata": {},
   "outputs": [],
   "source": [
    "def imprimirInc(n):\n",
    "    if n > 0:\n",
    "        imprimirInc(n-1)\n",
    "        print(n)"
   ]
  },
  {
   "cell_type": "code",
   "execution_count": 8,
   "metadata": {},
   "outputs": [
    {
     "name": "stdout",
     "output_type": "stream",
     "text": [
      "1\n",
      "2\n",
      "3\n",
      "4\n",
      "5\n"
     ]
    }
   ],
   "source": [
    "imprimirInc(5)"
   ]
  },
  {
   "cell_type": "code",
   "execution_count": 9,
   "metadata": {},
   "outputs": [],
   "source": [
    "def factorial(n):\n",
    "    assert n >= 0, \"Factorial no está definido para números negativos\"\n",
    "    if n < 2:\n",
    "        return 1\n",
    "    else: # 2! = 2 * 1!\n",
    "        return n * factorial(n-1)"
   ]
  },
  {
   "cell_type": "markdown",
   "metadata": {},
   "source": [
    "## Fibonacci Call Tree\n",
    "\n",
    "`fibonacci(6)`\n",
    "![call_tree](call_tree.png)"
   ]
  },
  {
   "cell_type": "markdown",
   "metadata": {},
   "source": []
  },
  {
   "cell_type": "code",
   "execution_count": 10,
   "metadata": {},
   "outputs": [
    {
     "name": "stdout",
     "output_type": "stream",
     "text": [
      "35\n",
      "52\n",
      "73\n"
     ]
    }
   ],
   "source": [
    "class Node:\n",
    "    def __init__(self, data):\n",
    "        self.data = data\n",
    "        self.next = None\n",
    "        \n",
    "a = Node(35)\n",
    "b = Node(52)\n",
    "c = Node(73)\n",
    "\n",
    "a.next = b\n",
    "b.next = c\n",
    "\n",
    "print(a.data)\n",
    "print(a.next.data)\n",
    "print(a.next.next.data)"
   ]
  },
  {
   "cell_type": "code",
   "execution_count": 13,
   "metadata": {},
   "outputs": [],
   "source": [
    "def imprimirLista(nodo):\n",
    "    if nodo is not None:\n",
    "        imprimirLista(nodo.next)\n",
    "        print(nodo.data)"
   ]
  },
  {
   "cell_type": "code",
   "execution_count": 14,
   "metadata": {},
   "outputs": [
    {
     "name": "stdout",
     "output_type": "stream",
     "text": [
      "73\n",
      "52\n",
      "35\n"
     ]
    }
   ],
   "source": [
    "imprimirLista(a)"
   ]
  },
  {
   "cell_type": "code",
   "execution_count": 1,
   "metadata": {},
   "outputs": [],
   "source": [
    "def recBinarySearch(objetivo, secuencia, inferior, superior):\n",
    "    if inferior > superior: # caso base 1\n",
    "        return False\n",
    "    else:\n",
    "        medio = (inferior + superior) // 2\n",
    "        if secuencia[medio] == objetivo:\n",
    "            return True # caso base 2\n",
    "        elif objetivo < secuencia[medio]: # caso recursivo\n",
    "            return recBinarySearch(objetivo, secuencia, inferior, medio - 1)\n",
    "        else:\n",
    "            return recBinarySearch(objetivo, secuencia, medio + 1, superior)"
   ]
  },
  {
   "cell_type": "code",
   "execution_count": 2,
   "metadata": {},
   "outputs": [],
   "source": [
    "sec1 = [2, 4, 5, 10, 13, 21, 28, 34, 42, 50]"
   ]
  },
  {
   "cell_type": "code",
   "execution_count": 12,
   "metadata": {},
   "outputs": [
    {
     "data": {
      "text/plain": [
       "True"
      ]
     },
     "execution_count": 12,
     "metadata": {},
     "output_type": "execute_result"
    }
   ],
   "source": [
    "recBinarySearch(42, sec1, 0, len(sec1)-1)"
   ]
  },
  {
   "cell_type": "markdown",
   "metadata": {},
   "source": [
    "## Torres de Hanoi\n",
    "\n",
    "![hanoi](hanoi.png)"
   ]
  },
  {
   "cell_type": "code",
   "execution_count": 1,
   "metadata": {},
   "outputs": [],
   "source": [
    "def moverDiscos(nDiscos, origen, destino, intermedio):\n",
    "    if nDiscos >= 1:\n",
    "        moverDiscos(nDiscos-1, origen, intermedio, destino)\n",
    "        print(\"Mover {} -> {}\".format(origen, destino))\n",
    "        moverDiscos(nDiscos-1, intermedio, destino, origen)\n",
    "    # imprimir las movidas. Ej. Mover disco 3:  poste 1 -> poste 2"
   ]
  },
  {
   "cell_type": "code",
   "execution_count": 5,
   "metadata": {},
   "outputs": [
    {
     "name": "stdout",
     "output_type": "stream",
     "text": [
      "Mover 1 -> 3\n",
      "Mover 1 -> 2\n",
      "Mover 3 -> 2\n",
      "Mover 1 -> 3\n",
      "Mover 2 -> 1\n",
      "Mover 2 -> 3\n",
      "Mover 1 -> 3\n"
     ]
    }
   ],
   "source": [
    "moverDiscos(3, 1, 3, 2)"
   ]
  }
 ],
 "metadata": {
  "interpreter": {
   "hash": "356a636ce2f51450019099ea7bc032334283464645747bec92c9e9fde053324a"
  },
  "kernelspec": {
   "display_name": "Python 3.8.5 64-bit ('base': conda)",
   "name": "python3"
  },
  "language_info": {
   "codemirror_mode": {
    "name": "ipython",
    "version": 3
   },
   "file_extension": ".py",
   "mimetype": "text/x-python",
   "name": "python",
   "nbconvert_exporter": "python",
   "pygments_lexer": "ipython3",
   "version": "3.8.5"
  },
  "orig_nbformat": 4
 },
 "nbformat": 4,
 "nbformat_minor": 2
}
