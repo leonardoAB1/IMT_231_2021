{
 "cells": [
  {
   "cell_type": "markdown",
   "source": [
    "# Sorting (ordenamiento)\r\n",
    "\r\n",
    "Es un proceso por el cual los elementos de una colección obedecen una condición prescrita por la llave de ordenamiento"
   ],
   "metadata": {}
  },
  {
   "cell_type": "code",
   "execution_count": 1,
   "source": [
    "help(sorted)"
   ],
   "outputs": [
    {
     "output_type": "stream",
     "name": "stdout",
     "text": [
      "Help on built-in function sorted in module builtins:\n",
      "\n",
      "sorted(iterable, /, *, key=None, reverse=False)\n",
      "    Return a new list containing all items from the iterable in ascending order.\n",
      "    \n",
      "    A custom key function can be supplied to customize the sort order, and the\n",
      "    reverse flag can be set to request the result in descending order.\n",
      "\n"
     ]
    }
   ],
   "metadata": {}
  },
  {
   "cell_type": "markdown",
   "source": [
    "## Bubble sort\r\n",
    "\r\n",
    "Tomamos un elemento\r\n",
    "Comparamos con el elemento siguiente:\r\n",
    "- Si no se cumple la condición, intercambiamos sus lugares\r\n",
    "- Si se cumple, no cambiamos lugares, y analizamos el siguiente elemento\r\n",
    "\r\n",
    "![Bubble Sort](bubblesort.png)\r\n"
   ],
   "metadata": {}
  },
  {
   "cell_type": "code",
   "execution_count": 1,
   "source": [
    "from sort import bubbleSort\r\n",
    "\r\n",
    "lista = [10, 51, 2, 18, 4, 31, 13, 5, 23, 64, 29]\r\n",
    "\r\n",
    "bubbleSort(lista)"
   ],
   "outputs": [],
   "metadata": {}
  },
  {
   "cell_type": "code",
   "execution_count": 2,
   "source": [
    "lista"
   ],
   "outputs": [
    {
     "output_type": "execute_result",
     "data": {
      "text/plain": [
       "[10, 2, 4, 5, 13, 18, 23, 29, 31, 51, 64]"
      ]
     },
     "metadata": {},
     "execution_count": 2
    }
   ],
   "metadata": {}
  },
  {
   "cell_type": "markdown",
   "source": [
    "## Selection Sort\r\n",
    "\r\n",
    "* Seleccionar el elemento menor o mayor de la colección\r\n",
    "* Agregar este elemento a una nueva colección (ordenada)\r\n",
    "* Repetir hasta agotar los elementos de la colección original"
   ],
   "metadata": {}
  },
  {
   "cell_type": "markdown",
   "source": [
    "## Insertion Sort\r\n",
    "\r\n",
    "![insertionsort](insertionsort.png)\r\n"
   ],
   "metadata": {}
  }
 ],
 "metadata": {
  "orig_nbformat": 4,
  "language_info": {
   "name": "python",
   "version": "3.8.5",
   "mimetype": "text/x-python",
   "codemirror_mode": {
    "name": "ipython",
    "version": 3
   },
   "pygments_lexer": "ipython3",
   "nbconvert_exporter": "python",
   "file_extension": ".py"
  },
  "kernelspec": {
   "name": "python3",
   "display_name": "Python 3.8.5 64-bit ('base': conda)"
  },
  "interpreter": {
   "hash": "356a636ce2f51450019099ea7bc032334283464645747bec92c9e9fde053324a"
  }
 },
 "nbformat": 4,
 "nbformat_minor": 2
}