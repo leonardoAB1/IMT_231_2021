{
 "cells": [
  {
   "cell_type": "markdown",
   "source": [
    "# Sorting (ordenamiento)  \r\n",
    "\r\n",
    "Es un proceso por el cual los elementos de una colección obedecen una condicion presecrita por la llave de ordenamiento."
   ],
   "metadata": {}
  },
  {
   "cell_type": "markdown",
   "source": [
    "sorted()"
   ],
   "metadata": {}
  },
  {
   "cell_type": "markdown",
   "source": [
    "## Bubble sort\r\n",
    "Tomamos un elemento  \r\n",
    "Comparamos con el elemento siguiente:  \r\n",
    "- Si no se cmple la condicion, intercambiamos sus lugares\r\n",
    "- Si se cumple, no cambiamos lugares, y analizamos el siguiente elemento \r\n",
    "     \r\n",
    "![Bubble Sort](bubble_sort.png)"
   ],
   "metadata": {}
  },
  {
   "cell_type": "code",
   "execution_count": 2,
   "source": [
    "def bubbleSort(collection):\r\n",
    "    n=len(collection)\r\n",
    "    for i in range(n-1):\r\n",
    "        swapped=1\r\n",
    "        for j in range(0, n-i-1):#O(n^2)\r\n",
    "            if collection[j]>collection[j+1]:\r\n",
    "                #tmp=collection[j+1]\r\n",
    "                #collection[j+1]=collection[j]\r\n",
    "                #collection[j]=tmp\r\n",
    "                collection[j], collection[j+1]=collection[j+1], collection[j]\r\n",
    "                swapped=0\r\n",
    "        if swapped:\r\n",
    "            break"
   ],
   "outputs": [],
   "metadata": {}
  },
  {
   "cell_type": "code",
   "execution_count": 3,
   "source": [
    "lista=[10,51,2,18,4,31,13,5,23,64,29]\r\n",
    "bubbleSort(lista)\r\n",
    "lista"
   ],
   "outputs": [
    {
     "output_type": "execute_result",
     "data": {
      "text/plain": [
       "[2, 4, 5, 10, 13, 18, 23, 29, 31, 51, 64]"
      ]
     },
     "metadata": {},
     "execution_count": 3
    }
   ],
   "metadata": {}
  },
  {
   "cell_type": "markdown",
   "source": [
    "## Selection Sort\r\n",
    "\r\n",
    "1. Seleccionar el elemento menor o mayor de la coleccion\r\n",
    "2. Agregar el elemento a la nueva colección\r\n",
    "3. Repetir hasta agotar los elementos de la colección nicial"
   ],
   "metadata": {}
  },
  {
   "cell_type": "code",
   "execution_count": 6,
   "source": [
    "def selectionSort(collection): #O(n^2)\r\n",
    "    n=len(collection)\r\n",
    "    for i in range(n-1):\r\n",
    "        min_index=i\r\n",
    "        for j in range(i+1, n):\r\n",
    "            if collection[j]<collection[min_index]:\r\n",
    "                min_index=j\r\n",
    "        if min_index != i:\r\n",
    "            #tmp=collection[min_index]\r\n",
    "            #collection[min_index]=collection[i]\r\n",
    "            #collection[i]=tmp\r\n",
    "            collection[min_index], collection[i]=collection[i], collection[min_index]\r\n",
    "        \r\n",
    "        "
   ],
   "outputs": [],
   "metadata": {}
  },
  {
   "cell_type": "code",
   "execution_count": 7,
   "source": [
    "lista=[10,51,2,18,4,31,13,5,23,64,29]\r\n",
    "selectionSort(lista)\r\n",
    "lista"
   ],
   "outputs": [
    {
     "output_type": "execute_result",
     "data": {
      "text/plain": [
       "[2, 4, 5, 10, 13, 18, 23, 29, 31, 51, 64]"
      ]
     },
     "metadata": {},
     "execution_count": 7
    }
   ],
   "metadata": {}
  },
  {
   "cell_type": "markdown",
   "source": [
    "## Insertion Sort\r\n",
    "1. Iterate from arr[1] to arr[n] over the array. \r\n",
    "2. Compare the current element (key) to its predecessor. \r\n",
    "3. If the key element is smaller than its predecessor, compare it to the elements before. Move the greater elements one position up to make space for the swapped element."
   ],
   "metadata": {}
  },
  {
   "cell_type": "code",
   "execution_count": 13,
   "source": [
    "def insertionSort(collection): #O(n)\r\n",
    "    n=len(collection)\r\n",
    "    for i in range(1, n):\r\n",
    "        value=collection[i]\r\n",
    "        pos=i\r\n",
    "        \r\n",
    "        while pos > 0 and value < collection[pos-1]:\r\n",
    "            collection[pos]=collection[pos-1]\r\n",
    "            pos-=1\r\n",
    "        \r\n",
    "        collection[pos]=value"
   ],
   "outputs": [],
   "metadata": {}
  },
  {
   "cell_type": "code",
   "execution_count": 14,
   "source": [
    "lista=[10,51,2,18,4,31,13,5,23,64,29]\r\n",
    "insertionSort(lista)\r\n",
    "lista"
   ],
   "outputs": [
    {
     "output_type": "execute_result",
     "data": {
      "text/plain": [
       "[2, 4, 5, 10, 13, 18, 23, 29, 31, 51, 64]"
      ]
     },
     "metadata": {},
     "execution_count": 14
    }
   ],
   "metadata": {}
  },
  {
   "cell_type": "markdown",
   "source": [
    "MergeSort  \r\n",
    "QuickSort  \r\n",
    "Rimsort  "
   ],
   "metadata": {}
  }
 ],
 "metadata": {
  "orig_nbformat": 4,
  "language_info": {
   "name": "python",
   "version": "3.9.6",
   "mimetype": "text/x-python",
   "codemirror_mode": {
    "name": "ipython",
    "version": 3
   },
   "pygments_lexer": "ipython3",
   "nbconvert_exporter": "python",
   "file_extension": ".py"
  },
  "kernelspec": {
   "name": "python3",
   "display_name": "Python 3.9.6 64-bit ('py39': conda)"
  },
  "interpreter": {
   "hash": "8a1dc5df9880934e0dd062a8d308138585b2fb9c45286a326c45e8b909761c85"
  }
 },
 "nbformat": 4,
 "nbformat_minor": 2
}