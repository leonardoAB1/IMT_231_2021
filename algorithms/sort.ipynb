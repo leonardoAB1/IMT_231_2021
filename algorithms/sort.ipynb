{
 "cells": [
  {
   "cell_type": "markdown",
   "source": [
    "# Sorting (ordenamiento)  \r\n",
    "\r\n",
    "Es un proceso por el cual los elementos de una colección obedecen una condicion presecrita por la llave de ordenamiento."
   ],
   "metadata": {}
  },
  {
   "cell_type": "markdown",
   "source": [
    "sorted()"
   ],
   "metadata": {}
  },
  {
   "cell_type": "markdown",
   "source": [
    "## Bubble sort\r\n",
    "Tomamos un elemento  \r\n",
    "Comparamos con el elemento siguiente:  \r\n",
    "- Si no se cmple la condicion, intercambiamos sus lugares\r\n",
    "- Si se cumple, no cambiamos lugares, y analizamos el siguiente elemento  \r\n",
    "![Bubble Sort](bubble_sort.png)"
   ],
   "metadata": {}
  },
  {
   "cell_type": "code",
   "execution_count": 27,
   "source": [
    "def bubbleSort(collection):\r\n",
    "    n=len(collection)\r\n",
    "    for i in range(n-1):\r\n",
    "        swapped=1\r\n",
    "        for j in range(0, n-i-1):#O(n^2)\r\n",
    "            if collection[j]>collection[j+1]:\r\n",
    "                #tmp=collection[j+1]\r\n",
    "                #collection[j+1]=collection[j]\r\n",
    "                #collection[j]=tmp\r\n",
    "                collection[j], collection[j+1]=collection[j+1], collection[j]\r\n",
    "                swapped=0\r\n",
    "        if swapped:\r\n",
    "            break"
   ],
   "outputs": [],
   "metadata": {}
  },
  {
   "cell_type": "code",
   "execution_count": 28,
   "source": [
    "lista=[10,51,2,18,4,31,13,5,23,64,29]\r\n",
    "bubbleSort(lista)\r\n",
    "lista"
   ],
   "outputs": [
    {
     "output_type": "execute_result",
     "data": {
      "text/plain": [
       "[2, 4, 5, 10, 13, 18, 23, 29, 31, 51, 64]"
      ]
     },
     "metadata": {},
     "execution_count": 28
    }
   ],
   "metadata": {}
  }
 ],
 "metadata": {
  "orig_nbformat": 4,
  "language_info": {
   "name": "python",
   "version": "3.9.6",
   "mimetype": "text/x-python",
   "codemirror_mode": {
    "name": "ipython",
    "version": 3
   },
   "pygments_lexer": "ipython3",
   "nbconvert_exporter": "python",
   "file_extension": ".py"
  },
  "kernelspec": {
   "name": "python3",
   "display_name": "Python 3.9.6 64-bit ('py39': conda)"
  },
  "interpreter": {
   "hash": "8a1dc5df9880934e0dd062a8d308138585b2fb9c45286a326c45e8b909761c85"
  }
 },
 "nbformat": 4,
 "nbformat_minor": 2
}