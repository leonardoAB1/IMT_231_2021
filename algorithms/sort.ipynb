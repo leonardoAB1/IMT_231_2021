{
 "cells": [
  {
   "cell_type": "markdown",
   "metadata": {},
   "source": [
    "# Sorting (ordenamiento)  \n",
    "\n",
    "Es un proceso por el cual los elementos de una colección obedecen una condicion presecrita por la llave de ordenamiento."
   ]
  },
  {
   "cell_type": "markdown",
   "metadata": {},
   "source": [
    "sorted()"
   ]
  },
  {
   "cell_type": "markdown",
   "metadata": {},
   "source": [
    "## Bubble sort\n",
    "Tomamos un elemento  \n",
    "Comparamos con el elemento siguiente:  \n",
    "- Si no se cmple la condicion, intercambiamos sus lugares\n",
    "- Si se cumple, no cambiamos lugares, y analizamos el siguiente elemento \n",
    "     \n",
    "![Bubble Sort](bubble_sort.png)"
   ]
  },
  {
   "cell_type": "code",
   "execution_count": 2,
   "metadata": {},
   "outputs": [],
   "source": [
    "def bubbleSort(collection):\n",
    "    n=len(collection)\n",
    "    for i in range(n-1):\n",
    "        swapped=1\n",
    "        for j in range(0, n-i-1):#O(n^2)\n",
    "            if collection[j]>collection[j+1]:\n",
    "                #tmp=collection[j+1]\n",
    "                #collection[j+1]=collection[j]\n",
    "                #collection[j]=tmp\n",
    "                collection[j], collection[j+1]=collection[j+1], collection[j]\n",
    "                swapped=0\n",
    "        if swapped:\n",
    "            break"
   ]
  },
  {
   "cell_type": "code",
   "execution_count": 3,
   "metadata": {},
   "outputs": [
    {
     "data": {
      "text/plain": [
       "[2, 4, 5, 10, 13, 18, 23, 29, 31, 51, 64]"
      ]
     },
     "execution_count": 3,
     "metadata": {},
     "output_type": "execute_result"
    }
   ],
   "source": [
    "lista=[10,51,2,18,4,31,13,5,23,64,29]\n",
    "bubbleSort(lista)\n",
    "lista"
   ]
  },
  {
   "cell_type": "markdown",
   "metadata": {},
   "source": [
    "## Selection Sort\n",
    "\n",
    "1. Seleccionar el elemento menor o mayor de la coleccion\n",
    "2. Agregar el elemento a la nueva colección\n",
    "3. Repetir hasta agotar los elementos de la colección nicial"
   ]
  },
  {
   "cell_type": "code",
   "execution_count": 6,
   "metadata": {},
   "outputs": [],
   "source": [
    "def selectionSort(collection): #O(n^2)\n",
    "    n=len(collection)\n",
    "    for i in range(n-1):\n",
    "        min_index=i\n",
    "        for j in range(i+1, n):\n",
    "            if collection[j]<collection[min_index]:\n",
    "                min_index=j\n",
    "        if min_index != i:\n",
    "            #tmp=collection[min_index]\n",
    "            #collection[min_index]=collection[i]\n",
    "            #collection[i]=tmp\n",
    "            collection[min_index], collection[i]=collection[i], collection[min_index]\n",
    "        \n",
    "        "
   ]
  },
  {
   "cell_type": "code",
   "execution_count": 7,
   "metadata": {},
   "outputs": [
    {
     "data": {
      "text/plain": [
       "[2, 4, 5, 10, 13, 18, 23, 29, 31, 51, 64]"
      ]
     },
     "execution_count": 7,
     "metadata": {},
     "output_type": "execute_result"
    }
   ],
   "source": [
    "lista=[10,51,2,18,4,31,13,5,23,64,29]\n",
    "selectionSort(lista)\n",
    "lista"
   ]
  },
  {
   "cell_type": "markdown",
   "metadata": {},
   "source": [
    "## Insertion Sort\n",
    "1. Iterate from arr[1] to arr[n] over the array. \n",
    "2. Compare the current element (key) to its predecessor. \n",
    "3. If the key element is smaller than its predecessor, compare it to the elements before. Move the greater elements one position up to make space for the swapped element."
   ]
  },
  {
   "cell_type": "code",
   "execution_count": 13,
   "metadata": {},
   "outputs": [],
   "source": [
    "def insertionSort(collection): #O(n^2)\n",
    "    n=len(collection)\n",
    "    for i in range(1, n):\n",
    "        value=collection[i]\n",
    "        pos=i\n",
    "        \n",
    "        while pos > 0 and value < collection[pos-1]:\n",
    "            collection[pos]=collection[pos-1]\n",
    "            pos-=1\n",
    "        \n",
    "        collection[pos]=value"
   ]
  },
  {
   "cell_type": "code",
   "execution_count": 14,
   "metadata": {},
   "outputs": [
    {
     "data": {
      "text/plain": [
       "[2, 4, 5, 10, 13, 18, 23, 29, 31, 51, 64]"
      ]
     },
     "execution_count": 14,
     "metadata": {},
     "output_type": "execute_result"
    }
   ],
   "source": [
    "lista=[10,51,2,18,4,31,13,5,23,64,29]\n",
    "insertionSort(lista)\n",
    "lista"
   ]
  },
  {
   "cell_type": "markdown",
   "metadata": {},
   "source": [
    "MergeSort  \n",
    "QuickSort  \n",
    "Rimsort  "
   ]
  }
 ],
 "metadata": {
  "interpreter": {
   "hash": "8a1dc5df9880934e0dd062a8d308138585b2fb9c45286a326c45e8b909761c85"
  },
  "kernelspec": {
   "display_name": "Python 3.9.6 64-bit ('py39': conda)",
   "name": "python3"
  },
  "language_info": {
   "codemirror_mode": {
    "name": "ipython",
    "version": 3
   },
   "file_extension": ".py",
   "mimetype": "text/x-python",
   "name": "python",
   "nbconvert_exporter": "python",
   "pygments_lexer": "ipython3",
   "version": "3.9.6"
  },
  "orig_nbformat": 4
 },
 "nbformat": 4,
 "nbformat_minor": 2
}
