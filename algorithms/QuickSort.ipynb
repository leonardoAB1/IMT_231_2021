{
 "cells": [
  {
   "cell_type": "markdown",
   "metadata": {},
   "source": [
    "# Advanced Sorting\n",
    "## Quick Sort\n",
    "p=llave de pivot  \n",
    "L=subgrupo con valores menores a p  \n",
    "G=subbgrupo con valores mayores o iguales a p  "
   ]
  },
  {
   "cell_type": "code",
   "execution_count": 10,
   "metadata": {},
   "outputs": [],
   "source": [
    "def quickSort(collection):\n",
    "    quickSortRecursive(collection, 0, len(collection)-1)\n",
    "\n",
    "def quickSortRecursive(collection, inicio, fin):\n",
    "    #caso base\n",
    "    if inicio>=fin:\n",
    "        return\n",
    "    else:\n",
    "        pivot=collection[inicio]    #primer elemento de la secuencia\n",
    "        pos=partition_secuence(collection, inicio, fin)\n",
    "        \n",
    "        quickSortRecursive(collection, inicio, pos-1) # ordenar de la mitad al pivot\n",
    "        quickSortRecursive(collection, pos+1, fin) # ordenar del pivot al final\n",
    "        \n",
    "def partition_secuence(collection, inicio, fin):\n",
    "    pivot=collection[inicio]\n",
    "    \n",
    "    izquierda=inicio+1\n",
    "    derecha=fin\n",
    "    \n",
    "    while izquierda<=derecha:\n",
    "        while izquierda<derecha and collection[izquierda]<pivot:\n",
    "            izquierda+=1\n",
    "            \n",
    "        while derecha>=izquierda and collection[derecha]>=pivot:\n",
    "            derecha-=1\n",
    "        \n",
    "        if izquierda<derecha:#Si los valores no estan ordenados, entonces los swapiamos\n",
    "            tmp=collection[izquierda]\n",
    "            collection[izquierda]=collection[derecha]\n",
    "            collection[derecha]=tmp\n",
    "            \n",
    "    if derecha!=inicio:\n",
    "        collection[inicio]=collection[derecha]\n",
    "        collection[derecha]=pivot\n",
    "        \n",
    "    return derecha\n",
    "        "
   ]
  },
  {
   "cell_type": "code",
   "execution_count": 11,
   "metadata": {},
   "outputs": [
    {
     "data": {
      "text/plain": [
       "[4, 5, 10, 13, 18, 23, 31, 51]"
      ]
     },
     "execution_count": 11,
     "metadata": {},
     "output_type": "execute_result"
    }
   ],
   "source": [
    "lista=[10,23,51,18,4,31,13,5]\n",
    "quickSort(lista)\n",
    "lista"
   ]
  },
  {
   "cell_type": "code",
   "execution_count": null,
   "metadata": {},
   "outputs": [],
   "source": []
  }
 ],
 "metadata": {
  "interpreter": {
   "hash": "8a1dc5df9880934e0dd062a8d308138585b2fb9c45286a326c45e8b909761c85"
  },
  "kernelspec": {
   "display_name": "Python 3.9.6 64-bit ('py39': conda)",
   "language": "python",
   "name": "python3"
  },
  "language_info": {
   "codemirror_mode": {
    "name": "ipython",
    "version": 3
   },
   "file_extension": ".py",
   "mimetype": "text/x-python",
   "name": "python",
   "nbconvert_exporter": "python",
   "pygments_lexer": "ipython3",
   "version": "3.9.6"
  },
  "orig_nbformat": 4
 },
 "nbformat": 4,
 "nbformat_minor": 2
}
