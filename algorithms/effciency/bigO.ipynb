{
 "cells": [
  {
   "cell_type": "markdown",
   "source": [
    "# Analisis de Complejidad"
   ],
   "metadata": {}
  },
  {
   "cell_type": "markdown",
   "source": [
    "Big-Oh notation: On the order of magnitude notation es unsada para describir la complejidad de un algoritmo  \r\n",
    "\r\n",
    "# $n^2$\r\n",
    "$ T_1(n)= n*(n+2)+1 = n^2+2n+1 $  \r\n",
    "```python\r\n",
    "suma=0 #1\r\n",
    "for i in range(n): \r\n",
    "    suma_filas[i]=0 #1\r\n",
    "    for j in range(n): #1*n\r\n",
    "        suma_fila[i]=suma_fila[i]+elemento[i, j] #1\r\n",
    "    suma += elemento[i, j] #1\r\n",
    "```\r\n",
    "# $n$\r\n",
    "$ T_2(n) = n*(2n+1)+1 = 2n^2+n+1 $\r\n",
    "```python\r\n",
    "suma=0 #1\r\n",
    "for i in range(n):  #n*(2n+1)\r\n",
    "    suma_filas[i]=0 #1\r\n",
    "    for j in range(n): #n*(1+1)\r\n",
    "        suma_fila[i]=suma_fila[i]+elemento[i, j] #1\r\n",
    "        suma += elemento[i, j] #1\r\n",
    "```\r\n",
    "$T(n) \\leq cf(n)$  \r\n",
    "$O(f(n))$  \r\n",
    "Resultando en $O(n^2)$  "
   ],
   "metadata": {}
  },
  {
   "cell_type": "markdown",
   "source": [
    "### Ejemplo 2\r\n",
    "\r\n",
    "$ T_3= n^2 + log_2(n)+3n $  \r\n",
    "$ O(T_3) = n^2 $  "
   ],
   "metadata": {}
  },
  {
   "cell_type": "markdown",
   "source": [
    "|$f( )$|Nombre|\r\n",
    "|--|--|\r\n",
    "|1|constante|\r\n",
    "|$log\\ n$|logaritmico|\r\n",
    "|$n$|lineal|\r\n",
    "|$n\\ log\\ n$|log lineal|\r\n",
    "|$n^2$|cuadrático|\r\n",
    "|$n^3$|cúbico|\r\n",
    "|$a^n$|exponencial|\r\n",
    "|$n!$|factorial|  \r\n",
    "\r\n",
    "Wiki: https://en.wikipedia.org/wiki/Big_O_notation  \r\n"
   ],
   "metadata": {}
  },
  {
   "cell_type": "markdown",
   "source": [
    "## Operaciones basicas\r\n",
    "* Asignaciones `x=5`\r\n",
    "* Expresiones aritmeticas `y = x` o `z= x + y`  \r\n",
    "* Expresiones lógicas `x > 0 and x <= 100`\r\n",
    "* Indexación `x[5]`"
   ],
   "metadata": {}
  },
  {
   "cell_type": "code",
   "execution_count": 1,
   "source": [
    "def ej1(n):                 # O(n) Lineal\r\n",
    "    total=0                 # O(1)\r\n",
    "    for i in range(n):      # O(n)*1\r\n",
    "        total +=i           # O(1)\r\n",
    "    return total            # O(1)"
   ],
   "outputs": [],
   "metadata": {}
  },
  {
   "cell_type": "code",
   "execution_count": 2,
   "source": [
    "def ej2(n):                 # O(n) Lineal\r\n",
    "    conteo=0                # O(1)\r\n",
    "    for i in range(n):      # O (n)*1\r\n",
    "        conteo += 1         # O (1)\r\n",
    "    for j in range(n):      # O (n)*1\r\n",
    "        conteo += 1         # O (1)\r\n",
    "    return conteo           # O(1)"
   ],
   "outputs": [],
   "metadata": {}
  },
  {
   "cell_type": "code",
   "execution_count": 3,
   "source": [
    "def ej3(n):                 #O(n^2) Cuadrática\r\n",
    "    conteo=0\r\n",
    "    for i in range(n):\r\n",
    "        for j in range(n):\r\n",
    "            conteo +=1\r\n",
    "    return conteo"
   ],
   "outputs": [],
   "metadata": {}
  },
  {
   "cell_type": "code",
   "execution_count": 5,
   "source": [
    "def ej4(n):                 #O(n) Lineal\r\n",
    "    conteo=0\r\n",
    "    for i in range(n):      #O(n)\r\n",
    "        for j in range(25): #O(25)\r\n",
    "            conteo +=1      #O(1)\r\n",
    "    return conteo"
   ],
   "outputs": [],
   "metadata": {}
  },
  {
   "cell_type": "code",
   "execution_count": 6,
   "source": [
    "def ej5(n):                 #O(n*(n+1))=O(n^2) Cuadratico\r\n",
    "    conteo=0\r\n",
    "    for i in range(n):      #O(n)\r\n",
    "        for j in range(i+1):    #O(n+1) != O(n) + O(1)\r\n",
    "            conteo+=1           #O(1)\r\n",
    "    return conteo"
   ],
   "outputs": [],
   "metadata": {}
  }
 ],
 "metadata": {
  "orig_nbformat": 4,
  "language_info": {
   "name": "python",
   "version": "3.9.6",
   "mimetype": "text/x-python",
   "codemirror_mode": {
    "name": "ipython",
    "version": 3
   },
   "pygments_lexer": "ipython3",
   "nbconvert_exporter": "python",
   "file_extension": ".py"
  },
  "kernelspec": {
   "name": "python3",
   "display_name": "Python 3.9.6 64-bit ('py39': conda)"
  },
  "interpreter": {
   "hash": "8a1dc5df9880934e0dd062a8d308138585b2fb9c45286a326c45e8b909761c85"
  }
 },
 "nbformat": 4,
 "nbformat_minor": 2
}