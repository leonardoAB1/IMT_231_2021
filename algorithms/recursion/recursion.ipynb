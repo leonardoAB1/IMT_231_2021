{
 "cells": [
  {
   "cell_type": "markdown",
   "metadata": {},
   "source": [
    "# Recursion\n",
    "\n",
    "Una función o método que se llamama a si misma se denomina una función o método *recursivo*. El resultado es un loop virtual similar a un while loop.  \n",
    "1. Una solución recursiva debe contener un *caso base*\n",
    "2. Una solución recursica debe contener un *caso recursivo*\n",
    "3. Una solución recursiva debe lograr progreso hacia el caso base"
   ]
  },
  {
   "cell_type": "code",
   "execution_count": 6,
   "metadata": {},
   "outputs": [
    {
     "name": "stdout",
     "output_type": "stream",
     "text": [
      "5\n",
      "4\n",
      "3\n",
      "2\n",
      "1\n"
     ]
    }
   ],
   "source": [
    "def imprimirReverso(n):\n",
    "    if n>0:\n",
    "        print(n)\n",
    "        imprimirReverso(n-1)\n",
    "\n",
    "imprimirReverso(5)"
   ]
  },
  {
   "cell_type": "code",
   "execution_count": 7,
   "metadata": {},
   "outputs": [
    {
     "name": "stdout",
     "output_type": "stream",
     "text": [
      "1\n",
      "2\n",
      "3\n",
      "4\n",
      "5\n"
     ]
    }
   ],
   "source": [
    "def imprimirInt(n):\n",
    "    if n>0:\n",
    "        imprimirInt(n-1)\n",
    "        print(n)\n",
    "        \n",
    "imprimirInt(5)"
   ]
  },
  {
   "cell_type": "code",
   "execution_count": 8,
   "metadata": {},
   "outputs": [
    {
     "data": {
      "text/plain": [
       "24"
      ]
     },
     "execution_count": 8,
     "metadata": {},
     "output_type": "execute_result"
    }
   ],
   "source": [
    "def factorial(n):\n",
    "    assert n>=0, \"Factorial undefined for negative numbers\"\n",
    "    if n<=1:\n",
    "        return 1\n",
    "    else:\n",
    "        return n*factorial(n-1)\n",
    "    \n",
    "factorial(4)"
   ]
  },
  {
   "cell_type": "code",
   "execution_count": 10,
   "metadata": {},
   "outputs": [],
   "source": [
    "from functools import cache"
   ]
  },
  {
   "cell_type": "code",
   "execution_count": 21,
   "metadata": {},
   "outputs": [
    {
     "data": {
      "text/plain": [
       "12586269025"
      ]
     },
     "execution_count": 21,
     "metadata": {},
     "output_type": "execute_result"
    }
   ],
   "source": [
    "@cache\n",
    "def fib(n):\n",
    "    assert n>=0, \"Fibonacci no definido para numeros negativos\"\n",
    "    if n<=1:\n",
    "        return n\n",
    "    else:\n",
    "        return fib(n-1)+fib(n-2)\n",
    "    \n",
    "fib(50)"
   ]
  },
  {
   "cell_type": "code",
   "execution_count": null,
   "metadata": {},
   "outputs": [],
   "source": [
    "def imprimirLista(nodo):\n",
    "    if nodo is not None:\n",
    "        imprimirLista(nodo.next)print(nodo.data)"
   ]
  },
  {
   "cell_type": "code",
   "execution_count": 12,
   "metadata": {},
   "outputs": [],
   "source": [
    "def recBinarySearch(objetivo, secuencia, inferior, superior):\n",
    "    if inferior>superior:   #caso base\n",
    "        return False\n",
    "    else:\n",
    "        medio=(inferior+superior)//2\n",
    "        if secuencia[medio]==objetivo:\n",
    "            return True     #caso base 2\n",
    "        elif objetivo<secuencia[medio]: #caso recursivo 1\n",
    "            return recBinatySearch(objetivo, secuencia, inferior, medio-1)\n",
    "        elif objetivo>secuencia[medio]: #caso recursivo 2\n",
    "            return recBinarySearch(objetivo, secuencia, medio+1, superior)"
   ]
  },
  {
   "cell_type": "code",
   "execution_count": 13,
   "metadata": {},
   "outputs": [],
   "source": [
    "sec1=[2,4,5,10,13,21,28,34,42,50]"
   ]
  },
  {
   "cell_type": "code",
   "execution_count": 15,
   "metadata": {},
   "outputs": [
    {
     "data": {
      "text/plain": [
       "True"
      ]
     },
     "execution_count": 15,
     "metadata": {},
     "output_type": "execute_result"
    }
   ],
   "source": [
    "recBinarySearch(42, sec1, 0, len(sec1)-1)"
   ]
  },
  {
   "cell_type": "markdown",
   "metadata": {},
   "source": [
    "## Torres de Hanoi"
   ]
  },
  {
   "cell_type": "code",
   "execution_count": 17,
   "metadata": {},
   "outputs": [],
   "source": [
    "def moverDiscos(nDiscos, origen, destino, intermedio):\n",
    "    if nDiscos>=1:\n",
    "        moverDiscos()\n",
    "        print()\n",
    "        moverDiscos()\n",
    "    pass\n",
    "#imprimir las movidas. Ej.\n",
    "#Mover disco 3: poste 1->poste2"
   ]
  },
  {
   "cell_type": "code",
   "execution_count": null,
   "metadata": {},
   "outputs": [],
   "source": []
  }
 ],
 "metadata": {
  "interpreter": {
   "hash": "8a1dc5df9880934e0dd062a8d308138585b2fb9c45286a326c45e8b909761c85"
  },
  "kernelspec": {
   "display_name": "Python 3.9.6 64-bit ('py39': conda)",
   "name": "python3"
  },
  "language_info": {
   "codemirror_mode": {
    "name": "ipython",
    "version": 3
   },
   "file_extension": ".py",
   "mimetype": "text/x-python",
   "name": "python",
   "nbconvert_exporter": "python",
   "pygments_lexer": "ipython3",
   "version": "3.9.6"
  },
  "orig_nbformat": 4
 },
 "nbformat": 4,
 "nbformat_minor": 2
}
