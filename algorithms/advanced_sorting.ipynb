{
 "cells": [
  {
   "cell_type": "markdown",
   "metadata": {},
   "source": [
    "# Advanced Sorting  "
   ]
  },
  {
   "cell_type": "markdown",
   "metadata": {},
   "source": [
    "## Merge Sorting  \n",
    "\n",
    "```10 23 51 18 4 31 13 5```  \n",
    "``` I....................F```  \n",
    "```10 23 51 18 || 4 31 5```  \n",
    "```10 23 || 51 18 || 4 31 || 13 5 ||```  \n",
    "```10||23||51||18||4||31||13||5```   \n",
    "\n",
    "```10 23||18 51||4 31||5 13||``` \n",
    "```10 18 23 51 ||4 5 13 31```   \n",
    "```4 5 10 13 18 23 31  51 ||```  \n",
    "\n",
    "1. Separar la colección\n",
    "2. Orden despues unirlos\n"
   ]
  },
  {
   "cell_type": "code",
   "execution_count": 1,
   "metadata": {},
   "outputs": [],
   "source": [
    "from Arrays import Array\n",
    "\n",
    "def unir_subGruposOrdenados(collection, izquierda, derecha, fin, array_tmp):#3n\n",
    "    #izquierda y derecha son indices de los inicios de cada sub grupo\n",
    "    a=izquierda\n",
    "    b=derecha\n",
    "    \n",
    "    m=0 #posicion actual\n",
    "    \n",
    "    while a<derecha and b<fin:\n",
    "        if collection[a] < collection[b]:\n",
    "            array_tmp[m]=collection[a]\n",
    "            a+=1\n",
    "            \n",
    "        else:\n",
    "            array_tmp[m]=collection[b]\n",
    "            b+=1\n",
    "        m+=1\n",
    "    \n",
    "    while a<derecha:\n",
    "        array_tmp[m]=collection[a]\n",
    "        a+=1\n",
    "        m+=1\n",
    "        \n",
    "    while b<fin:\n",
    "        array_tmp[m]=collection[b]\n",
    "        b+=1\n",
    "        m+=1     \n",
    "\n",
    "    for i in range(fin-izquierda):\n",
    "        collection[izquierda+i]=array_tmp[i]\n",
    "    \n",
    "#                           n               m\n",
    "def mergeSortRecursive(collection, inicio, fin, array_tmp): # O(mlog(n))=O(nlog(n))\n",
    "    #caso base\n",
    "    if inicio==fin:             #O(1)\n",
    "        return \n",
    "    \n",
    "    #caso recursivo\n",
    "    else:\n",
    "        medio=(inicio+fin)//2   #O(1)\n",
    "        \n",
    "        mergeSortRecursive(collection, inicio, medio, array_tmp) #primera mitad O(log n)\n",
    "        mergeSortRecursive(collection, medio+1, fin, array_tmp)  #segunda mitad\n",
    "        #unir_sub_grupos_ordenados\n",
    "        unir_subGruposOrdenados(collection, inicio, medio+1, fin, array_tmp)    #O(n)\n",
    "    \n",
    "    # No crear nuevos objetos en soluciones recursivas\n",
    "    \n",
    "def mergeSort(collection):\n",
    "    array_ordenado=Array(len(collection))\n",
    "    mergeSortRecursive(collection, 0, len(collection)-1, array_ordenado)\n",
    "    return array_ordenado\n"
   ]
  },
  {
   "cell_type": "code",
   "execution_count": 2,
   "metadata": {},
   "outputs": [
    {
     "name": "stdout",
     "output_type": "stream",
     "text": [
      "4\n",
      "10\n",
      "13\n",
      "23\n",
      "31\n",
      "51\n",
      "18\n"
     ]
    }
   ],
   "source": [
    "lista=[10, 23,51,18,4,31,13,5]\n",
    "\n",
    "lista_ordenada=mergeSort(lista)\n",
    "\n",
    "for i in range(len(lista_ordenada)-1):\n",
    "    print(lista_ordenada[i])"
   ]
  },
  {
   "cell_type": "markdown",
   "metadata": {},
   "source": [
    "## Radix Sort\n",
    "\n",
    "Data is sorted on diferent bins, \n",
    "\n",
    "Radix=0\n",
    "\n",
    "![radix_1](radix_2.png)  \n",
    "\n",
    "Radix=1  \n"
   ]
  },
  {
   "cell_type": "code",
   "execution_count": 3,
   "metadata": {},
   "outputs": [],
   "source": [
    "from radixSort import radix_sort"
   ]
  },
  {
   "cell_type": "code",
   "execution_count": 4,
   "metadata": {},
   "outputs": [
    {
     "name": "stdout",
     "output_type": "stream",
     "text": [
      "[10, 23, 51, 18, 4, 31, 13, 5, 48, 62, 29]\n",
      "[4, 5, 10, 13, 18, 23, 29, 31, 48, 51, 62]\n"
     ]
    }
   ],
   "source": [
    "lista=[10,23,51,18,4,31,13,5,48,62,29]\n",
    "print(lista)\n",
    "radix_sort(lista, 2)\n",
    "print(lista)"
   ]
  },
  {
   "cell_type": "code",
   "execution_count": null,
   "metadata": {},
   "outputs": [],
   "source": []
  }
 ],
 "metadata": {
  "interpreter": {
   "hash": "8a1dc5df9880934e0dd062a8d308138585b2fb9c45286a326c45e8b909761c85"
  },
  "kernelspec": {
   "display_name": "Python 3.9.6 64-bit ('py39': conda)",
   "language": "python",
   "name": "python3"
  },
  "language_info": {
   "codemirror_mode": {
    "name": "ipython",
    "version": 3
   },
   "file_extension": ".py",
   "mimetype": "text/x-python",
   "name": "python",
   "nbconvert_exporter": "python",
   "pygments_lexer": "ipython3",
   "version": "3.9.6"
  },
  "orig_nbformat": 4
 },
 "nbformat": 4,
 "nbformat_minor": 2
}
