{
 "cells": [
  {
   "cell_type": "markdown",
   "metadata": {},
   "source": [
    "# Hashing\n",
    "\n",
    "Supongamos que tenemos elementos del 100 al 199.  \n",
    "Necesito asignarle un indice en una coleccion (o tabla) de 100 elementos.  \n",
    "  \n",
    "SOLUCION SENCILLA: $key\\ mod\\ 100$  -> Acesso directo  \n",
    "\"Hashing\" es el proceso de apear una llave de búsqueda a un rango limitado de índices con el proposito de proveer **acesso directo**.\n",
    "\n",
    "Las llaves estan almacenadas en un arreglo llamado **hash table** y una **funcion hash** asociada con dicha tabla.\n"
   ]
  },
  {
   "cell_type": "markdown",
   "metadata": {},
   "source": [
    "### Ejemplo \n",
    "```765, 431, 96, 142, 579, 226, 903, 388```  \n",
    "Hash table tiene 13 espacios($M=13$)  \n",
    "h(key)=$key%M$  "
   ]
  },
  {
   "cell_type": "code",
   "execution_count": 2,
   "metadata": {},
   "outputs": [],
   "source": [
    "def hash_fnl(key):\n",
    "    return key%13"
   ]
  },
  {
   "cell_type": "code",
   "execution_count": 4,
   "metadata": {},
   "outputs": [
    {
     "data": {
      "text/plain": [
       "5"
      ]
     },
     "execution_count": 4,
     "metadata": {},
     "output_type": "execute_result"
    }
   ],
   "source": [
    "hash_fnl(226)"
   ]
  },
  {
   "cell_type": "code",
   "execution_count": 5,
   "metadata": {},
   "outputs": [
    {
     "data": {
      "text/plain": [
       "5"
      ]
     },
     "execution_count": 5,
     "metadata": {},
     "output_type": "execute_result"
    }
   ],
   "source": [
    "hash_fnl(96)"
   ]
  },
  {
   "cell_type": "markdown",
   "metadata": {},
   "source": [
    "¿Como resolver colisiones al insertar elementos?  \n",
    "Sol 1 -> **Linear Probing**: Busqueda lineal cambiando el punto de partida, es decir, busqueda lineal partiendo desde un indice en especifico. Si el primer elemento no existe, entonces no hace falta buscarlo porque no está en la tabla.\n"
   ]
  },
  {
   "cell_type": "markdown",
   "metadata": {},
   "source": [
    "### Linear Probing\n",
    "Es una técnica para resolución de colisiones (cuando la función hash retorna un valor igual para dos llaves distintas). Si se da una colision al insertar, la llave se insertará en el siguiente índice no ocupado.  \n",
    "\n",
    "0. 388                  linear probing\n",
    "1. .                    903%13=6\n",
    "2. 431\n",
    "3. \n",
    "4. \n",
    "5. 96\n",
    "6. Δ\n",
    "7. 579\n",
    "8. 903\n",
    "9. \n",
    "10. \n",
    "11. 765\n",
    "12. 142"
   ]
  },
  {
   "cell_type": "markdown",
   "metadata": {},
   "source": [
    "### Primary Clustering\n",
    "Cluster focuses around hash key  \n",
    "0.  \n",
    "1.                      \n",
    "2.  \n",
    "3.  \n",
    "4.  \n",
    "5.  \n",
    "6.  96  \n",
    "7.  903  \n",
    "8.  226   \n",
    "9.  579  \n",
    "10. 36  \n",
    "11.   \n",
    "12.   "
   ]
  },
  {
   "cell_type": "markdown",
   "metadata": {},
   "source": [
    "### Modified Linear Probing  \n",
    "Dado que \"linear probing\" deriva en clusters, podemos usar una secuencia de sondeo (probe sequence). El siguiente espacio a ser considerado para inserción puede ser determinado por    \n",
    "\n",
    "indice=(original+i*c)%M  \n",
    "\n",
    "donde i es el intento i-gesimo en la secuencia, i = 1, 2,... M-1  \n",
    "donde c es una constante mucho menor que M, 1 o 2  "
   ]
  },
  {
   "cell_type": "markdown",
   "metadata": {},
   "source": [
    "```\n",
    "765, 431, 96, 142, 579, 226, 903, 388  \n",
    "M=13  \n",
    "c=3  \n",
    "h(key)=key%M \n",
    "indice=(original+i*c)%M \n",
    "```\n",
    "0. \n",
    "1. 388\n",
    "2. 431\n",
    "3. _\n",
    "4. _\n",
    "5. 96\n",
    "6. 903\n",
    "7. 579\n",
    "8. 226\n",
    "9. _\n",
    "10. _\n",
    "11. 765\n",
    "12. 142\n"
   ]
  },
  {
   "cell_type": "markdown",
   "metadata": {},
   "source": [
    "### Quadratic Probing  \n",
    "indice=(original+i^2)%M  \n",
    "\n",
    "```\n",
    "765, 431, 96, 142, 579, 226, 903, 388  \n",
    "M=13  \n",
    "c=3  \n",
    "h(key)=key%M \n",
    "indice=(original+i^2)%M \n",
    "```\n",
    "0. \n",
    "1. 388\n",
    "2. 431\n",
    "3. _\n",
    "4. _\n",
    "5. 96\n",
    "6. 226 \n",
    "7. 579\n",
    "8. _\n",
    "9. _\n",
    "10. 903\n",
    "11. 765\n",
    "12. 142\n",
    "\n",
    "h(388)=>11=>12=>12=>2=>7=>1\n",
    "h(648)=>11=>12=>2=>7=>1"
   ]
  },
  {
   "cell_type": "markdown",
   "metadata": {},
   "source": [
    " ### Secondary Cluster\n",
    " Cluster alrededor de la llave primaria y a la secuencia de sondeo, ejemplo 648 y 388."
   ]
  },
  {
   "cell_type": "markdown",
   "metadata": {},
   "source": [
    "### Double Hashing\n",
    "\n",
    "h(key)=key % M  \n",
    "original=h(key)   \n",
    "indice=(original+i*hp(key)) % M  \n",
    "hp(key)=1+key % P, donde P es una constante menor a M \n"
   ]
  },
  {
   "cell_type": "markdown",
   "metadata": {},
   "source": [
    "M=3\n",
    "P=8\n",
    "```765, 431, 96, 142, 579, 226, 903, 388 ``` \n",
    "\n",
    "0. \n",
    "1. \n",
    "2. 431\n",
    "3. 388 \n",
    "4.  \n",
    "5. 96\n",
    "6. 903 \n",
    "7. 579\n",
    "8. 226\n",
    "9.  \n",
    "10.  \n",
    "11. 765\n",
    "12.  142"
   ]
  },
  {
   "cell_type": "markdown",
   "metadata": {},
   "source": [
    "### Rehashing\n",
    "\n",
    "```765, 431, 96, 142, 579, 226, 903, 388 ```  \n",
    "h(key)=key%M  \n",
    "indice=(original+i*c)%M  \n",
    "\n",
    "M=17  \n",
    "P=8  \n",
    "c=1  \n",
    "\n",
    "0. 765\n",
    "1. 579\n",
    "2. 903\n",
    "3.  \n",
    "4.  \n",
    "5. 226\n",
    "6. 431\n",
    "7. 142\n",
    "8. \n",
    "9.  \n",
    "10.  \n",
    "11. 96\n",
    "12.  \n",
    "13.  \n",
    "14.  388\n",
    "15.  \n",
    "16.  \n",
    "\n",
    "h(142)=>6=>7  \n",
    "load factor= # de elementos/ #total de entradas en la tabla  \n",
    "load factor ideal 80%    \n",
    "Cuando ampliemos la tabla, una buena regla es ampliar a 2*M y buscar el siguiente primo mayor. Otra opcion es utilizar $2*M+1$    "
   ]
  },
  {
   "cell_type": "markdown",
   "metadata": {},
   "source": [
    "### Chaining(open hashing)\n",
    "\n",
    "```765, 431, 96, 142, 579, 226, 903, 388 ``` \n",
    "\n",
    "0.  \n",
    "1. \n",
    "2. 431\n",
    "3. \n",
    "4.  \n",
    "5.  96=>226\n",
    "6. \n",
    "7. 579\n",
    "8. \n",
    "9. \n",
    "10. \n",
    "11.  765\n",
    "12.  142"
   ]
  },
  {
   "cell_type": "markdown",
   "metadata": {},
   "source": [
    "### Diseño de funciones de hash\n",
    "\n",
    "* La computación debería ser sencilla\n",
    "* El índice no puede ser aleatorio. Una llave siempre debería ser mapeada al mismo indice.\n",
    "* Si la llave tiene múltiples partes, cada parte debería contribuir en la computación del índice.\n",
    "* Si la función utiliza el operador módulo, el numero de posiciones en la tabla debería ser primo.  "
   ]
  },
  {
   "cell_type": "markdown",
   "metadata": {},
   "source": [
    "### Division\n",
    "\n",
    "h(key) = key % M  \n",
    "\n",
    "### Truncación\n",
    "key=4873152  \n",
    "h(key)=tomar digitos en posiciones pares  \n",
    "h(4873152)=835  \n",
    "\n",
    "### Folding\n",
    "key=4873152 \n",
    "h(key)=partir en pres y sumarlos  \n",
    "h(4873152) = 52+31+87+4 = 174\n",
    "\n",
    "### Hashing de strings  \n",
    "key='hashing'  \n",
    "h(key)=sum(ASCII(key))  \n",
    "h('hashing')=104+97+115+104+105+110+103=738  \n",
    "\n",
    "a=27  \n",
    "$h(key)=s_0*a^{(n-1)}+s_1*a^{(n-2)}+...s_{(n-2)}*a+s_{(n-1)}$   \n",
    "$h(key)=184*27^6 + 97*27^5 + 115*27^4 ... +110*27^6 + 103 = 19935$    "
   ]
  },
  {
   "cell_type": "markdown",
   "metadata": {},
   "source": [
    "Elementos   ->  tabla  \n",
    "tabla       ->  función de hashing  "
   ]
  }
 ],
 "metadata": {
  "interpreter": {
   "hash": "8a1dc5df9880934e0dd062a8d308138585b2fb9c45286a326c45e8b909761c85"
  },
  "kernelspec": {
   "display_name": "Python 3.9.6 64-bit ('py39': conda)",
   "name": "python3"
  },
  "language_info": {
   "codemirror_mode": {
    "name": "ipython",
    "version": 3
   },
   "file_extension": ".py",
   "mimetype": "text/x-python",
   "name": "python",
   "nbconvert_exporter": "python",
   "pygments_lexer": "ipython3",
   "version": "3.9.6"
  },
  "orig_nbformat": 4
 },
 "nbformat": 4,
 "nbformat_minor": 2
}
