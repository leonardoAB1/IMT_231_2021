{
 "cells": [
  {
   "cell_type": "markdown",
   "source": [
    "# Multi-dimensional Arrays\r\n",
    "\r\n",
    "| Métodos | Argumentos | Comportamiento |\r\n",
    "| -- | -- | -- |\r\n",
    "| MultiArray(d1, d2, ..., dn) | d1-dn: Número de elementos en cada dimensión | Crea un arreglo multidimensional de elementos organizados en *n* dimensiones, especificadas por el número de argumentos (mayores a 1). Cada argumento individual debe ser mayor que 0. Las dimensiones. Las dimensiones son especificadas de menor a mayor grado, donde $d_1$ es la dimensión más alta, y $d_n$ la más baja | \r\n",
    "| dims() | No tiene argumentos | Retorna el número de dimensiones del arreglo |\r\n",
    "| length(dim) | dim: dimensión | Retorna el tamaño de la dimensión dada. Las dimensiones individuales están numeradas a partir de 1, donde 1 representa la primera o más alta dimensión posible en el arreglo. En un arreglo de 3 dimensiones, 1 indica el número de tablas, 2 indica el número de filas y 3 el número de columnas |\r\n",
    "| clear(v) | v: value | Asigna el valor dado a cada uno de los elementos del arreglo |\r\n",
    "| getitem(i1, i2, ..., in) | i1-in: índices | Retorna el valor almacenado en el elemento indicado por la tupla $(i_1, i_2, ... i_n)$. Todos los índices especificados deben estar dentro del rango válido de la dimensión respectiva. Este método es accedido usando el operador `y = x[1, 2]` |\r\n",
    "| setitem(i1, i2, ..., in, v) | i1-in: índices, v: valor | Modifica el elemento especificado por la tupla $(i_1, i_2, ... i_n)$ al valor dado. Todos los índices especificados debe nestar dentro del rango válido de la dimensión respectiva. Este método es accedido usando el operador `x[1, 2] = y` |"
   ],
   "metadata": {}
  },
  {
   "cell_type": "markdown",
   "source": [],
   "metadata": {}
  }
 ],
 "metadata": {
  "orig_nbformat": 4,
  "language_info": {
   "name": "python"
  }
 },
 "nbformat": 4,
 "nbformat_minor": 2
}