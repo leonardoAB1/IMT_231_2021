{
 "cells": [
  {
   "cell_type": "markdown",
   "source": [
    "# Array\r\n",
    "\r\n",
    "| Método | Argumentos | Comportamiento |\r\n",
    "| -- | -- | -- |\r\n",
    "| Array(n) | n: número elementos contenidos. n debe ser mayor a 0. | Crea un arregle unidimensional con cada elemento inicializado a None. |\r\n",
    "| length() | No tiene argumentos | Retorna el número de elementos en el arreglo |\r\n",
    "| getitem(i) | i: índice del elemento | Retorna el valor almacenado del elemento en la posición del índice. El índice debe estar dentro del rango válido |\r\n",
    "| setitem(i, v) | i: índice, v: valor | Modifica el contenido del arreglo en la posición del índice. El índice debe estar dentro del rango válido |\r\n",
    "| clear(v) | v: valor | Limpia el arreglo cambiando todos los elementos al valor pasado como argumento |\r\n",
    "| iterator() | No tiene argumentos | Retorna un objeto iterador que puede ser usado para recorrer los elementos del arreglo |\r\n",
    "\r\n",
    "\r\n",
    "\r\n"
   ],
   "metadata": {}
  },
  {
   "cell_type": "markdown",
   "source": [
    "# Modo de uso\r\n",
    "\r\n",
    "```python\r\n",
    "from array import Array\r\n",
    "import random\r\n",
    "\r\n",
    "lista_valores = Array(100)\r\n",
    "\r\n",
    "# Llenar el arreglo con floats aleatorios\r\n",
    "for i in range(len(lista_valores)):\r\n",
    "    lista_valores[i] = random.random\r\n",
    "\r\n",
    "# Imprimir los contenidos del arreglo\r\n",
    "for valor in lista_valores:\r\n",
    "    print(valor)\r\n",
    "```"
   ],
   "metadata": {}
  },
  {
   "cell_type": "code",
   "execution_count": 7,
   "source": [
    "import ctypes\r\n",
    "\r\n",
    "class Array:\r\n",
    "    def __init__(self, n):\r\n",
    "        assert n > 0\r\n",
    "        self._n = n\r\n",
    "        PyArrayType = ctypes.py_object * n\r\n",
    "        self._elementos = PyArrayType()\r\n",
    "        self.clear(None)\r\n",
    "\r\n",
    "    def __len__(self):\r\n",
    "        return self._n\r\n",
    "\r\n",
    "    def __getitem__(self, i):\r\n",
    "        assert i >= 0 and i < len(self)\r\n",
    "        return self._elementos[i]\r\n",
    "\r\n",
    "    def __setitem__(self, i, v):\r\n",
    "        assert i >= 0 and i < len(self)\r\n",
    "        self._elementos[i] = v\r\n",
    "\r\n",
    "    def clear(self, v):\r\n",
    "        for i in range(len(self)):\r\n",
    "            self._elementos[i] = v\r\n",
    "\r\n",
    "    def __iter__(self):\r\n",
    "        return _ArrayIterator(self._elementos)\r\n",
    "\r\n",
    "class _ArrayIterator:\r\n",
    "    def __init__(self, arreglo):\r\n",
    "        self._arregloRef = arreglo\r\n",
    "        self._iActual = 0\r\n",
    "\r\n",
    "    def __iter__(self):\r\n",
    "        return self\r\n",
    "\r\n",
    "    def __next__(self):\r\n",
    "        if self._iActual < len(self._arregloRef):\r\n",
    "            elemento = self._arregloRef[self._iActual]\r\n",
    "            self._iActual += 1\r\n",
    "            return elemento\r\n",
    "        else:\r\n",
    "            raise StopIteration"
   ],
   "outputs": [],
   "metadata": {}
  },
  {
   "cell_type": "code",
   "execution_count": 9,
   "source": [
    "# from array import Array\r\n",
    "import random\r\n",
    "\r\n",
    "lista_valores = Array(100)\r\n",
    "\r\n",
    "# Llenar el arreglo con floats aleatorios\r\n",
    "for i in range(len(lista_valores)):\r\n",
    "    lista_valores[i] = random.random()\r\n",
    "\r\n",
    "# Imprimir los contenidos del arreglo\r\n",
    "for valor in lista_valores:\r\n",
    "    print(valor)"
   ],
   "outputs": [
    {
     "output_type": "stream",
     "name": "stdout",
     "text": [
      "0.672551191909633\n",
      "0.4085175655284383\n",
      "0.30701168657398703\n",
      "0.812659046289161\n",
      "0.45136089321112094\n",
      "0.16612522845086763\n",
      "0.8725467870105063\n",
      "0.8448490198786782\n",
      "0.836289854910645\n",
      "0.3109703945093971\n",
      "0.35104405467446953\n",
      "0.7017644934662054\n",
      "0.2866767030175589\n",
      "0.2370771511445775\n",
      "0.14444546361697375\n",
      "0.8375470691881481\n",
      "0.7728212161502501\n",
      "0.7412525656212854\n",
      "0.9321489227527687\n",
      "0.22978044134621456\n",
      "0.29194518715825224\n",
      "0.3404495518834998\n",
      "0.5752520717485369\n",
      "0.9312070788497926\n",
      "0.3739533538051819\n",
      "0.5918392957961596\n",
      "0.4744266176121136\n",
      "0.7077360376864789\n",
      "0.25161159817122114\n",
      "0.6009182800285966\n",
      "0.9407701513519835\n",
      "0.7797157346744749\n",
      "0.9197741844807876\n",
      "0.7384667154444907\n",
      "0.5767368734792135\n",
      "0.9091577356609517\n",
      "0.07822857936191574\n",
      "0.06711336090881992\n",
      "0.8324854583971297\n",
      "0.8480740930229801\n",
      "0.8897129443081456\n",
      "0.2990954451473823\n",
      "0.6802453082389412\n",
      "0.48979794995420045\n",
      "0.5296380698551822\n",
      "0.8347684415548008\n",
      "0.013302849836685948\n",
      "0.9966610382711224\n",
      "0.6998850079746496\n",
      "0.7027382655145488\n",
      "0.5607296457441722\n",
      "0.023491791961329223\n",
      "0.20260322952303256\n",
      "0.33460441081346803\n",
      "0.38455274634076486\n",
      "0.7687309852029134\n",
      "0.7224349260047442\n",
      "0.013788461675684816\n",
      "0.6254557621476458\n",
      "0.7569027723725122\n",
      "0.4660741619081038\n",
      "0.8406659389895945\n",
      "0.5063208382907016\n",
      "0.0480409453114784\n",
      "0.7038125808329682\n",
      "0.6868008763255639\n",
      "0.6370770049285828\n",
      "0.8156263352841033\n",
      "0.4972328864795329\n",
      "0.4503745477882023\n",
      "0.8885053702868344\n",
      "0.8691479492310751\n",
      "0.3001752369967542\n",
      "0.18050043480042743\n",
      "0.9451137048840649\n",
      "0.2140677100373407\n",
      "0.4310814604607415\n",
      "0.8691780401863254\n",
      "0.7736342573814708\n",
      "0.9785459972327981\n",
      "0.18448029692922063\n",
      "0.9306721385074889\n",
      "0.09503211875189632\n",
      "0.150018123076183\n",
      "0.917800876305443\n",
      "0.07490517475788461\n",
      "0.5392877374579179\n",
      "0.6714286916947854\n",
      "0.31530568655014535\n",
      "0.22621395521668974\n",
      "0.03525643550477442\n",
      "0.29497925340858855\n",
      "0.7865831483737739\n",
      "0.1143831625413092\n",
      "0.38205651818374076\n",
      "0.18368811180432632\n",
      "0.01871338949379464\n",
      "0.37088064705350876\n",
      "0.6749375274700575\n",
      "0.31379151650679826\n"
     ]
    }
   ],
   "metadata": {}
  },
  {
   "cell_type": "code",
   "execution_count": 12,
   "source": [
    "len(lista_valores)"
   ],
   "outputs": [
    {
     "output_type": "execute_result",
     "data": {
      "text/plain": [
       "100"
      ]
     },
     "metadata": {},
     "execution_count": 12
    }
   ],
   "metadata": {}
  },
  {
   "cell_type": "code",
   "execution_count": 15,
   "source": [],
   "outputs": [
    {
     "output_type": "error",
     "ename": "AssertionError",
     "evalue": "",
     "traceback": [
      "\u001b[1;31m---------------------------------------------------------------------------\u001b[0m",
      "\u001b[1;31mAssertionError\u001b[0m                            Traceback (most recent call last)",
      "\u001b[1;32m<ipython-input-15-2ea2710e9f03>\u001b[0m in \u001b[0;36m<module>\u001b[1;34m\u001b[0m\n\u001b[1;32m----> 1\u001b[1;33m \u001b[0ma2\u001b[0m \u001b[1;33m=\u001b[0m \u001b[0mArray\u001b[0m\u001b[1;33m(\u001b[0m\u001b[1;33m-\u001b[0m\u001b[1;36m50\u001b[0m\u001b[1;33m)\u001b[0m\u001b[1;33m\u001b[0m\u001b[1;33m\u001b[0m\u001b[0m\n\u001b[0m",
      "\u001b[1;32m<ipython-input-7-bc1e57552b3f>\u001b[0m in \u001b[0;36m__init__\u001b[1;34m(self, n)\u001b[0m\n\u001b[0;32m      3\u001b[0m \u001b[1;32mclass\u001b[0m \u001b[0mArray\u001b[0m\u001b[1;33m:\u001b[0m\u001b[1;33m\u001b[0m\u001b[1;33m\u001b[0m\u001b[0m\n\u001b[0;32m      4\u001b[0m     \u001b[1;32mdef\u001b[0m \u001b[0m__init__\u001b[0m\u001b[1;33m(\u001b[0m\u001b[0mself\u001b[0m\u001b[1;33m,\u001b[0m \u001b[0mn\u001b[0m\u001b[1;33m)\u001b[0m\u001b[1;33m:\u001b[0m\u001b[1;33m\u001b[0m\u001b[1;33m\u001b[0m\u001b[0m\n\u001b[1;32m----> 5\u001b[1;33m         \u001b[1;32massert\u001b[0m \u001b[0mn\u001b[0m \u001b[1;33m>\u001b[0m \u001b[1;36m0\u001b[0m\u001b[1;33m\u001b[0m\u001b[1;33m\u001b[0m\u001b[0m\n\u001b[0m\u001b[0;32m      6\u001b[0m         \u001b[0mself\u001b[0m\u001b[1;33m.\u001b[0m\u001b[0m_n\u001b[0m \u001b[1;33m=\u001b[0m \u001b[0mn\u001b[0m\u001b[1;33m\u001b[0m\u001b[1;33m\u001b[0m\u001b[0m\n\u001b[0;32m      7\u001b[0m         \u001b[0mPyArrayType\u001b[0m \u001b[1;33m=\u001b[0m \u001b[0mctypes\u001b[0m\u001b[1;33m.\u001b[0m\u001b[0mpy_object\u001b[0m \u001b[1;33m*\u001b[0m \u001b[0mn\u001b[0m\u001b[1;33m\u001b[0m\u001b[1;33m\u001b[0m\u001b[0m\n",
      "\u001b[1;31mAssertionError\u001b[0m: "
     ]
    }
   ],
   "metadata": {}
  },
  {
   "cell_type": "code",
   "execution_count": null,
   "source": [
    "lista_valores[50] = None"
   ],
   "outputs": [],
   "metadata": {}
  }
 ],
 "metadata": {
  "orig_nbformat": 4,
  "language_info": {
   "name": "python",
   "version": "3.8.5",
   "mimetype": "text/x-python",
   "codemirror_mode": {
    "name": "ipython",
    "version": 3
   },
   "pygments_lexer": "ipython3",
   "nbconvert_exporter": "python",
   "file_extension": ".py"
  },
  "kernelspec": {
   "name": "python3",
   "display_name": "Python 3.8.5 64-bit ('base': conda)"
  },
  "interpreter": {
   "hash": "356a636ce2f51450019099ea7bc032334283464645747bec92c9e9fde053324a"
  }
 },
 "nbformat": 4,
 "nbformat_minor": 2
}