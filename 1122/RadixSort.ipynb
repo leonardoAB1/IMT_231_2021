{
 "cells": [
  {
   "cell_type": "markdown",
   "metadata": {},
   "source": [
    "# Advanced Sorting Algorithms\n",
    "\n",
    "## Radix Sort\n",
    "\n",
    "Radix = 0\n",
    "\n",
    "![radix_1](radix_1.png)\n",
    "\n",
    "Radix = 1\n",
    "\n",
    "![radix_2](radix_2.png)"
   ]
  },
  {
   "cell_type": "code",
   "execution_count": 1,
   "metadata": {},
   "outputs": [],
   "source": [
    "from Arrays import Array\n",
    "from QueueLinked import Queue\n",
    "\n",
    "def radixSort(coleccion, numero_digitos):\n",
    "    canastas = Array(10)\n",
    "    for k in range(10):\n",
    "        canastas[k] =  Queue()\n",
    "\n",
    "    columna = 1\n",
    "\n",
    "    for d in range(numero_digitos):\n",
    "        for elemento in coleccion:\n",
    "            digito = (elemento // columna) % 10\n",
    "            canastas[digito].enqueue(elemento)\n",
    "\n",
    "        i = 0\n",
    "        for canasta in canastas:\n",
    "            while not canasta.isEmpty():\n",
    "                coleccion[i] = canasta.dequeue()\n",
    "                i += 1\n",
    "\n",
    "        columna *= 10\n"
   ]
  },
  {
   "cell_type": "code",
   "execution_count": 2,
   "metadata": {},
   "outputs": [
    {
     "name": "stdout",
     "output_type": "stream",
     "text": [
      "[10, 23, 51, 18, 4, 31, 13, 5, 48, 62, 29, 8, 37]\n",
      "[4, 5, 8, 10, 13, 18, 23, 29, 31, 37, 48, 51, 62]\n"
     ]
    }
   ],
   "source": [
    "\n",
    "lista = [10, 23, 51, 18, 4, 31, 13, 5, 48, 62, 29, 8, 37]\n",
    "print(lista)\n",
    "radixSort(lista, 2)\n",
    "print(lista)"
   ]
  }
 ],
 "metadata": {
  "interpreter": {
   "hash": "356a636ce2f51450019099ea7bc032334283464645747bec92c9e9fde053324a"
  },
  "kernelspec": {
   "display_name": "Python 3.8.5 64-bit ('base': conda)",
   "language": "python",
   "name": "python3"
  },
  "language_info": {
   "codemirror_mode": {
    "name": "ipython",
    "version": 3
   },
   "file_extension": ".py",
   "mimetype": "text/x-python",
   "name": "python",
   "nbconvert_exporter": "python",
   "pygments_lexer": "ipython3",
   "version": "3.8.5"
  },
  "orig_nbformat": 4
 },
 "nbformat": 4,
 "nbformat_minor": 2
}
