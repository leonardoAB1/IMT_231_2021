{
 "cells": [
  {
   "cell_type": "markdown",
   "source": [
    "### Tipos de datos\r\n",
    "\r\n",
    "Simples:\r\n",
    "\r\n",
    "* int\r\n",
    "* str\r\n",
    "* float\r\n",
    "* bool\r\n",
    "\r\n",
    "Complejos:\r\n",
    "* tuple\r\n",
    "* list\r\n",
    "* dict\r\n",
    "* set\r\n",
    "    \r\n",
    "    \r\n",
    "    \r\n",
    "* None\r\n",
    "\r\n",
    "### Tipo de dato abstracto (ADT)\r\n",
    "\r\n",
    "`Fecha`\\\r\n",
    "`dia()`\\\r\n",
    "`mes()`\\\r\n",
    "`anho()`\\\r\n",
    "`diasEnMes`\\\r\n",
    "`avanzar()`\\\r\n",
    "`esBisiesto()`\\\r\n",
    "`esEquinoccio()`\\\r\n",
    "`esSolsticio()`\\\r\n",
    "`avanzarPorDias(d)`\\\r\n",
    "`diasEntre(f2)`\\"
   ],
   "metadata": {}
  },
  {
   "cell_type": "markdown",
   "source": [],
   "metadata": {}
  }
 ],
 "metadata": {
  "orig_nbformat": 4,
  "language_info": {
   "name": "python"
  }
 },
 "nbformat": 4,
 "nbformat_minor": 2
}