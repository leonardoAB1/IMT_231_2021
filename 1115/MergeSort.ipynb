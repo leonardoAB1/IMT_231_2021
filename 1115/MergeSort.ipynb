{
 "cells": [
  {
   "cell_type": "markdown",
   "metadata": {},
   "source": [
    "# Advanced Sorting\n",
    "\n",
    "## Merge Sort\n",
    "\n",
    "   I                   F\n",
    "```10 23 51 18 4 31 13 5```\n",
    "   I        F     I       F\n",
    "```10 23 51 18 || 4 31 13 5```  \n",
    "    I  F     I  F     I F     I  F\n",
    "```10 23 || 51 18 || 4 31 || 13 5```  \n",
    "\n",
    "```10 || 23 || 51 || 18 || 4 || 31 || 13 || 5```  \n",
    "  \n",
    "   I            F\n",
    "```10 23 || 18 51 || 4 31 || 5 13 ```  \n",
    "```10 18 23 51 || 4 5 13 31```  \n",
    "```4 5 10 13 18 23 31 51```  \n",
    "\n",
    "```10 23 51 4 31 13 5```  \n",
    "```10 23 51 || 4 31 13 5```  \n",
    "```10 || 23 51 || 4 31 || 13 5```  \n",
    "```10 || 23 || 51 || 4 || 31 || 13 || 5```  \n"
   ]
  },
  {
   "cell_type": "code",
   "execution_count": 10,
   "metadata": {},
   "outputs": [
    {
     "name": "stdout",
     "output_type": "stream",
     "text": [
      "[4, 5, 10, 13, 18, 23, 31, 51]\n"
     ]
    }
   ],
   "source": [
    "lista = [10, 23, 51, 18, 4, 31, 13, 5]\n",
    "lista_ordenada = [None for i in range(len(lista))]\n",
    "\n",
    "mergeSortRecursivo(lista, 0, len(lista) - 1, lista_ordenada)\n",
    "print(lista_ordenada)"
   ]
  },
  {
   "cell_type": "code",
   "execution_count": 6,
   "metadata": {},
   "outputs": [],
   "source": [
    "def unirSubgruposOrdenados(coleccion, izquierda, derecha, fin, array_tmp):\n",
    "    a = izquierda\n",
    "    b = derecha\n",
    "\n",
    "    m = 0\n",
    "\n",
    "    while a < derecha and b < fin:\n",
    "        if coleccion[a] < coleccion[b]:\n",
    "            array_tmp[m] = coleccion[a]\n",
    "            a += 1\n",
    "        else:\n",
    "            array_tmp[m] = coleccion[b]\n",
    "            b += 1\n",
    "        m += 1\n",
    "\n",
    "    while a < derecha:\n",
    "        array_tmp[m] = coleccion[a]\n",
    "        a += 1\n",
    "        m += 1\n",
    "\n",
    "    while b < fin:\n",
    "        array_tmp[m] = coleccion[b]\n",
    "        b += 1\n",
    "        m += 1\n",
    "\n",
    "    for i in range(fin - izquierda):\n",
    "        coleccion[izquierda + i] = array_tmp[i]\n",
    "#                         n             m\n",
    "def mergeSortRecursivo(coleccion, inicio, fin, array_tmp): # O(n log n)\n",
    "    # caso base\n",
    "    if inicio == fin:\n",
    "        return # O(1)\n",
    "\n",
    "    # caso recursivo\n",
    "    else:\n",
    "        medio = (inicio + fin) // 2 # O(1)\n",
    "\n",
    "        mergeSortRecursivo(coleccion, inicio, medio, array_tmp) # O(log n)\n",
    "        mergeSortRecursivo(coleccion, medio + 1, fin, array_tmp)\n",
    "\n",
    "        unirSubgruposOrdenados(coleccion, inicio, medio + 1, fin + 1, array_tmp) # O(n)\n",
    "\n"
   ]
  },
  {
   "cell_type": "code",
   "execution_count": null,
   "metadata": {},
   "outputs": [],
   "source": []
  }
 ],
 "metadata": {
  "interpreter": {
   "hash": "356a636ce2f51450019099ea7bc032334283464645747bec92c9e9fde053324a"
  },
  "kernelspec": {
   "display_name": "Python 3.8.5 64-bit ('base': conda)",
   "language": "python",
   "name": "python3"
  },
  "language_info": {
   "codemirror_mode": {
    "name": "ipython",
    "version": 3
   },
   "file_extension": ".py",
   "mimetype": "text/x-python",
   "name": "python",
   "nbconvert_exporter": "python",
   "pygments_lexer": "ipython3",
   "version": "3.8.5"
  },
  "orig_nbformat": 4
 },
 "nbformat": 4,
 "nbformat_minor": 2
}
