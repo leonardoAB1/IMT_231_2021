{
 "cells": [
  {
   "cell_type": "markdown",
   "source": [
    "# Array 2D\r\n",
    "\r\n",
    "## Interface\r\n",
    "\r\n",
    "| Método | Argumentos | Comportamiento |\r\n",
    "| -- | -- | -- |\r\n",
    "| Array2D(nrows, ncols) | nrows: número de filas, ncols: número de columnas | Crea un arreglo bidimensional organizado en filas y columnas. Los elementos individuales son inicializados a `None` |\r\n",
    "| numRows() | No tiene argumentos | Retorna el número de filas en el arreglo 2D |\r\n",
    "| numCols() | No tiene argumentos | Retorna el número de columnas en el arreglo 2D |\r\n",
    "| clear(v) | v: valor | Asigna el valor a todos los elementos individuales del arreglo |\r\n",
    "| getitem((i1, i2)) | i1: índice de filas, i2: índice de columnas |Retorna el valor almacenado en el elemento en la posición indicada por los dos índices, que deben estar dentro del rango válido |\r\n",
    "| setitem((i1, i2), v) | i1: índice de filas, i2: índice de columnas, v: valor | Modifica el contenido del elemento en la posición indicada por los dos índices al valor. Ambos índices deben estar dentro del rango válido |\r\n",
    "\r\n"
   ],
   "metadata": {}
  },
  {
   "cell_type": "markdown",
   "source": [
    "### Ejemplo\r\n",
    "\r\n",
    "El siguiente archivo contiene las notas de los tres examenes de los estudiantes. Se quiere imprimir el promedio de cada estudiante.\r\n",
    "\r\n",
    "```\r\n",
    "7\r\n",
    "3\r\n",
    "90  96  92\r\n",
    "85  91  89\r\n",
    "82  73  84\r\n",
    "69  82  86\r\n",
    "95  88  91\r\n",
    "78  64  84\r\n",
    "81  80  69\r\n",
    "```"
   ],
   "metadata": {}
  },
  {
   "cell_type": "markdown",
   "source": [
    "### Pseudocódigo de la solución propuesta\r\n",
    "\r\n",
    "1. Abrir el archivo  \r\n",
    "2. Leer la primera linea y almacenar el valor en una variable nRows  \r\n",
    "3. Leer la segunda linea y almacenar el valor en una variable  nCols\r\n",
    "4. Creamos una instancia de Array2D con nRows y nCols  \r\n",
    "5. Iterar sobre las filas  \r\n",
    "  5.1 Dividir el string en tres fragmentos  \r\n",
    "  5.2 Iterar sobre las columnas  \r\n",
    "  5.3 Almacenar cada nota en la posición respectiva  \r\n"
   ],
   "metadata": {}
  },
  {
   "cell_type": "code",
   "execution_count": null,
   "source": [
    "archivo_notas = open('./notas.txt')\r\n",
    "nEstudiantes = int(archivo_notas.readline())\r\n",
    "nExamenes = int(archivo_notas.readline())\r\n",
    "\r\n",
    "notasExamenes = Array2D(nEstudiantes, nExamenes)\r\n",
    "\r\n",
    "i = 0\r\n",
    "for estudiantes in archivo_notas:\r\n",
    "    notas = estudiantes.split()\r\n",
    "    for j in range(nExamenes):\r\n",
    "        notasExamenes[i, j] = int(notas[j])\r\n",
    "    i += 1\r\n",
    "\r\n",
    "archivo_notas.close()"
   ],
   "outputs": [],
   "metadata": {}
  },
  {
   "cell_type": "code",
   "execution_count": null,
   "source": [],
   "outputs": [],
   "metadata": {}
  }
 ],
 "metadata": {
  "orig_nbformat": 4,
  "language_info": {
   "name": "python",
   "version": "3.8.5",
   "mimetype": "text/x-python",
   "codemirror_mode": {
    "name": "ipython",
    "version": 3
   },
   "pygments_lexer": "ipython3",
   "nbconvert_exporter": "python",
   "file_extension": ".py"
  },
  "kernelspec": {
   "name": "python3",
   "display_name": "Python 3.8.5 64-bit ('base': conda)"
  },
  "interpreter": {
   "hash": "356a636ce2f51450019099ea7bc032334283464645747bec92c9e9fde053324a"
  }
 },
 "nbformat": 4,
 "nbformat_minor": 2
}