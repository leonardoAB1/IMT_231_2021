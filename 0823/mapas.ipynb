{
 "cells": [
  {
   "cell_type": "markdown",
   "source": [
    "# Maps or Dictionaries"
   ],
   "metadata": {}
  },
  {
   "cell_type": "markdown",
   "source": [
    "| Método | Argumentos | Comportamiento |\r\n",
    "| -- | -- | -- |\r\n",
    "| Map() | No tiene argumentos | Crea un nuevo mapa vacío |\r\n",
    "| length() | No tiene argumentos | Retorna el número de pares de llaves-valores (key-value pairs) en el mapa |\r\n",
    "| contains(k) | k: llave | Determina si la llave dada está en el mapa y retorna un booleano |\r\n",
    "| add(k, v) | k: llave, v: valor | Agrega un nuevo de par de llave-valor si la llave no se encuentra en el mapa, y si se encuentra, reemplaza el valor asociado a la llave. Retorna True si la llave es nueva y False si el valor asociado con la llave es reemplazado |\r\n",
    "| remove(k) | k: llave | Remueve el par de llave-valor de la llave dada si se encuentra en el mapa, y si no levanta una excepción |\r\n",
    "| valueOf(k) | k: llave | Retorna el valor asociado con la llave dada. La llave debe existir en el mapa o se levanta una excepción |\r\n",
    "| iterator() | No tiene argumentos | Crea y retorna un iterador que puede ser usado para iterar sobre las llaves en el mapa |\r\n"
   ],
   "metadata": {}
  },
  {
   "cell_type": "markdown",
   "source": [],
   "metadata": {}
  }
 ],
 "metadata": {
  "orig_nbformat": 4,
  "language_info": {
   "name": "python"
  }
 },
 "nbformat": 4,
 "nbformat_minor": 2
}