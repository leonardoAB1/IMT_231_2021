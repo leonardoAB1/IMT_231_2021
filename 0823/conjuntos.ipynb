{
 "cells": [
  {
   "cell_type": "markdown",
   "source": [
    "# Sets\r\n",
    "\r\n",
    "| Método | Argumentos | Comportamiento |\r\n",
    "| -- | -- | -- |\r\n",
    "| Set() | No tiene argumentos | Crea un nuevo conjunto inicializado a un conjunto vacío |\r\n",
    "| length() | No tiene argumentos | Retorna el número de elementos en el conjunto (cardinalidad). Se accede a este método a través de la función `len()` |\r\n",
    "| contains(e) | e: elemento | Determina si el elemento es parte del conjunto y retorna el valor booleano apropiado. Se accede a este método a través del operador `in` |\r\n",
    "| add(e) | e: elemento | Modifica el conjunto agregando el elemento al conjunto si es que no es parte del mismo. Si el elemento no es único, no se realiza ninguna acción |\r\n",
    "| remove(e) | e: elemento | Remueve el elemento del conjunto si es que está contenido en el mismo, sino levanta una excepción |\r\n",
    "| equals(setB) | setB: otro conjunto | Determina si un conjunto es igual al otro y retorna un booleano. Dos conjuntos son iguales si contienen el mismo número elementos, y todos los elementos del conjunto A están contenidos en el conjunto B. Si ambos conjuntos están vacíos, los conjuntos son iguales. Se accede a este método a través de los operadores `==` y `!=` |\r\n",
    "| isSubsetOf(setB) | setB: otro conjunto | Determina si el conjunto es un subconjunto de otro conjunto y retorna un valor booleano. Para que A sea un subconjunto de B, todos los elementos de A deben pertenecer también a B |\r\n",
    "| union(setB) | setB: otro conjunto | Crea y retorna un nuevo conjunto que es la unión de este conjunto y `setB`. El nuevo conjunto creado por la unión de A y B contiene todos los elementos de A más los elementos de B que no pertenecen a A. Ninguno de los conjuntos A o B son modificados |\r\n",
    "| intersect(setB) | setB: otro conjunto | Crea y retorna un nuevo conjunto que es la interseccion de este conjunto y `setB`. La intersección A y B contiene sólo los elementos que pertenecen tanto a A como a B. Ninguno de los conjuntos A o B son modificados |\r\n",
    "| difference(setB) | setB: otro conjunto | Crea y retorna un nuevo conjunto que es la diferencia de este conjunnto con `setB`. La diferencia de conjuntos $A - B$, contiene sólo los elementos de A que no están en B. Ninguno de los conjuntos A o B son modificados |\r\n",
    "| iterator() | No tiene argumentos | Crea y retorna un iterador que puede ser usado para iterar sobre los elementos del conjunto |"
   ],
   "metadata": {}
  },
  {
   "cell_type": "code",
   "execution_count": 1,
   "source": [
    "from conjuntos import Set\r\n",
    "\r\n",
    "suarez = Set()\r\n",
    "suarez.add(\"IMT-231\")\r\n",
    "suarez.add(\"INF-102\")\r\n",
    "suarez.add(\"IMT-221\")\r\n",
    "suarez.add(\"IMT-222\")\r\n",
    "\r\n",
    "alvarez = Set()\r\n",
    "alvarez.add(\"IMT-242\")\r\n",
    "alvarez.add(\"IMT-221\")\r\n",
    "alvarez.add(\"IMT-241\")\r\n",
    "alvarez.add(\"IMT-247\")\r\n",
    "\r\n",
    "suarez == alvarez\r\n"
   ],
   "outputs": [
    {
     "output_type": "execute_result",
     "data": {
      "text/plain": [
       "False"
      ]
     },
     "metadata": {},
     "execution_count": 1
    }
   ],
   "metadata": {}
  },
  {
   "cell_type": "code",
   "execution_count": 4,
   "source": [
    "suarez.union(alvarez)\r\n",
    "for elemento in suarez.union(alvarez):\r\n",
    "    print(elemento)"
   ],
   "outputs": [
    {
     "output_type": "stream",
     "name": "stdout",
     "text": [
      "IMT-231\n",
      "INF-102\n",
      "IMT-221\n",
      "IMT-222\n",
      "IMT-242\n",
      "IMT-241\n",
      "IMT-247\n"
     ]
    }
   ],
   "metadata": {}
  },
  {
   "cell_type": "code",
   "execution_count": 10,
   "source": [
    "#suarez.add(\"IMT-239\")\r\n",
    "suarez.remove(\"IMT-300\")"
   ],
   "outputs": [
    {
     "output_type": "error",
     "ename": "AssertionError",
     "evalue": "El elemento debe pertenecer al conjunto",
     "traceback": [
      "\u001b[1;31m---------------------------------------------------------------------------\u001b[0m",
      "\u001b[1;31mAssertionError\u001b[0m                            Traceback (most recent call last)",
      "\u001b[1;32m<ipython-input-10-3c27f65c27ca>\u001b[0m in \u001b[0;36m<module>\u001b[1;34m\u001b[0m\n\u001b[0;32m      1\u001b[0m \u001b[1;31m#suarez.add(\"IMT-239\")\u001b[0m\u001b[1;33m\u001b[0m\u001b[1;33m\u001b[0m\u001b[1;33m\u001b[0m\u001b[0m\n\u001b[1;32m----> 2\u001b[1;33m \u001b[0msuarez\u001b[0m\u001b[1;33m.\u001b[0m\u001b[0mremove\u001b[0m\u001b[1;33m(\u001b[0m\u001b[1;34m\"IMT-300\"\u001b[0m\u001b[1;33m)\u001b[0m\u001b[1;33m\u001b[0m\u001b[1;33m\u001b[0m\u001b[0m\n\u001b[0m",
      "\u001b[1;32mc:\\Users\\fjsuarez\\Documents\\ucb-prograsuperior-II2021\\0823\\conjuntos.py\u001b[0m in \u001b[0;36mremove\u001b[1;34m(self, e)\u001b[0m\n\u001b[0;32m     14\u001b[0m \u001b[1;33m\u001b[0m\u001b[0m\n\u001b[0;32m     15\u001b[0m     \u001b[1;32mdef\u001b[0m \u001b[0mremove\u001b[0m\u001b[1;33m(\u001b[0m\u001b[0mself\u001b[0m\u001b[1;33m,\u001b[0m \u001b[0me\u001b[0m\u001b[1;33m)\u001b[0m\u001b[1;33m:\u001b[0m\u001b[1;33m\u001b[0m\u001b[1;33m\u001b[0m\u001b[0m\n\u001b[1;32m---> 16\u001b[1;33m         \u001b[1;32massert\u001b[0m \u001b[0me\u001b[0m \u001b[1;32min\u001b[0m \u001b[0mself\u001b[0m\u001b[1;33m,\u001b[0m \u001b[1;34m\"El elemento debe pertenecer al conjunto\"\u001b[0m\u001b[1;33m\u001b[0m\u001b[1;33m\u001b[0m\u001b[0m\n\u001b[0m\u001b[0;32m     17\u001b[0m         \u001b[0mself\u001b[0m\u001b[1;33m.\u001b[0m\u001b[0m_elementos\u001b[0m\u001b[1;33m.\u001b[0m\u001b[0mremove\u001b[0m\u001b[1;33m(\u001b[0m\u001b[0me\u001b[0m\u001b[1;33m)\u001b[0m\u001b[1;33m\u001b[0m\u001b[1;33m\u001b[0m\u001b[0m\n\u001b[0;32m     18\u001b[0m \u001b[1;33m\u001b[0m\u001b[0m\n",
      "\u001b[1;31mAssertionError\u001b[0m: El elemento debe pertenecer al conjunto"
     ]
    }
   ],
   "metadata": {}
  },
  {
   "cell_type": "code",
   "execution_count": 9,
   "source": [
    "for materia in suarez:\r\n",
    "    print(materia)"
   ],
   "outputs": [
    {
     "output_type": "stream",
     "name": "stdout",
     "text": [
      "IMT-231\n",
      "INF-102\n",
      "IMT-221\n",
      "IMT-222\n"
     ]
    }
   ],
   "metadata": {}
  },
  {
   "cell_type": "code",
   "execution_count": 11,
   "source": [
    "len(suarez)"
   ],
   "outputs": [
    {
     "output_type": "execute_result",
     "data": {
      "text/plain": [
       "4"
      ]
     },
     "metadata": {},
     "execution_count": 11
    }
   ],
   "metadata": {}
  },
  {
   "cell_type": "code",
   "execution_count": 16,
   "source": [
    "#\"IMT-300\" in suarez\r\n",
    "suarez.__contains__(\"INF-102\")"
   ],
   "outputs": [
    {
     "output_type": "execute_result",
     "data": {
      "text/plain": [
       "True"
      ]
     },
     "metadata": {},
     "execution_count": 16
    }
   ],
   "metadata": {}
  },
  {
   "cell_type": "code",
   "execution_count": null,
   "source": [],
   "outputs": [],
   "metadata": {}
  }
 ],
 "metadata": {
  "orig_nbformat": 4,
  "language_info": {
   "name": "python",
   "version": "3.8.5",
   "mimetype": "text/x-python",
   "codemirror_mode": {
    "name": "ipython",
    "version": 3
   },
   "pygments_lexer": "ipython3",
   "nbconvert_exporter": "python",
   "file_extension": ".py"
  },
  "kernelspec": {
   "name": "python3",
   "display_name": "Python 3.8.5 64-bit ('base': conda)"
  },
  "interpreter": {
   "hash": "356a636ce2f51450019099ea7bc032334283464645747bec92c9e9fde053324a"
  }
 },
 "nbformat": 4,
 "nbformat_minor": 2
}