{
 "cells": [
  {
   "cell_type": "markdown",
   "source": [
    "# Polinomios\r\n",
    "\r\n",
    "$ 5x^2 + 3x - 10 $\r\n",
    "\r\n",
    "$ 2x^3 + 4x^2 + 3 $\r\n",
    "\r\n",
    "$ 2x^3 + 9x^2 + 3x - 7 $"
   ],
   "metadata": {}
  },
  {
   "cell_type": "markdown",
   "source": [
    "| Método | Arguemntos | Comportamiento |\r\n",
    "| -- | -- | -- |\r\n",
    "| Polinomio() | No tiene argumentos | Crea un nuevo polinomio que no contiene términos |\r\n",
    "| Polinomio(d, c) | d: grado, c: coeficiente | Crea un nuevo polinomio inicializado a un sólo término con grado y coeficiente especificados |\r\n",
    "| grado() | No tiene argumentos | Retorna el grado del polinomio. Si el que polinomio no contiene términos, retorna -1 |\r\n",
    "| getitem(d) | d: grado | Retorna el coeficiente del término con el grado especificado. Si no existe un término con ese grado, devuelve 0. No se puede retornar el grado de un polinomio sin términos |\r\n",
    "| evaluar(x) | x: escalar | Evalua el polinomio dado el valor escalar y retorna el resultado. Un polinomio sin términos no puede ser evaluado |\r\n",
    "| add(rhsPoli) | rhsPoli: otro polinomio | Crea y retorna un nuevo polinomio que es el resultado de sumar este polinomio y otro polinomio. Esta operación no está definida para polinomios sin términos. |\r\n",
    "| multiply(rhsPoli) | rhsPoli: otro polinomio | Crea y retorna un nuevo polinomio que es el resultado de multiplicar este polinomio y otro polinomio. Esta operación no está definida para polinomios sin términos. |\r\n",
    "| subtract(rhsPoli) | rhsPoli: otro polinomio | Crea y retorna un nuevo polinomio que es el resultado de restar este polinomio y otro polinomio. Esta operación no está definida para polinomios sin términos. |"
   ],
   "metadata": {}
  },
  {
   "cell_type": "code",
   "execution_count": 1,
   "source": [
    "from Polinomio import Polinomio\r\n"
   ],
   "outputs": [],
   "metadata": {}
  },
  {
   "cell_type": "code",
   "execution_count": null,
   "source": [
    "\r\n",
    "poly1 = Polinomio()"
   ],
   "outputs": [],
   "metadata": {}
  },
  {
   "cell_type": "code",
   "execution_count": 3,
   "source": [
    "poly1"
   ],
   "outputs": [
    {
     "output_type": "execute_result",
     "data": {
      "text/plain": [
       "<Polinomio.Polinomio at 0x1faa41b28e0>"
      ]
     },
     "metadata": {},
     "execution_count": 3
    }
   ],
   "metadata": {}
  },
  {
   "cell_type": "code",
   "execution_count": 6,
   "source": [
    "print(poly1._polyTail)"
   ],
   "outputs": [
    {
     "output_type": "stream",
     "name": "stdout",
     "text": [
      "None\n"
     ]
    }
   ],
   "metadata": {}
  },
  {
   "cell_type": "markdown",
   "source": [
    "$ 5x^3 + 3x^2 $"
   ],
   "metadata": {}
  },
  {
   "cell_type": "code",
   "execution_count": 2,
   "source": [
    "poly2 = Polinomio(3, 5)"
   ],
   "outputs": [],
   "metadata": {}
  },
  {
   "cell_type": "code",
   "execution_count": 3,
   "source": [
    "poly2._polyHead.coeficiente"
   ],
   "outputs": [
    {
     "output_type": "execute_result",
     "data": {
      "text/plain": [
       "5"
      ]
     },
     "metadata": {},
     "execution_count": 3
    }
   ],
   "metadata": {}
  },
  {
   "cell_type": "code",
   "execution_count": 4,
   "source": [
    "poly2._polyHead == poly2._polyTail"
   ],
   "outputs": [
    {
     "output_type": "execute_result",
     "data": {
      "text/plain": [
       "True"
      ]
     },
     "metadata": {},
     "execution_count": 4
    }
   ],
   "metadata": {}
  },
  {
   "cell_type": "code",
   "execution_count": 3,
   "source": [
    "poly2._agregarTermino(2, 3)"
   ],
   "outputs": [],
   "metadata": {}
  },
  {
   "cell_type": "code",
   "execution_count": 6,
   "source": [
    "poly2._polyHead"
   ],
   "outputs": [
    {
     "output_type": "execute_result",
     "data": {
      "text/plain": [
       "<Polinomio._PolyTermNode at 0x281626a2880>"
      ]
     },
     "metadata": {},
     "execution_count": 6
    }
   ],
   "metadata": {}
  },
  {
   "cell_type": "code",
   "execution_count": 7,
   "source": [
    "poly2._polyTail.coeficiente"
   ],
   "outputs": [
    {
     "output_type": "execute_result",
     "data": {
      "text/plain": [
       "3"
      ]
     },
     "metadata": {},
     "execution_count": 7
    }
   ],
   "metadata": {}
  },
  {
   "cell_type": "code",
   "execution_count": 8,
   "source": [
    "poly2.evaluar(4)"
   ],
   "outputs": [
    {
     "output_type": "execute_result",
     "data": {
      "text/plain": [
       "368.0"
      ]
     },
     "metadata": {},
     "execution_count": 8
    }
   ],
   "metadata": {}
  },
  {
   "cell_type": "code",
   "execution_count": 8,
   "source": [
    "poly2[10]"
   ],
   "outputs": [
    {
     "output_type": "execute_result",
     "data": {
      "text/plain": [
       "0.0"
      ]
     },
     "metadata": {},
     "execution_count": 8
    }
   ],
   "metadata": {}
  },
  {
   "cell_type": "code",
   "execution_count": 2,
   "source": [
    "polyA = Polinomio(3, 5)\r\n",
    "polyB = Polinomio(2, 3)\r\n",
    "polyC = polyA + polyB"
   ],
   "outputs": [],
   "metadata": {}
  },
  {
   "cell_type": "code",
   "execution_count": 8,
   "source": [
    "polyC.evaluar(4)"
   ],
   "outputs": [
    {
     "output_type": "execute_result",
     "data": {
      "text/plain": [
       "368.0"
      ]
     },
     "metadata": {},
     "execution_count": 8
    }
   ],
   "metadata": {}
  },
  {
   "cell_type": "code",
   "execution_count": 9,
   "source": [
    "polyD = polyC + Polinomio(0, 10)"
   ],
   "outputs": [],
   "metadata": {}
  },
  {
   "cell_type": "code",
   "execution_count": 10,
   "source": [
    "polyD.evaluar(4)"
   ],
   "outputs": [
    {
     "output_type": "execute_result",
     "data": {
      "text/plain": [
       "378.0"
      ]
     },
     "metadata": {},
     "execution_count": 10
    }
   ],
   "metadata": {}
  },
  {
   "cell_type": "code",
   "execution_count": null,
   "source": [],
   "outputs": [],
   "metadata": {}
  }
 ],
 "metadata": {
  "orig_nbformat": 4,
  "language_info": {
   "name": "python",
   "version": "3.8.5",
   "mimetype": "text/x-python",
   "codemirror_mode": {
    "name": "ipython",
    "version": 3
   },
   "pygments_lexer": "ipython3",
   "nbconvert_exporter": "python",
   "file_extension": ".py"
  },
  "kernelspec": {
   "name": "python3",
   "display_name": "Python 3.8.5 64-bit ('base': conda)"
  },
  "interpreter": {
   "hash": "356a636ce2f51450019099ea7bc032334283464645747bec92c9e9fde053324a"
  }
 },
 "nbformat": 4,
 "nbformat_minor": 2
}