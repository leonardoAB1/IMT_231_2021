{
 "cells": [
  {
   "cell_type": "markdown",
   "source": [
    "# Vectores vs Arrays\r\n",
    "\r\n",
    "```c\r\n",
    "unsigned int numero;\r\n",
    "short numero_pequeno;\r\n",
    "\r\n",
    "int[] numeros;\r\n",
    "int numeros[5];\r\n",
    "int multiplos[4];\r\n",
    "multiplos[10] = 18;\r\n",
    "```\r\n",
    "\r\n",
    "Arrays:\r\n",
    "\r\n",
    "* Están en un bloque de memoria contiguo\r\n",
    "* Todos los elementos comparten el mismo tipo de dato\r\n",
    "* El tamaño es estático\r\n",
    "\r\n",
    "Vectores:\r\n",
    "\r\n",
    "* Pueden estar en distintas partes de memoria\r\n",
    "* Todos los elementos comparten el mismo tipo de dato\r\n",
    "* El tamaño es dinámico\r\n",
    "\r\n"
   ],
   "metadata": {}
  },
  {
   "cell_type": "markdown",
   "source": [
    "## Interface de Vector\r\n",
    "\r\n",
    "| Método | Argumentos | Comportamiento |\r\n",
    "| ------ | ---------- | -------------- |\r\n",
    "| Vector() | No tiene | Crea una instancia de un vector sin elementos |\r\n",
    "| Vector(n, x) | n: número de elementos, x: valor del elemento | Crea una instancia de un vector de n elementos que contienen el valor x | \r\n",
    "| add(n) | n: valor | Agrega el valor n al final del contenido del vector |\r\n",
    "| insert(i, n) | i: indice, n: valor | Inserta el valor en el índice especificado, desplazando los valores existentes|\r\n",
    "| remove(i) | i: indice | Elimina el valor en la posición del índice y desplaza el resto de los valores |\r\n",
    "| get(i) | i: indice | Retorna el valor almacenado en la posición del índice |\r\n",
    "| set(i, n) | i: indice, n: valor | Sobreescribe el valor en la posición del índice con el valor del argumento |\r\n",
    "| size() | No tiene | Retorna el número de elementos contenidos en el vector |\r\n",
    "| isEmpty() | No tiene | Retorna True si el vector está vacío |\r\n",
    "| clear() | No tiene | Elimina todos los elementos del vector |\r\n",
    "\r\n",
    "\r\n",
    "\r\n",
    "\r\n",
    "| Operación | Operador | Comportamiento |\r\n",
    "| -- | -- | -- |\r\n",
    "| Indexación | [i] | Retorna el valor almacena en la posición del índice |\r\n",
    "| Suma | v1 + v2 | Concatena v1 y v2, y retorna un nuevo vector conteniendo elementos de ambos | \r\n",
    "| Adjunción | v1 += e1 | Agrega el elemento e1 al final del vector |"
   ],
   "metadata": {}
  },
  {
   "cell_type": "markdown",
   "source": [],
   "metadata": {}
  }
 ],
 "metadata": {
  "orig_nbformat": 4,
  "language_info": {
   "name": "python"
  }
 },
 "nbformat": 4,
 "nbformat_minor": 2
}