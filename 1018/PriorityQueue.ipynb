{
 "cells": [
  {
   "cell_type": "markdown",
   "metadata": {},
   "source": [
    "# Priority Queue\n",
    "\n",
    "Es un queue en el que a cada elemento es asignada una prioridad, y los elementos con prioridad más alta son removidos antes que los elementos con menor prioridad, sin importar cuándo hayan sido agregados. Para la prioridad, se usan valores enteros de modo que un entero menor significa mayor prioridad.\n",
    "\n",
    "Un bounded priority queue (cola de prioridad acotada) restringe los valores de las prioridades entre cero y un límite superior, mientras que un unbounded priority (cola de prioridad no acotada) no tiene límites.\n",
    "\n",
    "| Métodos | Argumentos | Comportamiento |\n",
    "| -- | -- | -- |\n",
    "| PriorityQueue() | No tiene argumentos | Crea y retorna un unbounded priority queue |\n",
    "| BPriorityQUeue(numNiveles) | numNiveles: límite superior entero | Crea y retorna un bounded priority queue con niveles de prioridad entre `0` y `numNiveles - 1` |\n",
    "| isEmpty() | No tiene argumentos | Retorna un booleano indicado si el queue está vacío o no |\n",
    "| length() | No tiene argumentos | Retorna el número de elementos actualmente en el queue |\n",
    "| enqueue(e, p) | e: elemento, p: priorida | Agrega el elemento dado al queue insertándolo en la posición adecuada dada su prioridad. El valor de `p` debe estar en el rango legal cuando se use una cola de prioridad acotada |\n",
    "| dequeue() | No tiene argumentos | Remueve y retorna el elemento en la cabeza de la cola, el cual es el elemento de mayor de prioridad. La prioridad asociada al elemento es descartada. Si dos elementos tiene la misma prioridad, entonces los elementos son removidos en order FIFO. No se puede hacer dequeue de una cola vacía |\n"
   ]
  },
  {
   "cell_type": "code",
   "execution_count": 1,
   "metadata": {},
   "outputs": [],
   "source": [
    "from PriorityQueue import PriorityQueue\n",
    "\n",
    "q = PriorityQueue()\n",
    "q.enqueue(\"morado\", 5)\n",
    "q.enqueue(\"negro\", 1)\n",
    "q.enqueue(\"anaranjado\", 3)\n",
    "q.enqueue(\"blanco\", 0)\n",
    "q.enqueue(\"verde\", 1)\n",
    "q.enqueue(\"amarillo\", 5)\n",
    "\n",
    "\n",
    "# (blanco, 0) -> (negro, 1) -> (verde, 1) -> (anaranjado, 3) -> (morado, 5) -> (amarillo, 5)"
   ]
  },
  {
   "cell_type": "code",
   "execution_count": 2,
   "metadata": {},
   "outputs": [],
   "source": [
    "from PriorityQueue import BPriorityQueue\n",
    "\n",
    "q = BPriorityQueue(6)\n",
    "q.enqueue(\"morado\", 5)\n",
    "q.enqueue(\"negro\", 1)\n",
    "q.enqueue(\"anaranjado\", 3)\n",
    "q.enqueue(\"blanco\", 0)\n",
    "q.enqueue(\"verde\", 1)\n",
    "q.enqueue(\"amarillo\", 5)"
   ]
  },
  {
   "cell_type": "code",
   "execution_count": 3,
   "metadata": {},
   "outputs": [
    {
     "ename": "AssertionError",
     "evalue": "No se puede hacer dequeue en una cola vacía",
     "output_type": "error",
     "traceback": [
      "\u001b[1;31m---------------------------------------------------------------------------\u001b[0m",
      "\u001b[1;31mAssertionError\u001b[0m                            Traceback (most recent call last)",
      "\u001b[1;32m<ipython-input-3-9f0a48288215>\u001b[0m in \u001b[0;36m<module>\u001b[1;34m\u001b[0m\n\u001b[0;32m      1\u001b[0m \u001b[1;32mwhile\u001b[0m \u001b[1;32mnot\u001b[0m \u001b[0mq\u001b[0m\u001b[1;33m.\u001b[0m\u001b[0misEmpty\u001b[0m\u001b[1;33m(\u001b[0m\u001b[1;33m)\u001b[0m\u001b[1;33m:\u001b[0m\u001b[1;33m\u001b[0m\u001b[1;33m\u001b[0m\u001b[0m\n\u001b[1;32m----> 2\u001b[1;33m     \u001b[0mprint\u001b[0m\u001b[1;33m(\u001b[0m\u001b[0mq\u001b[0m\u001b[1;33m.\u001b[0m\u001b[0mdequeue\u001b[0m\u001b[1;33m(\u001b[0m\u001b[1;33m)\u001b[0m\u001b[1;33m)\u001b[0m\u001b[1;33m\u001b[0m\u001b[1;33m\u001b[0m\u001b[0m\n\u001b[0m",
      "\u001b[1;32mc:\\Users\\fjsuarez\\Documents\\ucb-prograsuperior-II2021\\1018\\PriorityQueue.py\u001b[0m in \u001b[0;36mdequeue\u001b[1;34m(self)\u001b[0m\n\u001b[0;32m     59\u001b[0m         \u001b[1;32mwhile\u001b[0m \u001b[0mi\u001b[0m \u001b[1;33m<\u001b[0m \u001b[0mp\u001b[0m \u001b[1;32mand\u001b[0m \u001b[1;32mnot\u001b[0m \u001b[0mself\u001b[0m\u001b[1;33m.\u001b[0m\u001b[0m_qNiveles\u001b[0m\u001b[1;33m[\u001b[0m\u001b[0mi\u001b[0m\u001b[1;33m]\u001b[0m\u001b[1;33m.\u001b[0m\u001b[0misEmpty\u001b[0m\u001b[1;33m(\u001b[0m\u001b[1;33m)\u001b[0m\u001b[1;33m:\u001b[0m\u001b[1;33m\u001b[0m\u001b[1;33m\u001b[0m\u001b[0m\n\u001b[0;32m     60\u001b[0m             \u001b[0mi\u001b[0m \u001b[1;33m+=\u001b[0m \u001b[1;36m1\u001b[0m\u001b[1;33m\u001b[0m\u001b[1;33m\u001b[0m\u001b[0m\n\u001b[1;32m---> 61\u001b[1;33m         \u001b[1;32mreturn\u001b[0m \u001b[0mself\u001b[0m\u001b[1;33m.\u001b[0m\u001b[0m_qNiveles\u001b[0m\u001b[1;33m[\u001b[0m\u001b[0mi\u001b[0m\u001b[1;33m]\u001b[0m\u001b[1;33m.\u001b[0m\u001b[0mdequeue\u001b[0m\u001b[1;33m(\u001b[0m\u001b[1;33m)\u001b[0m\u001b[1;33m\u001b[0m\u001b[1;33m\u001b[0m\u001b[0m\n\u001b[0m\u001b[0;32m     62\u001b[0m \u001b[1;33m\u001b[0m\u001b[0m\n",
      "\u001b[1;32mc:\\Users\\fjsuarez\\Documents\\ucb-prograsuperior-II2021\\1018\\QueueLinked.py\u001b[0m in \u001b[0;36mdequeue\u001b[1;34m(self)\u001b[0m\n\u001b[0;32m     22\u001b[0m \u001b[1;33m\u001b[0m\u001b[0m\n\u001b[0;32m     23\u001b[0m     \u001b[1;32mdef\u001b[0m \u001b[0mdequeue\u001b[0m\u001b[1;33m(\u001b[0m\u001b[0mself\u001b[0m\u001b[1;33m)\u001b[0m\u001b[1;33m:\u001b[0m\u001b[1;33m\u001b[0m\u001b[1;33m\u001b[0m\u001b[0m\n\u001b[1;32m---> 24\u001b[1;33m         \u001b[1;32massert\u001b[0m \u001b[1;32mnot\u001b[0m \u001b[0mself\u001b[0m\u001b[1;33m.\u001b[0m\u001b[0misEmpty\u001b[0m\u001b[1;33m(\u001b[0m\u001b[1;33m)\u001b[0m\u001b[1;33m,\u001b[0m \u001b[1;34m\"No se puede hacer dequeue en una cola vacía\"\u001b[0m\u001b[1;33m\u001b[0m\u001b[1;33m\u001b[0m\u001b[0m\n\u001b[0m\u001b[0;32m     25\u001b[0m         \u001b[0mitem\u001b[0m \u001b[1;33m=\u001b[0m \u001b[0mself\u001b[0m\u001b[1;33m.\u001b[0m\u001b[0m_qhead\u001b[0m\u001b[1;33m\u001b[0m\u001b[1;33m\u001b[0m\u001b[0m\n\u001b[0;32m     26\u001b[0m         \u001b[1;32mif\u001b[0m \u001b[0mself\u001b[0m\u001b[1;33m.\u001b[0m\u001b[0m_qhead\u001b[0m \u001b[1;32mis\u001b[0m \u001b[0mself\u001b[0m\u001b[1;33m.\u001b[0m\u001b[0m_qtail\u001b[0m\u001b[1;33m:\u001b[0m\u001b[1;33m\u001b[0m\u001b[1;33m\u001b[0m\u001b[0m\n",
      "\u001b[1;31mAssertionError\u001b[0m: No se puede hacer dequeue en una cola vacía"
     ]
    }
   ],
   "source": [
    "while not q.isEmpty():\n",
    "    print(q.dequeue())"
   ]
  },
  {
   "cell_type": "markdown",
   "metadata": {},
   "source": [
    "![bpriorityq](bpriority_queue.png)"
   ]
  }
 ],
 "metadata": {
  "interpreter": {
   "hash": "356a636ce2f51450019099ea7bc032334283464645747bec92c9e9fde053324a"
  },
  "kernelspec": {
   "display_name": "Python 3.8.5 64-bit ('base': conda)",
   "name": "python3"
  },
  "language_info": {
   "codemirror_mode": {
    "name": "ipython",
    "version": 3
   },
   "file_extension": ".py",
   "mimetype": "text/x-python",
   "name": "python",
   "nbconvert_exporter": "python",
   "pygments_lexer": "ipython3",
   "version": "3.8.5"
  },
  "orig_nbformat": 4
 },
 "nbformat": 4,
 "nbformat_minor": 2
}
