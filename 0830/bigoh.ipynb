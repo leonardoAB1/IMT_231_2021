{
 "cells": [
  {
   "cell_type": "markdown",
   "source": [
    "# Análisis de Complejidad\r\n",
    "\r\n"
   ],
   "metadata": {}
  },
  {
   "cell_type": "code",
   "execution_count": null,
   "source": [
    "# Version 1\r\n",
    "\r\n",
    "suma = 0 # 1\r\n",
    "for i in range(n): n*(1 + 1*n + 1) = n^2 + 2*n + 1\r\n",
    "    suma_fila[i] = 0 # 1\r\n",
    "    for j in range(n): # 1*n\r\n",
    "        suma_fila[i] = suma_fila[i] + elemento[i, j] # 1\r\n",
    "    suma = suma + suma_fila[i] # 1"
   ],
   "outputs": [],
   "metadata": {}
  },
  {
   "cell_type": "code",
   "execution_count": null,
   "source": [
    "# Version 2\r\n",
    "\r\n",
    "suma = 0 # 1\r\n",
    "for i in range(n): n*(2*n + 1) = 2*n^2 + n + 1\r\n",
    "    suma_fila[i] = 0 # 1\r\n",
    "    for j in range(n): n*(1 + 1)\r\n",
    "        suma_fila[i] = suma_fila[i] + elemento[i, j] # 1\r\n",
    "        suma = suma + elemento[i, j] # 1"
   ],
   "outputs": [],
   "metadata": {}
  },
  {
   "cell_type": "markdown",
   "source": [
    "![bigoh](bigoh.png)\r\n",
    "\r\n",
    "La notación Big-Oh (derivado de la expresión \"on the order of magnitude\") es usada para describir la complejidad de un algoritmo"
   ],
   "metadata": {}
  },
  {
   "cell_type": "markdown",
   "source": [
    "$ T_1(n)  = n^2 + 2n + 1 $\r\n",
    " \r\n",
    "$ T_2(n)  = 2n^2 + n + 1 $"
   ],
   "metadata": {}
  },
  {
   "cell_type": "markdown",
   "source": [
    "$ T(n) \\leq cf(n) $"
   ],
   "metadata": {}
  },
  {
   "cell_type": "markdown",
   "source": [
    "$ O ( f(n) ) $\r\n",
    "\r\n",
    "Resultando en $ O(n^2) $"
   ],
   "metadata": {}
  },
  {
   "cell_type": "markdown",
   "source": [
    "### Ejemplo 2\r\n",
    "\r\n",
    "$ T_3(n) = n^2 + log_2(n) + 3n $\r\n",
    "\r\n",
    "$O(T_3) = n^2$"
   ],
   "metadata": {}
  },
  {
   "cell_type": "markdown",
   "source": [
    "| $f(·)$ | Nombre |\r\n",
    "| -- | -- |\r\n",
    "| $1$ | constante |\r\n",
    "| $ log\\ n $ | logarítmico |\r\n",
    "| $n$ | lineal |\r\n",
    "| $n\\ log\\ n$ | log-lineal |\r\n",
    "| $n^2$ | cuadrático |\r\n",
    "| $n^3$ | cúbico |\r\n",
    "| $a^n$ | exponencial |\r\n",
    "| $n!$ | factorial |\r\n",
    "\r\n",
    "![chart](chart.png)"
   ],
   "metadata": {}
  },
  {
   "cell_type": "markdown",
   "source": [
    "## Operaciones básicas\r\n",
    "\r\n",
    "* Asignaciones `x = 5`\r\n",
    "* Expresiones aritméticas `y = x` o `z = x + y + 6`\r\n",
    "* Expresiones lógicas `x > 0 and x <= 100`\r\n",
    "* Indexación `l[5]`\r\n",
    "\r\n"
   ],
   "metadata": {}
  },
  {
   "cell_type": "code",
   "execution_count": 4,
   "source": [
    "\r\n",
    "def ej1(n): # O(n) Lineal\r\n",
    "    total = 0 # O(1)\r\n",
    "    for i in range(n): # O(n)*1\r\n",
    "        total += i # O(1)\r\n",
    "    return total # O(1)"
   ],
   "outputs": [],
   "metadata": {}
  },
  {
   "cell_type": "code",
   "execution_count": 5,
   "source": [
    "\r\n",
    "def ej2(n): # 2*n + 2 -> O(n) Lineal\r\n",
    "    conteo = 0 # O(1)\r\n",
    "    for i in range(n): # O(n)*1\r\n",
    "        conteo += 1 # O(1)\r\n",
    "    for j in range(n): # O(n)*1\r\n",
    "        conteo += 1 # O(1)\r\n",
    "    return conteo # O(1)"
   ],
   "outputs": [],
   "metadata": {}
  },
  {
   "cell_type": "code",
   "execution_count": 6,
   "source": [
    "\r\n",
    "def ej3(n): # O(n^2) Cuadrático\r\n",
    "    conteo = 0\r\n",
    "    for i in range(n):\r\n",
    "        for j in range(n):\r\n",
    "            conteo += 1\r\n",
    "    return conteo"
   ],
   "outputs": [],
   "metadata": {}
  },
  {
   "cell_type": "code",
   "execution_count": null,
   "source": [
    "\r\n",
    "def ej4(n): # O(n) Lineal\r\n",
    "    conteo = 0\r\n",
    "    for i in range(n): # O(n)\r\n",
    "        for j in range(25): # O(1)\r\n",
    "            conteo += 1 # O(1)\r\n",
    "    return conteo"
   ],
   "outputs": [],
   "metadata": {}
  },
  {
   "cell_type": "code",
   "execution_count": null,
   "source": [
    "def ej5(n): # n*(n+1) = n^2 + n = O(n^2) Cuadrático\r\n",
    "    conteo = 0\r\n",
    "    for i in range(n): # O(n)\r\n",
    "        for j in range(i + 1): # O(n+1)\r\n",
    "            conteo += 1 # O(1)\r\n",
    "    return conteo   "
   ],
   "outputs": [],
   "metadata": {}
  }
 ],
 "metadata": {
  "orig_nbformat": 4,
  "language_info": {
   "name": "python",
   "version": "3.8.5",
   "mimetype": "text/x-python",
   "codemirror_mode": {
    "name": "ipython",
    "version": 3
   },
   "pygments_lexer": "ipython3",
   "nbconvert_exporter": "python",
   "file_extension": ".py"
  },
  "kernelspec": {
   "name": "python3",
   "display_name": "Python 3.8.5 64-bit ('base': conda)"
  },
  "interpreter": {
   "hash": "356a636ce2f51450019099ea7bc032334283464645747bec92c9e9fde053324a"
  }
 },
 "nbformat": 4,
 "nbformat_minor": 2
}