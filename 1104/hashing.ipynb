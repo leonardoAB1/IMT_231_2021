{
 "cells": [
  {
   "cell_type": "markdown",
   "metadata": {},
   "source": [
    "# Hashing\n",
    "\n",
    "Supongamos que tenemos elementos del 100 al 199.\n",
    "\n",
    "Necesito asignarles un índice en una colección (o tabla) de 100 elementos.\n",
    "\n",
    "Solución sencilla: $key\\ mod\\ 100$\n",
    "\n",
    "*Hashing* es el proceso de mapear una llave de búsqueda a un rango limitado de índices con el propósito de proveer **acceso directo**\n",
    "\n",
    "Las llaves están almacenadas en un arreglo llamado **hash table** y una **función hash** está asociada con la tabla"
   ]
  },
  {
   "cell_type": "markdown",
   "metadata": {},
   "source": [
    "### Ejemplo\n",
    "\n",
    "```765, 431, 96, 142, 579, 226, 903, 388```\n",
    "\n",
    "La Hash table tiene 13 espacios ($M = 13$)\n",
    "\n",
    "h(key) = key % M\n",
    "\n",
    "0 388  \n",
    "1  \n",
    "2 431  \n",
    "3  \n",
    "4  \n",
    "5 96  \n",
    "6 226  \n",
    "7 579  \n",
    "8 903  \n",
    "9  \n",
    "\n",
    "10  \n",
    "11 765  \n",
    "12 142  "
   ]
  },
  {
   "cell_type": "code",
   "execution_count": 1,
   "metadata": {},
   "outputs": [],
   "source": [
    "def hash_fn1(key):\n",
    "    return key % 13"
   ]
  },
  {
   "cell_type": "code",
   "execution_count": 18,
   "metadata": {},
   "outputs": [
    {
     "data": {
      "text/plain": [
       "6"
      ]
     },
     "execution_count": 18,
     "metadata": {},
     "output_type": "execute_result"
    }
   ],
   "source": [
    "hash_fn1(32)"
   ]
  },
  {
   "cell_type": "code",
   "execution_count": 7,
   "metadata": {},
   "outputs": [
    {
     "data": {
      "text/plain": [
       "5"
      ]
     },
     "execution_count": 7,
     "metadata": {},
     "output_type": "execute_result"
    }
   ],
   "source": [
    "hash_fn1(96)"
   ]
  },
  {
   "cell_type": "markdown",
   "metadata": {},
   "source": [
    "### Linear probing\n",
    "\n",
    "Es un técnica para resolución de colisiones (cuando la función hash retorna un valor igual para dos llaves distintas). Si se da una colisión al insertar, la llave se insertará en el siguiente índice no ocupado.\n",
    "\n"
   ]
  },
  {
   "cell_type": "markdown",
   "metadata": {},
   "source": [
    "### Modified Linear probing\n",
    "\n",
    "Dado que *linear probing* deriva en clusters, podemos usar una secuencia de sondeo (probe sequence). El siguiente espacio a ser considerado para inserción puede ser determinado por\n",
    "\n",
    "indice = (original + i*c) % M\n",
    "\n",
    "donde i es el intento i-gesimo en la secuencia, i = 1, 2, ... M-1"
   ]
  },
  {
   "cell_type": "markdown",
   "metadata": {},
   "source": [
    "```765, 431, 96, 142, 579, 226, 903, 388```\n",
    "\n",
    "M = 13  \n",
    "c = 3  \n",
    "h(key) = key % M  \n",
    "indice = (original + i*c) % M  \n",
    "\n",
    "0\n",
    "1 388  \n",
    "2 431  \n",
    "3  \n",
    "4  \n",
    "5 96  \n",
    "6 903  \n",
    "7 579  \n",
    "8 226  \n",
    "9  \n",
    "10  \n",
    "11 765  \n",
    "12 142  "
   ]
  },
  {
   "cell_type": "markdown",
   "metadata": {},
   "source": [
    "### Quadratic Probing\n",
    "\n",
    "indice = (original + i^2) % M\n",
    "\n",
    "```765, 431, 96, 142, 579, 226, 903, 388```\n",
    "\n",
    "M = 13  \n",
    "c = 3  \n",
    "h(key) = key % M  \n",
    "indice = (indice_original + i^2) % M  \n",
    "\n",
    "0  \n",
    "1 388  \n",
    "2 431  \n",
    "3  \n",
    "4  \n",
    "5 96  \n",
    "6 226  \n",
    "7 579  \n",
    "8   \n",
    "9  \n",
    "10 903  \n",
    "11 765  \n",
    "12 142  \n",
    "  \n",
    "h(388) => 11 => 12 => 2 => 7 => 1  \n",
    "h(648) => 11 => 12 => 2 => 7 => 1"
   ]
  },
  {
   "cell_type": "markdown",
   "metadata": {},
   "source": [
    "### Double Hashing\n",
    "\n",
    "h(key) = key % M  \n",
    "hp(key) = 1 + key % P , donde P es una constante menor a M  \n",
    "  \n",
    "M = 13  \n",
    "P = 8  \n",
    "  \n",
    "```765, 431, 96, 142, 579, 226, 903, 388```\n",
    "  \n",
    "  \n",
    "0  \n",
    "1  \n",
    "2 431  \n",
    "3 388  \n",
    "4  \n",
    "5 96  \n",
    "6 903  \n",
    "7 579  \n",
    "8 226  \n",
    "9  \n",
    "10  \n",
    "11 765  \n",
    "12 142  "
   ]
  },
  {
   "cell_type": "markdown",
   "metadata": {},
   "source": [
    "### Rehashing\n",
    "\n",
    "```765, 431, 96, 142, 579, 226, 903, 388```\n",
    "\n",
    "h(key) = key % M  \n",
    "indice = (original + i*c)) % M  \n",
    "  \n",
    "M = 17  \n",
    "c = 1   \n",
    "  \n",
    "0 765  \n",
    "1 579  \n",
    "2 903  \n",
    "3  \n",
    "4  \n",
    "5 226  \n",
    "6 431  \n",
    "7 142  \n",
    "8  \n",
    "9  \n",
    "10  \n",
    "11 96  \n",
    "12  \n",
    "13  \n",
    "14 388  \n",
    "15  \n",
    "16  \n",
    "  \n",
    "h(142) = 6 => 7  \n",
    "\n",
    "load factor = # de elementos / # total de entradas en la tabla  \n",
    "load factor ideal ~ 80%  \n",
    "\n",
    "Cuando ampliemos la tabla, una buena regla es ampliarla a $2*M$ y buscar el siguiente primo mayor. Otra opción es utilizar $2*M +1$\n"
   ]
  },
  {
   "cell_type": "markdown",
   "metadata": {},
   "source": [
    "### Chaining (open hashing)\n",
    "\n",
    "```765, 431, 96, 142, 579, 226, 903, 388```\n",
    "  \n",
    "0  \n",
    "1  \n",
    "2 431  \n",
    "3  \n",
    "4  \n",
    "5 96 -> 226  \n",
    "6  \n",
    "7 579  \n",
    "8  \n",
    "9  \n",
    "10  \n",
    "11 765  \n",
    "12 142  \n"
   ]
  },
  {
   "cell_type": "markdown",
   "metadata": {},
   "source": [
    "### Diseño de funciones hash\n",
    "\n",
    "* La computación debería ser sencilla.\n",
    "* El índice no puede ser aleatorio. Una llave siempre debería ser mapeada al mismo índice.\n",
    "* Si la llave tiene múltiples partes, cada parte debería contribuir en la computación del índice.\n",
    "* Si la función utiliza el operador módulo, el número de posiciones en la tabla debería ser primo.\n",
    "\n",
    "### Division\n",
    "\n",
    "h(key) = key % M\n",
    "\n",
    "### Truncación\n",
    "\n",
    "key = 4873152\n",
    "\n",
    "h(key) = tomar digitos en posiciones pares\n",
    "\n",
    "h(4873152) = 835\n",
    "\n",
    "### Folding\n",
    "\n",
    "key = 4873152\n",
    "\n",
    "h(key) = partir en pares y sumarlos\n",
    "\n",
    "h(4873152) = 52 + 31 + 87 + 4 = 174\n",
    "\n",
    "### Hashing de strings\n",
    "\n",
    "key = 'hashing'\n",
    "\n",
    "h(key) = sum(ASCII(key))\n",
    "\n",
    "h('hashing') = 104 + 97 + 115 + 104 + 105 + 110 + 103 = 738\n",
    "\n",
    "\n",
    "a = 27\n",
    "\n",
    "h(key) = s_0 * a^(n-1) + s_1 * a^(n-2) + ... s_(n-2) * a + s_(n-1) \n",
    "\n",
    "h(key) = 104 * 27^6 + 97 * 27^5 + 115 * 27^4 ... + 110*27 + 103\n",
    "\n"
   ]
  }
 ],
 "metadata": {
  "interpreter": {
   "hash": "356a636ce2f51450019099ea7bc032334283464645747bec92c9e9fde053324a"
  },
  "kernelspec": {
   "display_name": "Python 3.8.5 64-bit ('base': conda)",
   "name": "python3"
  },
  "language_info": {
   "codemirror_mode": {
    "name": "ipython",
    "version": 3
   },
   "file_extension": ".py",
   "mimetype": "text/x-python",
   "name": "python",
   "nbconvert_exporter": "python",
   "pygments_lexer": "ipython3",
   "version": "3.8.5"
  },
  "orig_nbformat": 4
 },
 "nbformat": 4,
 "nbformat_minor": 2
}
