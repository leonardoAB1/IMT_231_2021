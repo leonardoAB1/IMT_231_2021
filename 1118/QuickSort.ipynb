{
 "cells": [
  {
   "cell_type": "markdown",
   "metadata": {},
   "source": [
    "# Advanced Sorting\n",
    "\n",
    "## Quicksort\n",
    "\n",
    "![quicksort](quicksort.png)\n",
    "\n",
    "*p* = llave de pivot  \n",
    "L = subgrupo con valores menores a p  \n",
    "G = subgrupo con valores mayores o igual a p  "
   ]
  },
  {
   "cell_type": "markdown",
   "metadata": {},
   "source": [
    "![quicksort_2](quicksort_2.png)\n",
    "\n",
    "L (< pivot)    pivot    G (>= pivot)\n",
    "               pos\n",
    "```\n",
    "p  I                    D\n",
    "0  1  2  3  4  5  6  7  8 \n",
    "```"
   ]
  },
  {
   "cell_type": "code",
   "execution_count": null,
   "metadata": {},
   "outputs": [],
   "source": [
    "def quickSort(coleccion):\n",
    "    quickSortRecursivo(coleccion, 0, len(coleccion)-1)\n",
    "\n",
    "def quickSortRecursivo(coleccion, inicio, fin):\n",
    "    # caso base\n",
    "    if incio >= fin:\n",
    "        return\n",
    "    else:\n",
    "        pivot = coleccion[inicio]\n",
    "\n",
    "        pos = secuencia_particion(coleccion, inicio, fin):\n",
    "\n",
    "        quickSortRecursivo(coleccion, inicio, pos - 1)\n",
    "        quickSortRecursivo(coleccion, pos + 1, fin)\n",
    "\n",
    "def secuencia_particion(coleccion, inicio, fin):\n",
    "    # L = []\n",
    "    # G = []\n",
    "\n",
    "    # for elemento in coleccion:\n",
    "    #     if elemento < pivot:\n",
    "    #         L.append(elemento)\n",
    "    #     else:\n",
    "    #         G.append(elemento)\n",
    "\n",
    "    # lista_ordenada = L.extend([pivot, G])\n",
    "    \n",
    "    pivot = coleccion[inicio]\n",
    "\n",
    "    izquierda = inicio + 1\n",
    "    derecha = fin\n",
    "\n",
    "    while izquierda <= derecha:\n",
    "        while izquierda < derecha and coleccion[izquierda] < pivot:\n",
    "            izquierda += 1\n",
    "\n",
    "        while derecha >= izquierda and coleccion[derecha] >= pivot:\n",
    "            derecha -= 1\n",
    "\n",
    "        if izquierda < derecha:\n",
    "            tmp = coleccion[izquierda]\n",
    "            coleccion[izquierda] = coleccion[derecha]\n",
    "            coleccion[derecha] = tmp\n",
    "    \n",
    "    if derecha != inicio:\n",
    "        coleccion[inicio] = coleccion[derecha]\n",
    "        coleccion[derecha] = pivot\n",
    "    \n",
    "    return derecha"
   ]
  }
 ],
 "metadata": {
  "interpreter": {
   "hash": "356a636ce2f51450019099ea7bc032334283464645747bec92c9e9fde053324a"
  },
  "kernelspec": {
   "display_name": "Python 3.8.5 64-bit ('base': conda)",
   "language": "python",
   "name": "python3"
  },
  "language_info": {
   "name": "python",
   "version": "3.8.5"
  },
  "orig_nbformat": 4
 },
 "nbformat": 4,
 "nbformat_minor": 2
}
