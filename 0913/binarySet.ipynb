{
 "cells": [
  {
   "cell_type": "markdown",
   "source": [
    "# Binary Set\r\n",
    "\r\n",
    "| Operación | Desordenado | Mejorado |\r\n",
    "| -- | -- | -- |\r\n",
    "| `set()` | $O(1)$ | $O(1)$ |\r\n",
    "| `len(s)` | $O(1)$ | $O(1)$ |\r\n",
    "| `x in s` | $O(n)$ | $O(log\\ n)$ |\r\n",
    "| `s.add(x)` | $O(n)$ | $O(n)$ |\r\n",
    "| `s.isSubsetOf(t)` | $O(n^2)$ |   |\r\n",
    "| `s == t` | $O(n^2)$ | $O(n)$ |\r\n",
    "| `s.union(t)` | $O(n^2)$ |   |"
   ],
   "metadata": {}
  },
  {
   "cell_type": "markdown",
   "source": [],
   "metadata": {}
  }
 ],
 "metadata": {
  "orig_nbformat": 4,
  "language_info": {
   "name": "python"
  }
 },
 "nbformat": 4,
 "nbformat_minor": 2
}