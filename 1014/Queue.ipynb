{
 "cells": [
  {
   "cell_type": "markdown",
   "metadata": {},
   "source": [
    "# Queue (Cola)\n",
    "\n",
    "Estructura de datos lineal (lista especializada) en los que los elementos pueden ser agregados en un extremo y removidos del opuesto. También conocido como una estructura o lista FIFO (first in, first out)\n",
    "\n",
    "![queue](queue.png)"
   ]
  },
  {
   "cell_type": "markdown",
   "metadata": {},
   "source": [
    "| Método | Argumentos | Comportamiento |\n",
    "| -- | -- | -- |\n",
    "| Queue | No tiene argumentos | Crea y retorna un queue vacío |\n",
    "| isEmpty | No tiene argumentos | Retorna un booleano indicando si el queue está vacío o no |\n",
    "| length | No tiene argumentos | Retorna el número de elementos en el queue |\n",
    "| enqueue(e) | e: elemento | Agrega el elemento al \"back of the queue\" |\n",
    "| dequeue | No tiene argumentos | Remueve y retorna el elemento en el \"front of the queue\". No se puede hacer dequeue de un queue vacío |"
   ]
  },
  {
   "cell_type": "markdown",
   "metadata": {},
   "source": [
    "# Queue con Array circular\n",
    "\n",
    "![circular1](circular1.png)\n",
    "\n",
    "## Enqueue\n",
    "![circular2](circular_enqueue.png)\n",
    "\n",
    "## Dequeue\n",
    "![circular3](circular_dequeue.png)"
   ]
  }
 ],
 "metadata": {
  "interpreter": {
   "hash": "356a636ce2f51450019099ea7bc032334283464645747bec92c9e9fde053324a"
  },
  "kernelspec": {
   "display_name": "Python 3.8.5 64-bit ('base': conda)",
   "name": "python3"
  },
  "language_info": {
   "codemirror_mode": {
    "name": "ipython",
    "version": 3
   },
   "file_extension": ".py",
   "mimetype": "text/x-python",
   "name": "python",
   "nbconvert_exporter": "python",
   "pygments_lexer": "ipython3",
   "version": "3.8.5"
  },
  "orig_nbformat": 4
 },
 "nbformat": 4,
 "nbformat_minor": 2
}
