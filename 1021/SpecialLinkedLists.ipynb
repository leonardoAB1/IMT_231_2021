{
 "cells": [
  {
   "cell_type": "markdown",
   "metadata": {},
   "source": [
    "# Doubly Linked Lists"
   ]
  },
  {
   "cell_type": "code",
   "execution_count": 1,
   "metadata": {},
   "outputs": [],
   "source": [
    "class DNode:\n",
    "    def __init__(self, data):\n",
    "        self.data = data\n",
    "        self.next = None\n",
    "        self.prev = None\n",
    "\n",
    "class Node:\n",
    "    def __init__(self, data):\n",
    "        self.data = data\n",
    "        self.next = next"
   ]
  },
  {
   "cell_type": "code",
   "execution_count": 29,
   "metadata": {},
   "outputs": [],
   "source": [
    "def traversal(head):\n",
    "    nodo_actual = head\n",
    "    while nodo_actual is not None:\n",
    "        print(nodo_actual.data)\n",
    "        nodo_actual = nodo_actual.next"
   ]
  },
  {
   "cell_type": "code",
   "execution_count": 6,
   "metadata": {},
   "outputs": [],
   "source": [
    "def traversal_from_tail(tail):\n",
    "    nodo_actual = tail\n",
    "    while nodo_actual is not None:\n",
    "        print(nodo_actual.data)\n",
    "        nodo_actual = nodo_actual.prev"
   ]
  },
  {
   "cell_type": "code",
   "execution_count": 10,
   "metadata": {},
   "outputs": [],
   "source": [
    "def buscar(head, target):\n",
    "    if head is None:\n",
    "        return False\n",
    "\n",
    "    nodo_actual = head\n",
    "\n",
    "    if target < nodo_actual.data:\n",
    "        while nodo_actual is not None and target <= nodo_actual.data:\n",
    "            if target == nodo_actual.data:\n",
    "                return True\n",
    "            else:\n",
    "                nodo_actual = nodo_actual.prev\n",
    "    else:\n",
    "        while nodo_actual is not None and target >= nodo_actual.data:\n",
    "            if target == nodo_actual.data:\n",
    "                return True\n",
    "            else:\n",
    "                nodo_actual = nodo_actual.next\n",
    "\n",
    "    return False"
   ]
  },
  {
   "cell_type": "code",
   "execution_count": 3,
   "metadata": {},
   "outputs": [],
   "source": [
    "n1 = DNode(0)\n",
    "n2 = DNode(1)\n",
    "n3 = DNode(2)\n",
    "n4 = DNode(7)\n",
    "n5 = DNode(8)\n",
    "n6 = DNode(9)"
   ]
  },
  {
   "cell_type": "code",
   "execution_count": 4,
   "metadata": {},
   "outputs": [],
   "source": [
    "n1.next = n2\n",
    "n2.next = n3\n",
    "n2.prev = n1\n",
    "n3.next = n4\n",
    "n3.prev = n2\n",
    "n4.next = n5\n",
    "n4.prev = n3\n",
    "n5.next = n6\n",
    "n5.prev = n4\n",
    "n6.prev = n5"
   ]
  },
  {
   "cell_type": "code",
   "execution_count": 7,
   "metadata": {},
   "outputs": [
    {
     "name": "stdout",
     "output_type": "stream",
     "text": [
      "0\n",
      "1\n",
      "2\n",
      "7\n",
      "8\n",
      "9\n"
     ]
    }
   ],
   "source": [
    "traversal(n1)"
   ]
  },
  {
   "cell_type": "code",
   "execution_count": 8,
   "metadata": {},
   "outputs": [
    {
     "name": "stdout",
     "output_type": "stream",
     "text": [
      "9\n",
      "8\n",
      "7\n",
      "2\n",
      "1\n",
      "0\n"
     ]
    }
   ],
   "source": [
    "traversal_from_tail(n6)"
   ]
  },
  {
   "cell_type": "code",
   "execution_count": 12,
   "metadata": {},
   "outputs": [
    {
     "data": {
      "text/plain": [
       "True"
      ]
     },
     "execution_count": 12,
     "metadata": {},
     "output_type": "execute_result"
    }
   ],
   "source": [
    "buscar(n1, 8)"
   ]
  },
  {
   "cell_type": "code",
   "execution_count": 19,
   "metadata": {},
   "outputs": [],
   "source": [
    "def insert(head, tail, value):\n",
    "    nuevo_nodo = DNode(value)\n",
    "    if head is None:\n",
    "        head = nuevo_nodo\n",
    "        tail = nuevo_nodo\n",
    "    elif value < head.data:\n",
    "        nuevo_nodo.next = head\n",
    "        head.prev = nuevo_nodo\n",
    "        nuevo_nodo = head\n",
    "    elif value > tail.data:\n",
    "        nuevo_nodo.prev = tail\n",
    "        tail.next = nuevo_nodo\n",
    "        tail = nuevo_nodo\n",
    "    else:\n",
    "        nodo_actual = head\n",
    "        while nodo_actual is not None and nodo_actual.data < value:\n",
    "            nodo_actual = nodo_actual.next\n",
    "\n",
    "        nuevo_nodo.next = nodo_actual\n",
    "        nuevo_nodo.prev = nodo_actual.prev\n",
    "        nodo_actual.prev.next = nuevo_nodo\n",
    "        nodo_actual.prev = nuevo_nodo"
   ]
  },
  {
   "cell_type": "code",
   "execution_count": 13,
   "metadata": {},
   "outputs": [
    {
     "name": "stdout",
     "output_type": "stream",
     "text": [
      "0\n",
      "1\n",
      "2\n",
      "7\n",
      "8\n",
      "9\n"
     ]
    }
   ],
   "source": [
    "traversal(n1)"
   ]
  },
  {
   "cell_type": "code",
   "execution_count": 16,
   "metadata": {},
   "outputs": [],
   "source": [
    "insert(n1, n6, 6)"
   ]
  },
  {
   "cell_type": "code",
   "execution_count": 17,
   "metadata": {},
   "outputs": [
    {
     "name": "stdout",
     "output_type": "stream",
     "text": [
      "0\n",
      "1\n",
      "2\n",
      "6\n",
      "7\n",
      "8\n",
      "9\n"
     ]
    }
   ],
   "source": [
    "traversal(n1)"
   ]
  },
  {
   "cell_type": "code",
   "execution_count": 20,
   "metadata": {},
   "outputs": [],
   "source": [
    "insert(n1, n6, 12)"
   ]
  },
  {
   "cell_type": "code",
   "execution_count": 21,
   "metadata": {},
   "outputs": [
    {
     "name": "stdout",
     "output_type": "stream",
     "text": [
      "0\n",
      "1\n",
      "2\n",
      "6\n",
      "7\n",
      "8\n",
      "9\n",
      "12\n"
     ]
    }
   ],
   "source": [
    "traversal(n1)"
   ]
  },
  {
   "cell_type": "code",
   "execution_count": 22,
   "metadata": {},
   "outputs": [],
   "source": [
    "insert(n1, n6, -2)"
   ]
  },
  {
   "cell_type": "code",
   "execution_count": 23,
   "metadata": {},
   "outputs": [
    {
     "name": "stdout",
     "output_type": "stream",
     "text": [
      "0\n",
      "1\n",
      "2\n",
      "6\n",
      "7\n",
      "8\n",
      "9\n",
      "12\n"
     ]
    }
   ],
   "source": [
    "traversal(n1)"
   ]
  },
  {
   "cell_type": "code",
   "execution_count": 24,
   "metadata": {},
   "outputs": [
    {
     "name": "stdout",
     "output_type": "stream",
     "text": [
      "9\n",
      "8\n",
      "7\n",
      "6\n",
      "2\n",
      "1\n",
      "0\n",
      "-2\n"
     ]
    }
   ],
   "source": [
    "traversal_from_tail(n6)"
   ]
  },
  {
   "cell_type": "markdown",
   "metadata": {},
   "source": [
    "# Circular Linked List"
   ]
  },
  {
   "cell_type": "markdown",
   "metadata": {},
   "source": [
    "![circular](circular.png)"
   ]
  },
  {
   "cell_type": "code",
   "execution_count": 26,
   "metadata": {},
   "outputs": [],
   "source": [
    "m1 = Node(5)\n",
    "m2 = Node(3)\n",
    "m3 = Node(8)\n",
    "m4 = Node(12)\n",
    "m5 = Node(7)"
   ]
  },
  {
   "cell_type": "code",
   "execution_count": 27,
   "metadata": {},
   "outputs": [],
   "source": [
    "m1.next = m2\n",
    "m2.next = m3\n",
    "m3.next = m4\n",
    "m4.next = m5\n",
    "m5.next = m1"
   ]
  },
  {
   "cell_type": "code",
   "execution_count": 2,
   "metadata": {},
   "outputs": [],
   "source": [
    "def circular_traversal(listRef):\n",
    "    nodo_actual = listRef\n",
    "    terminado = listRef is None\n",
    "    while not terminado:\n",
    "        nodo_actual = nodo_actual.next\n",
    "        print(nodo_actual.data)\n",
    "        terminado = nodo_actual is listRef"
   ]
  },
  {
   "cell_type": "code",
   "execution_count": 36,
   "metadata": {},
   "outputs": [
    {
     "name": "stdout",
     "output_type": "stream",
     "text": [
      "5\n",
      "3\n",
      "8\n",
      "12\n",
      "7\n"
     ]
    }
   ],
   "source": [
    "circular_traversal(m5)"
   ]
  },
  {
   "cell_type": "code",
   "execution_count": 37,
   "metadata": {},
   "outputs": [],
   "source": [
    "def circular_search(listRef, target):\n",
    "    nodo_actual = listRef\n",
    "    terminado = listRef is None\n",
    "    while not terminado:\n",
    "        nodo_actual = nodo_actual.next\n",
    "        if nodo_actual.data == target:\n",
    "            return True\n",
    "        else:\n",
    "            terminado = nodo_actual is listRef\n",
    "            # si lista circular esta ordenada\n",
    "            # terminado = nodo_actual is listRef or nodo_actual.data > target\n",
    "    return False"
   ]
  },
  {
   "cell_type": "code",
   "execution_count": 47,
   "metadata": {},
   "outputs": [
    {
     "data": {
      "text/plain": [
       "False"
      ]
     },
     "execution_count": 47,
     "metadata": {},
     "output_type": "execute_result"
    }
   ],
   "source": [
    "circular_search(m1, 0)"
   ]
  },
  {
   "cell_type": "code",
   "execution_count": 3,
   "metadata": {},
   "outputs": [],
   "source": [
    "class CircularLinkedList:\n",
    "    def __init__(self, listRef=None):\n",
    "        self.listRef = listRef"
   ]
  },
  {
   "cell_type": "code",
   "execution_count": 4,
   "metadata": {},
   "outputs": [],
   "source": [
    "def circular_add(cll, value):\n",
    "    nuevo_nodo = Node(value)\n",
    "    if cll.listRef is None:\n",
    "        cll.listRef = nuevo_nodo\n",
    "        nuevo_nodo.next = nuevo_nodo\n",
    "    elif value < cll.listRef.next.data: # insert at the front\n",
    "        nuevo_nodo.next = cll.listRef.next\n",
    "        cll.listRef.next = nuevo_nodo\n",
    "    elif value > cll.listRef.data: # insert at the back\n",
    "        nuevo_nodo.next = cll.listRef.next\n",
    "        cll.listRef.next = nuevo_nodo\n",
    "        cll.listRef = nuevo_nodo\n",
    "    else: # insert in the middle\n",
    "        pred = None\n",
    "        nodo_actual = cll.listRef\n",
    "        terminado = cll.listRef is None\n",
    "        while not terminado:\n",
    "            pred = nodo_actual\n",
    "            nodo_actual = nodo_actual.next\n",
    "            terminado = nodo_actual is cll.listRef or nodo_actual.data > value\n",
    "        nuevo_nodo.next = nodo_actual\n",
    "        pred.next = nuevo_nodo\n",
    "\n",
    "\n"
   ]
  },
  {
   "cell_type": "code",
   "execution_count": 5,
   "metadata": {},
   "outputs": [],
   "source": [
    "cl = CircularLinkedList()"
   ]
  },
  {
   "cell_type": "code",
   "execution_count": 16,
   "metadata": {},
   "outputs": [
    {
     "name": "stdout",
     "output_type": "stream",
     "text": [
      "-2\n",
      "3\n",
      "4\n",
      "5\n",
      "8\n"
     ]
    }
   ],
   "source": [
    "circular_traversal(cl.listRef)"
   ]
  },
  {
   "cell_type": "code",
   "execution_count": 15,
   "metadata": {},
   "outputs": [],
   "source": [
    "circular_add(cl, 4)"
   ]
  },
  {
   "cell_type": "markdown",
   "metadata": {},
   "source": [
    "# Multi-linked Lists"
   ]
  },
  {
   "cell_type": "markdown",
   "metadata": {},
   "source": [
    "![multilinked](multilinked.png)"
   ]
  },
  {
   "cell_type": "code",
   "execution_count": 25,
   "metadata": {},
   "outputs": [],
   "source": [
    "class NodoMListaEstudiante:\n",
    "    def __init__(self, data):\n",
    "        self.data = data\n",
    "        self.nextPorId = None\n",
    "        self.nextPorNombre = None"
   ]
  },
  {
   "cell_type": "markdown",
   "metadata": {},
   "source": [
    "## Matriz dispersa con Multi-Linked Lists\n",
    "\n",
    "![sparse](mlinked_sparse.png)"
   ]
  },
  {
   "cell_type": "code",
   "execution_count": 26,
   "metadata": {},
   "outputs": [],
   "source": [
    "class NodoMatrizMLista:\n",
    "    def __init__(self, row, col, data):\n",
    "        self.row = row\n",
    "        self.col = col\n",
    "        self.data = data\n",
    "        self.nextRow = None\n",
    "        self.nextCol = None"
   ]
  }
 ],
 "metadata": {
  "interpreter": {
   "hash": "356a636ce2f51450019099ea7bc032334283464645747bec92c9e9fde053324a"
  },
  "kernelspec": {
   "display_name": "Python 3.8.5 64-bit ('base': conda)",
   "name": "python3"
  },
  "language_info": {
   "codemirror_mode": {
    "name": "ipython",
    "version": 3
   },
   "file_extension": ".py",
   "mimetype": "text/x-python",
   "name": "python",
   "nbconvert_exporter": "python",
   "pygments_lexer": "ipython3",
   "version": "3.8.5"
  },
  "orig_nbformat": 4
 },
 "nbformat": 4,
 "nbformat_minor": 2
}
