{
 "cells": [
  {
   "cell_type": "markdown",
   "source": [
    "# Matrix\r\n",
    "\r\n",
    "| Método | Argumentos | Comportamiento |\r\n",
    "| -- | -- | -- |\r\n",
    "| Matrix(f, c) | f: número de filas, c: número de columnas | Crea una matriz conteniendo `f` filas y `c` columnas con cada elemento inicializado a 0 |\r\n",
    "| numRows() | No tiene argumentos | Devuelve el número de filas |\r\n",
    "| numCols() | No tiene argumentos | Devuelve el número de columnas |\r\n",
    "| getitem(f, c) | f: índice de fila, c: índice de columna | Retorna el valor almacenado en el elemento dado por los índices. Los índices tienen que estar dentro del rango válido |\r\n",
    "| setitem(f, c, v) | f: índice de fila, c: índice de columna, v: valor escalar | Asigna el valor escalar al elemento dado por los índices. Los índices tienen que estar dentro del rango válido |\r\n",
    "| scaleBy(v) | v: valor escalar | Multiplica cada elemento de la matriz por el valor escalar. La matriz es modificada por este método | \r\n",
    "| transpose() | No tiene argumentos | Retorna una nueva matriz que es la transposición de la matriz original |\r\n",
    "| add(rhsMatrix) | rhsMatrix: Matriz derecha | Crea y retorna una nueva matriz que es el resultado de la suma de `rhsMatrix` a esta matriz. El tamaño de ambas matrices debe ser el mismo |\r\n",
    "| subtract(rhsMatrix) | rhsMatrix: Matriz derecha | Mismo comportamiento que `add` pero sustrae las dos matrices |\r\n",
    "| multiply(rhsMatrix) | rhsMatrix: Matriz derecha | Crea y retorna una nueva matriz que es el resultado de multiplicar esta matriz por `rhsMatrix`. Las matrices deben tener las dimensiones adecuadas para esta operación <br>`m1 [i, j]`<br>`m2 [k, l]`<br>`m1 x m2 j == k`<br>`m3 [i, l]`|\r\n",
    "\r\n"
   ],
   "metadata": {}
  },
  {
   "cell_type": "markdown",
   "source": [],
   "metadata": {}
  }
 ],
 "metadata": {
  "orig_nbformat": 4,
  "language_info": {
   "name": "python"
  }
 },
 "nbformat": 4,
 "nbformat_minor": 2
}