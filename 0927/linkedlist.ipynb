{
 "cells": [
  {
   "cell_type": "markdown",
   "metadata": {},
   "source": [
    "# Singly Linked List\n",
    "Una estructura enlazada es una coleccion de objetos llamados NODOS\n",
    "que almacenan datos y al menos una referencia a otro NODO, llamada\n",
    "ENLACE. En el caso particular de una lista enlazada, los enlaces\n",
    "son lineales. El último nodo, llamado cola o tail contiene una\n",
    "referencia a None (null reference)"
   ]
  },
  {
   "cell_type": "code",
   "execution_count": 3,
   "metadata": {},
   "outputs": [
    {
     "name": "stdout",
     "output_type": "stream",
     "text": [
      "35\n",
      "52\n",
      "73\n"
     ]
    }
   ],
   "source": [
    "from linkedlist import Node\n",
    "a = Node(35)\n",
    "b = Node(52)\n",
    "c = Node(73)\n",
    "\n",
    "a.next = b\n",
    "b.next = c\n",
    "\n",
    "print(a.data)\n",
    "print(a.next.data)\n",
    "print(a.next.next.data)\n"
   ]
  },
  {
   "cell_type": "code",
   "execution_count": 6,
   "metadata": {},
   "outputs": [
    {
     "name": "stdout",
     "output_type": "stream",
     "text": [
      "35\n",
      "52\n",
      "73\n"
     ]
    }
   ],
   "source": [
    "def traversal(head): # O(n)\n",
    "    current = head\n",
    "    while current is not None:\n",
    "        print(current.data)\n",
    "        current = current.next\n",
    "\n",
    "traversal(a)"
   ]
  },
  {
   "cell_type": "code",
   "execution_count": null,
   "metadata": {},
   "outputs": [],
   "source": [
    "def unorderedSearch(head, target): # O(n)\n",
    "    current = head\n",
    "    while current is not None and current.data != target:\n",
    "        current = current.next\n",
    "    return current is not None"
   ]
  },
  {
   "cell_type": "code",
   "execution_count": 7,
   "metadata": {},
   "outputs": [],
   "source": [
    "def prepend(head, item):\n",
    "    new = Node(item)\n",
    "    new.next = head\n",
    "    head = new\n",
    "    return head\n",
    "\n",
    "nuevaLista = prepend(a, 89)"
   ]
  },
  {
   "cell_type": "code",
   "execution_count": 10,
   "metadata": {},
   "outputs": [
    {
     "name": "stdout",
     "output_type": "stream",
     "text": [
      "89\n",
      "35\n",
      "52\n",
      "73\n"
     ]
    }
   ],
   "source": [
    "traversal(nuevaLista)"
   ]
  },
  {
   "cell_type": "code",
   "execution_count": 17,
   "metadata": {},
   "outputs": [],
   "source": [
    "def remove(head, target):\n",
    "    pred = None\n",
    "    current = head\n",
    "    while current is not None and current.data != target:\n",
    "        pred = current\n",
    "        current = current.next\n",
    "\n",
    "    if current is not None:\n",
    "        if current is head:\n",
    "            head = current.next\n",
    "        else:            \n",
    "            pred.next = current.next\n",
    "\n",
    "    return head"
   ]
  },
  {
   "cell_type": "code",
   "execution_count": 12,
   "metadata": {},
   "outputs": [
    {
     "name": "stdout",
     "output_type": "stream",
     "text": [
      "89\n",
      "35\n",
      "73\n"
     ]
    }
   ],
   "source": [
    "lista_sin_52 = remove(nuevaLista, 52)\n",
    "traversal(lista_sin_52)"
   ]
  },
  {
   "cell_type": "code",
   "execution_count": 18,
   "metadata": {},
   "outputs": [],
   "source": [
    "lista_sin_73 = remove(c, 73)"
   ]
  },
  {
   "cell_type": "code",
   "execution_count": 19,
   "metadata": {},
   "outputs": [],
   "source": [
    "traversal(lista_sin_73)"
   ]
  },
  {
   "cell_type": "code",
   "execution_count": 20,
   "metadata": {},
   "outputs": [],
   "source": [
    "remove(None, 89)"
   ]
  }
 ],
 "metadata": {
  "kernelspec": {
   "display_name": "Python 3.8.1 64-bit",
   "metadata": {
    "interpreter": {
     "hash": "d2e6800a470919b0c52926840bbbe5da9f1946a991f9382dd0825da2d3bd93de"
    }
   },
   "name": "python3"
  },
  "language_info": {
   "codemirror_mode": {
    "name": "ipython",
    "version": 3
   },
   "file_extension": ".py",
   "mimetype": "text/x-python",
   "name": "python",
   "nbconvert_exporter": "python",
   "pygments_lexer": "ipython3",
   "version": "3.8.1-final"
  },
  "orig_nbformat": 2
 },
 "nbformat": 4,
 "nbformat_minor": 2
}
