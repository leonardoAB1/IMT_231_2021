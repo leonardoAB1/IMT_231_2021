{
 "cells": [
  {
   "cell_type": "markdown",
   "source": [
    "# Multi-dimensional Arrays\r\n",
    "\r\n",
    "| Métodos | Argumento | Comportamiento |\r\n",
    "| ---- | -- | -- |\r\n",
    "| MultiArray(d1, d2, ..., dn) | d1-dn: Número de elelemntos en cada dimensión. | Crea un arreglo multidimensional de elementos organizados en *n*  dimensiones, especificados por el número de argumentos (mayores a 1). Cada argumento individual debe ser mayor que 0. Las dimensiones son especificadas de menor a mayor grado, donde $d_1$ es la dimensioón mas alta y $d_n$ la más baja.|\r\n",
    "| dins() |  No tiene argumentos | Retorna el número de dimensiones del arreglo |\r\n",
    "| length(din) | dim: dimensión | Retorna el tamaño de la dimensión dada. Las dimensiones individuales están numeradas a partir de 1, donde 1 representa la primera o más alta dimension posible de arreglo. En un arreglo de 3 dimensiones, 1 indica el número de tablas, 2 indica el número de filas y 3 el número de columnas. |\r\n",
    "| clear(v) | v: value | Asigna el valor dado a cada uno de los elelemtnos del arreglo |\r\n",
    "| getitem($i_1$, $i_2$, ..., $i_n$, v) | $i_1...i_n$: indices, v:valores | |\r\n",
    "| setitem($i_1$, $i_2$, ..., $i_n$, v) | $i_1...i_n$: indices, v:valores| |\r\n",
    "\r\n",
    "$i_x(i_1,...,i_n)=i_1*f_1+i_2*f_2+...+i_{n-1}*f_{n-1}$"
   ],
   "metadata": {}
  }
 ],
 "metadata": {
  "orig_nbformat": 4,
  "language_info": {
   "name": "python"
  }
 },
 "nbformat": 4,
 "nbformat_minor": 2
}