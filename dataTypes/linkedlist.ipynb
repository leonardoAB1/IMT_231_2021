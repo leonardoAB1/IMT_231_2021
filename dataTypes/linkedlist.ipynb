{
 "cells": [
  {
   "cell_type": "markdown",
   "source": [
    "# Single Linked List\r\n",
    "Una lista enlazada es una colección de objetos, llamados nodos, que contienen datos y almenos una referencia al siguiente nodo, llamada ENLACE. En el caso particular de una lista enlazada, los enlaces son lineales."
   ],
   "metadata": {}
  },
  {
   "cell_type": "code",
   "execution_count": 1,
   "source": [
    "from linkedlist import Node\r\n",
    "\r\n",
    "a=Node(35)\r\n",
    "b=Node(52)\r\n",
    "c=Node(73)\r\n",
    "\r\n",
    "a.next=b\r\n",
    "b.next=c\r\n",
    "\r\n",
    "print(a.data)\r\n",
    "print(a.next.data)\r\n",
    "print(a.next.next.data)\r\n"
   ],
   "outputs": [
    {
     "output_type": "stream",
     "name": "stdout",
     "text": [
      "35\n",
      "52\n",
      "73\n",
      "35\n",
      "52\n",
      "73\n"
     ]
    }
   ],
   "metadata": {}
  },
  {
   "cell_type": "code",
   "execution_count": 2,
   "source": [
    "def traversal(head): #O(n)\r\n",
    "    current=head\r\n",
    "    while current is not None:\r\n",
    "        print(current.data)\r\n",
    "        current=current.next\r\n",
    "\r\n",
    "traversal(a)"
   ],
   "outputs": [
    {
     "output_type": "stream",
     "name": "stdout",
     "text": [
      "35\n",
      "52\n",
      "73\n"
     ]
    }
   ],
   "metadata": {}
  },
  {
   "cell_type": "code",
   "execution_count": 3,
   "source": [
    "def unorderedSearch(head, target): #O(n)\r\n",
    "    current=head\r\n",
    "    #El bucle se rompe si encontramos el nodo o terminamos la lista\r\n",
    "    while current is not None and current.data != target:\r\n",
    "        current=current.next\r\n",
    "    return current is not None"
   ],
   "outputs": [],
   "metadata": {}
  },
  {
   "cell_type": "code",
   "execution_count": 4,
   "source": [
    "def prepend(head, item):\r\n",
    "    #Crear un nuevo nodo que se convierte en la nueva cabeza\r\n",
    "    new=Node(item)\r\n",
    "    new.next=head\r\n",
    "    head=new\r\n",
    "    return head\r\n",
    "    \r\n",
    "nuevaLista=prepend(a, 89)"
   ],
   "outputs": [],
   "metadata": {}
  },
  {
   "cell_type": "code",
   "execution_count": 5,
   "source": [
    "traversal(nuevaLista)"
   ],
   "outputs": [
    {
     "output_type": "stream",
     "name": "stdout",
     "text": [
      "89\n",
      "35\n",
      "52\n",
      "73\n"
     ]
    }
   ],
   "metadata": {}
  },
  {
   "cell_type": "code",
   "execution_count": 6,
   "source": [
    "def remove(head, target):\r\n",
    "    pred=None\r\n",
    "    current=head\r\n",
    "    while current is not None and current.data != target:\r\n",
    "        pred=current\r\n",
    "        current=current.next\r\n",
    "        \r\n",
    "    #saltar al node a eliminar\r\n",
    "    if current is not None:\r\n",
    "        if current is head:\r\n",
    "            head=current.next\r\n",
    "        else:\r\n",
    "            pred.next=current.next\r\n",
    "    return head"
   ],
   "outputs": [],
   "metadata": {}
  },
  {
   "cell_type": "code",
   "execution_count": 7,
   "source": [
    "def insert(head, item): #O(n)\r\n",
    "    pred = None\r\n",
    "    current_node = head._head\r\n",
    "    while current_node is not None and item > current_node.data:\r\n",
    "        pred = current_node\r\n",
    "        current_node = current_node.next\r\n",
    "        \r\n",
    "    new_node = _BagNode(item)\r\n",
    "    new_node.next = current_node\r\n",
    "    \r\n",
    "    if current_node is head.head:\r\n",
    "        head._head=new_node\r\n",
    "    else:\r\n",
    "        pred.next = new_node"
   ],
   "outputs": [],
   "metadata": {}
  },
  {
   "cell_type": "code",
   "execution_count": 11,
   "source": [
    "def sortedSearch(head, target): #O(n)\r\n",
    "    current_node = head\r\n",
    "    while current_node is not None and current_node.data > target:\r\n",
    "        if current_node.data == target:\r\n",
    "            return True\r\n",
    "        else:\r\n",
    "            current_node = current_node.next\r\n",
    "    return False"
   ],
   "outputs": [],
   "metadata": {}
  },
  {
   "cell_type": "code",
   "execution_count": 8,
   "source": [
    "lista_sin_52=remove(nuevaLista, 52)\r\n",
    "traversal(lista_sin_52)"
   ],
   "outputs": [
    {
     "output_type": "stream",
     "name": "stdout",
     "text": [
      "89\n",
      "35\n",
      "73\n"
     ]
    }
   ],
   "metadata": {}
  },
  {
   "cell_type": "code",
   "execution_count": 9,
   "source": [
    "lista_sin_73=remove(c, 73)\r\n",
    "traversal(lista_sin_73)"
   ],
   "outputs": [],
   "metadata": {}
  },
  {
   "cell_type": "code",
   "execution_count": 10,
   "source": [
    "remove(None, 89)"
   ],
   "outputs": [],
   "metadata": {}
  }
 ],
 "metadata": {
  "orig_nbformat": 4,
  "language_info": {
   "name": "python",
   "version": "3.9.6",
   "mimetype": "text/x-python",
   "codemirror_mode": {
    "name": "ipython",
    "version": 3
   },
   "pygments_lexer": "ipython3",
   "nbconvert_exporter": "python",
   "file_extension": ".py"
  },
  "kernelspec": {
   "name": "python3",
   "display_name": "Python 3.9.6 64-bit ('py39': conda)"
  },
  "interpreter": {
   "hash": "8a1dc5df9880934e0dd062a8d308138585b2fb9c45286a326c45e8b909761c85"
  }
 },
 "nbformat": 4,
 "nbformat_minor": 2
}