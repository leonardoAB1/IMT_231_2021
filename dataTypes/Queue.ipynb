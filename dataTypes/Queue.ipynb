{
 "cells": [
  {
   "cell_type": "markdown",
   "metadata": {},
   "source": [
    "# Queue (Cola)\n",
    "\n",
    "Estructura de datos lineal (lista especializada) en los que los elementos pueden ser agregados en un extremo y removidos del opuesto. También conocido como estructura o lista FIFO(First In, First Out)."
   ]
  },
  {
   "cell_type": "markdown",
   "metadata": {},
   "source": [
    "|Método|Argumentos|Comportamiento|\n",
    "| -- | -- | -- |\n",
    "| Queue | No tiene argumentos | Crea y retorna un queue vacío |\n",
    "| isEmpty | No tiene argumentos | Retorna un booleano indicando si el queue está vacío o no |\n",
    "| lenght | No tiene argumentos | Retorna el número de elementos en el queue|\n",
    "| enqueue(e)|e:elemento| Agrega un elemento al \"back of the queque\"|\n",
    "| dequeue| No tiene argumentos| Remueve y retorna aun elemento en el \"front of the queue\". No se puede hacer dequeue de un queue vacío.|"
   ]
  },
  {
   "cell_type": "markdown",
   "metadata": {},
   "source": [
    "# Queue con Array Circular"
   ]
  },
  {
   "cell_type": "code",
   "execution_count": 3,
   "metadata": {},
   "outputs": [
    {
     "name": "stdout",
     "output_type": "stream",
     "text": [
      "Is empty? False\n",
      "len = 6\n",
      "1\n",
      "2\n",
      "3\n",
      "4\n",
      "5\n",
      "1\n",
      "6\n",
      "0\n",
      "Is empty? True\n"
     ]
    }
   ],
   "source": [
    "from QueueLinked import Queue\n",
    "\n",
    "q=Queue()\n",
    "q.enqueue(1)\n",
    "q.enqueue(2)\n",
    "q.enqueue(3)\n",
    "q.enqueue(4)\n",
    "q.enqueue(5)\n",
    "q.enqueue(6)\n",
    "print(\"Is empty?\",q.isEmpty())\n",
    "print(\"len =\", len(q))\n",
    "print(q.dequeue())\n",
    "print(q.dequeue())\n",
    "print(q.dequeue())\n",
    "print(q.dequeue())\n",
    "print(q.dequeue())\n",
    "print(len(q))\n",
    "print(q.dequeue())\n",
    "print(len(q))\n",
    "print(\"Is empty?\", q.isEmpty())"
   ]
  }
 ],
 "metadata": {
  "interpreter": {
   "hash": "8a1dc5df9880934e0dd062a8d308138585b2fb9c45286a326c45e8b909761c85"
  },
  "kernelspec": {
   "display_name": "Python 3.9.6 64-bit ('py39': conda)",
   "name": "python3"
  },
  "language_info": {
   "codemirror_mode": {
    "name": "ipython",
    "version": 3
   },
   "file_extension": ".py",
   "mimetype": "text/x-python",
   "name": "python",
   "nbconvert_exporter": "python",
   "pygments_lexer": "ipython3",
   "version": "3.9.6"
  },
  "orig_nbformat": 4
 },
 "nbformat": 4,
 "nbformat_minor": 2
}
