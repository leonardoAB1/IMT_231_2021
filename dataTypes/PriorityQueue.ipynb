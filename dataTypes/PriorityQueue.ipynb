{
 "cells": [
  {
   "cell_type": "markdown",
   "metadata": {},
   "source": [
    "# Priority Queue\n",
    "\n",
    "Es un queue en el que a cada lelemnto es asignada una prioridad y los elemetnos con prioridad más alta son removidos antes que los elementos con menor prioridad, sin importar cuando hayan sido agregados. Para la prioridad, se usan valors enteros de modo que un entero mayor significa mayor prioridad.\n",
    "\n",
    "Un bounded prority queue (cola de prioridad acotada) restringige los valores de las prioridades entre cero y un limite superior, mientras que un unbounded priority (cola de prioridad no acotada) no tiene limites.\n",
    "\n",
    "|Métodos|Argumentos|Comportamiento|\n",
    "|--|--|--|\n",
    "|PriorityQueue()| No tiene argumentos | Crea y retorna un unbounded priority queue|\n",
    "|BPriorityQueue(numNiveles)|numNiveles: limite superior entero | Crea y retorna un bounded priority queue con niveles de propteidad entre $0$ y $numNieveles-1$|\n",
    "|isEmpty()| No tiene argumentos|Retorna un booleano indicando si el queue está vacío o no|\n",
    "|length()| No tiene argumentos  |Retorna el número de elementos actualmente en el queue|\n",
    "|enqueue(e, p)|e: elemento, p: prioridad|Agrega el elemento dado al queue insertandolo en la posicon adecuada dada su prioirdad. El  valor de \"p\" debe estar en  el rango legal cuando se use una cola de prioidad acotada.|\n",
    "|dequeue()| No tiene argumentos |Remueve y retorna el elemtno en lla cabeza de la cola, el cual es el elemento de mayor prioridad. La prioridad asociada al elemento es descartada.Si dos elementos tiene la misma prioridad, entonces los elemtnos son removidos en orden FIFO. No se puede hacer dequeue de una cola vacía.|"
   ]
  },
  {
   "cell_type": "code",
   "execution_count": null,
   "metadata": {},
   "outputs": [],
   "source": [
    "from PriorityQueue import PriorityQueue\n",
    "\n",
    "q=PriorityQueue()\n",
    "q.enqueue(\"morado\", 5)\n",
    "q.enqueue(\"negro\", 1)\n",
    "q.enqueue(\"anaranjado\", 3)\n",
    "q.enqueue(\"blanco\", 0)\n",
    "q.enqueue(\"verde\", 1)\n",
    "q.enqueue(\"amarillo\", 5)\n",
    "\n",
    "#(blanco, 0)->(negro, 1)->(verde, 1)->"
   ]
  },
  {
   "cell_type": "code",
   "execution_count": null,
   "metadata": {},
   "outputs": [],
   "source": [
    "while not q.isEmpty():\n",
    "    print(q.dequeue())"
   ]
  },
  {
   "cell_type": "code",
   "execution_count": null,
   "metadata": {},
   "outputs": [],
   "source": [
    "from PriorityQueue import BPriorityQueue\n",
    "\n",
    "q=BPriorityQueue(6)\n",
    "q.enqueue(1)\n",
    "q.enqueue(2)\n",
    "q.enqueue(3)\n",
    "q.enqueue(4)\n",
    "q.enqueue(5)\n",
    "q.enqueue(6)\n",
    "print(\"Is empty?\",q.isEmpty())\n",
    "print(\"len =\", len(q))\n",
    "print(q.dequeue())\n",
    "print(q.dequeue())\n",
    "print(q.dequeue())\n",
    "print(q.dequeue())\n",
    "print(q.dequeue())\n",
    "print(len(q))\n",
    "print(q.dequeue())\n",
    "print(len(q))\n",
    "print(\"Is empty?\", q.isEmpty())"
   ]
  },
  {
   "cell_type": "code",
   "execution_count": null,
   "metadata": {},
   "outputs": [],
   "source": []
  }
 ],
 "metadata": {
  "interpreter": {
   "hash": "8a1dc5df9880934e0dd062a8d308138585b2fb9c45286a326c45e8b909761c85"
  },
  "kernelspec": {
   "display_name": "Python 3.9.6 64-bit ('py39': conda)",
   "name": "python3"
  },
  "language_info": {
   "codemirror_mode": {
    "name": "ipython",
    "version": 3
   },
   "file_extension": ".py",
   "mimetype": "text/x-python",
   "name": "python",
   "nbconvert_exporter": "python",
   "pygments_lexer": "ipython3",
   "version": "3.9.6"
  },
  "orig_nbformat": 4
 },
 "nbformat": 4,
 "nbformat_minor": 2
}
