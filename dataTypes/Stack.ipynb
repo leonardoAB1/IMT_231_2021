{
 "cells": [
  {
   "cell_type": "markdown",
   "metadata": {},
   "source": [
    "# Stack\n",
    "Implementa un protocolo LIFO(Last In First Out)"
   ]
  },
  {
   "cell_type": "markdown",
   "metadata": {},
   "source": [
    "\n",
    "a) \"Pushing\" el valor 19  \n",
    "b) \"Pushing\" el valor 5  \n",
    "c) Resultado de las opearaciones anteriores  \n",
    "d) \"Popping\" le valor en la cima de l stack(top)  "
   ]
  },
  {
   "cell_type": "markdown",
   "metadata": {},
   "source": [
    "\n",
    "a)\"Pushing\" el valor 19\n",
    "b) \"Pushing\" el valor 5\n",
    "c) Resultado de las opearaciones anteriores\n",
    "d)\"Popping\" le valor en la cima de l stack(top)\n",
    "\n",
    "| Método| Argumentos | Comportamiento |\n",
    "| -- | -- | -- |\n",
    "|Stack()| No tiene argumentos|Crea un stack vacio|\n",
    "|isEmpty()|No tiene argumetos | Retorna un booleano indicando si la estructura está vacia|\n",
    "|lenght()|No tiene argumentos | Retorna el numero de elementos contenidos|\n",
    "|pop()|No tiene argumentos | Remueve y retorna el elemento en la cima del stack si el stack no está vacío. No se puede hacer pop en un stack vacío. Al hacer pop, el siguiente elemento subre a la cima del stack|\n",
    "|peek()|No tiene argumentos |Retorna una referencia al elemnto en la cima del stack sin removerlo. No se puede hacer peek en un stack vacío y no modifica los elementos contenidos.|\n",
    "|push(e)|e: elemento|Agrega el elemento a la cima del stack|"
   ]
  },
  {
   "cell_type": "code",
   "execution_count": 1,
   "metadata": {},
   "outputs": [],
   "source": [
    "from StackLinked import Stack"
   ]
  },
  {
   "cell_type": "code",
   "execution_count": 2,
   "metadata": {},
   "outputs": [
    {
     "name": "stdout",
     "output_type": "stream",
     "text": [
      "True\n"
     ]
    }
   ],
   "source": [
    "s=Stack()\n",
    "print(s.isEmpty())"
   ]
  },
  {
   "cell_type": "code",
   "execution_count": 3,
   "metadata": {},
   "outputs": [],
   "source": [
    "s.push(5)\n",
    "s.push(13)\n",
    "s.push(2)\n",
    "s.push(8)\n",
    "s.push(14)"
   ]
  },
  {
   "cell_type": "code",
   "execution_count": 4,
   "metadata": {},
   "outputs": [
    {
     "name": "stdout",
     "output_type": "stream",
     "text": [
      "14\n",
      "8\n",
      "2\n",
      "13\n",
      "5\n"
     ]
    }
   ],
   "source": [
    "while not s.isEmpty():\n",
    "    print(s.pop())"
   ]
  },
  {
   "cell_type": "code",
   "execution_count": 5,
   "metadata": {},
   "outputs": [],
   "source": [
    "def isValidSource(archivo):\n",
    "    s=Stack()\n",
    "    with open(archivo) as contenido:\n",
    "        for lines in contenido:\n",
    "            for character in line:\n",
    "                if character in \"{[(\":\n",
    "                    s.push(character)\n",
    "                elif character in \")]}\":\n",
    "                    if s.isEmpty():\n",
    "                        return False\n",
    "                    else:\n",
    "                        last_opening=s.pop()\n",
    "                        if (character==\"}\" and last_opening != \"{\" ) or \\\n",
    "                            (character==\"]\" and last_opening != \"[\" ) or \\\n",
    "                                (character==\")\" and last_opening != \"(\" ):\n",
    "                                    return False\n",
    "        return s.isEmpty()"
   ]
  },
  {
   "cell_type": "code",
   "execution_count": 6,
   "metadata": {},
   "outputs": [],
   "source": [
    "# *******\n",
    "# *.....*\n",
    "# ***.*..\n",
    "# *.*.*.*\n",
    "# *...***\n",
    "# *.*...*\n",
    "# *.*****"
   ]
  },
  {
   "cell_type": "markdown",
   "metadata": {},
   "source": [
    "| Método | Argumentos |Comportamiento |\n",
    "| -- | -- | -- |\n",
    "| Laberinto(r, c) | r: núm. de filas, c: núm. de columnas | Crea un nuevo laberinto con todas las celdas inicializadas como abiertas. La entrada y la salida no están definidas |\n",
    "| numRows() | No tiene argumentos | Retorna el número de filas en el laberinto |\n",
    "| numCols() | No tiene argumentos | Retorna el número de columnas en el laberinto |\n",
    "| crearPared(r, c) | r: fila, c: columna | Rellena la posición indicada por (r, c) con una pared (*). Los índices deben estar dentro del rango válido |\n",
    "| setEntrada(r, c) | r: fila, c: columna | Asigna la entrada a la posición indicada por (r,c). Los índices deben estar dentro del rango válido |\n",
    "| setSalida(r, c) | r: fila, c: columna | Asigna la salida a la posición indicada por (r,c). Los índices deben estar dentro del rango válido |\n",
    "| encontrarTrayectoria() | No tiene argumentos | Intenta resolver una trayectoria empezando desde la entrada hasta encontrar la salida. Si una solución es encontrada la trayectoria es marcada con x y retorna True. Para un laberinto sin solución, retorna False y el laberinto queda en su estado original. El laberinto debe contener una entrada y un salida |\n",
    "| reset() | No tiene argumentos | Reinicia el laberinto a su estado original quitando cualquier marca realizada durante la operación de trayectoria |\n",
    "| dibujar() | No tiene argumentos | Imprime el laberinto en un formato legible usando caracteres para representar paredes y la trayectoria en el laberinto. También se indican la entrada y la salida |"
   ]
  },
  {
   "cell_type": "code",
   "execution_count": 7,
   "metadata": {},
   "outputs": [
    {
     "name": "stdout",
     "output_type": "stream",
     "text": [
      "Resolver el siguiente laberinto:\n",
      "Entrada:(6, 1)\n",
      "Salida: (2, 6)\n",
      "| * * * * * * * |\n",
      "| * . . . . . * |\n",
      "| * * * . * . . |\n",
      "| * . * . * . * |\n",
      "| * . . . * * * |\n",
      "| * . * . . . * |\n",
      "| * . * * * * * |\n",
      "Trayectoria encontrada:\n",
      "Entrada:(6, 1)\n",
      "Salida: (2, 6)\n",
      "| * * * * * * * |\n",
      "| * . . x x x * |\n",
      "| * * * x * x x |\n",
      "| * o * x * . * |\n",
      "| * x x x * * * |\n",
      "| * x * . . . * |\n",
      "| * x * * * * * |\n",
      "Reset Laberinto:\n",
      "Entrada:(6, 1)\n",
      "Salida: (2, 6)\n",
      "| * * * * * * * |\n",
      "| * . . . . . * |\n",
      "| * * * . * . . |\n",
      "| * . * . * . * |\n",
      "| * . . . * * * |\n",
      "| * . * . . . * |\n",
      "| * . * * * * * |\n"
     ]
    }
   ],
   "source": [
    "\n",
    "from laberinto import Laberinto\n",
    "\n",
    "def main():\n",
    "    laberinto = construirLaberinto(\"laberinto.txt\")\n",
    "    print(\"Resolver el siguiente laberinto:\")\n",
    "    laberinto.dibujar()\n",
    "    if laberinto.encontrarTrayectoria():\n",
    "        print(\"Trayectoria encontrada:\")\n",
    "        laberinto.dibujar()\n",
    "    else:\n",
    "        print(\"Trayectoria no encontrada\")\n",
    "    laberinto.reset()\n",
    "    print(\"Reset Laberinto:\")\n",
    "    laberinto.dibujar()\n",
    "\n",
    "def construirLaberinto(archivo):\n",
    "    contenido = open(archivo, \"r\")\n",
    "\n",
    "    nrows, ncols = leerPares(contenido)\n",
    "    laberinto = Laberinto(nrows, ncols)\n",
    "\n",
    "    row, col = leerPares(contenido)\n",
    "    laberinto.crearEntrada(row, col)\n",
    "    row, col = leerPares(contenido)\n",
    "    laberinto.crearSalida(row, col)\n",
    "\n",
    "    for row in range(nrows):\n",
    "        linea = contenido.readline()\n",
    "        for col in range(len(linea)):\n",
    "            if linea[col] == \"*\":\n",
    "                laberinto.crearPared(row, col)\n",
    "    \n",
    "    contenido.close()\n",
    "    return laberinto\n",
    "\n",
    "def leerPares(archivo):\n",
    "    linea = archivo.readline()\n",
    "    valR, valC = linea.split()\n",
    "    return int(valR), int(valC)\n",
    "\n",
    "main()"
   ]
  },
  {
   "cell_type": "code",
   "execution_count": 8,
   "metadata": {},
   "outputs": [],
   "source": [
    "laberinto=construirLaberinto(\"laberinto.txt\")"
   ]
  }
 ],
 "metadata": {
  "interpreter": {
   "hash": "8a1dc5df9880934e0dd062a8d308138585b2fb9c45286a326c45e8b909761c85"
  },
  "kernelspec": {
   "display_name": "Python 3.9.6 64-bit ('py39': conda)",
   "name": "python3"
  },
  "language_info": {
   "codemirror_mode": {
    "name": "ipython",
    "version": 3
   },
   "file_extension": ".py",
   "mimetype": "text/x-python",
   "name": "python",
   "nbconvert_exporter": "python",
   "pygments_lexer": "ipython3",
   "version": "3.9.6"
  },
  "orig_nbformat": 4
 },
 "nbformat": 4,
 "nbformat_minor": 2
}
