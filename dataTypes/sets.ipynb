{
 "cells": [
  {
   "cell_type": "markdown",
   "source": [
    "# Sets\r\n",
    "\r\n",
    "| Método | Argumentos | Comportamiento |\r\n",
    "|--|--|--|\r\n",
    "| Sets() | No tiene argumnetos| Crea un nuevo conjunto inicializando a un conjunto vacio.|\r\n",
    "| lenght() | No tiene argumentos| Retorna el numero de elementos en el conjunto(cardinalidad). Se accede a este método a través de la funcion len().|\r\n",
    "| contains(e) | e:elemento| Determina si el elemento es parte del conjunto y retorna el valor booleano apropiado. Se accede a este método a través del operador `in`.|\r\n",
    "| add(e) | e:elemento | Modifica el conjunto agregando ele elemento al conjutno sie s que no es parte del mismo. Si el elemento no es unico, no se realiza niniguna accion.|\r\n",
    "| remove(e) | e:elemento | Remueve ele elemtno del conjunto si es que está contenido ene el mismo, sino levanta una excepcion.|\r\n",
    "| equal(setB) | setB:otro conjunto | Determina si un conjunto es igual a otro y retorna un booleano. Dos conjuntos son iguales si contienen el mismo numero de elementos, y todos los elementos del conjunto A están contenidos en el conjunto B. Si ambos conjuntos estan vacios, los conjuntos son iguales. Se accede a este metodo con los operadores `==` y `|=`. |\r\n",
    "| isSubsetOf(setB) | setB: otro conjunto | Determina si el conjunto es un subconunto de otro conjunto y retorna un valor booleano. Para que A sea un subconjunto de B, todos los elelmtnos de A deben pertenecer tambien a B.|\r\n",
    "| union(setB) | setB: otro conjunto | Crea y retorna un nuevo conjunto que es la unión de este conjunto y `setB`. El nuevo conjunto contiene todos los elementos mas los elementos de B que no pertenencen a A. Ninguno de los conjuntos A o B son modificados.|\r\n",
    "| intersec(setB) | setB: otro conjunto | Crea y retorna un nuevo conjunto que es la interseccion de este conjunto y `setB`. La interseccion A y B contiene solo los elementos que pertenecen tanto a A como a B.|\r\n",
    "| difference(setB) | setB: otro conjunto | Crea y retorna un nuevo conjunto que es la diferencia de este conjunto con `setB`. La diferencia de conjuntos $ A - B$, contiene solo los elementos de A que no están en B. Ninguno de los conjuntos A o B son modificados.|\r\n",
    "| iterador() | No tiene argumentos | Crea y retorna un iterador que puede ser usado para iterara los elementos del conjunto.|"
   ],
   "metadata": {}
  },
  {
   "cell_type": "markdown",
   "source": [
    "```PYTHON\r\n",
    "suarez=Set()\r\n",
    "suarez.add(\"IMT-231\")  \r\n",
    "suarez.add(\"INF-102\")  \r\n",
    "suarez.add(\"IMT-221\")\r\n",
    "suarez.add(\"IMT-222\")\r\n",
    "\r\n",
    "alvarez=Set()\r\n",
    "alvarez.add(\"IMT-242\")\r\n",
    "alvarez.add(\"IMT-221\")\r\n",
    "alvarez.add(\"IMT-241\")\r\n",
    "alvarez.add(\"IMT-247\")\r\n",
    "```"
   ],
   "metadata": {}
  }
 ],
 "metadata": {
  "orig_nbformat": 4,
  "language_info": {
   "name": "python"
  }
 },
 "nbformat": 4,
 "nbformat_minor": 2
}