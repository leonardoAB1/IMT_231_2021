{
 "cells": [
  {
   "cell_type": "markdown",
   "source": [
    "# Binary Set\r\n",
    "| operación | Desordenado | Mejorado |\r\n",
    "| -- | -- | -- |\r\n",
    "|`set()`|$0(1)$|O(1)|\r\n",
    "|`len()`|$0(1)$|O(1)|\r\n",
    "|`x in s`|$0(n)$|$O(log\\ n)$|\r\n",
    "|`s.add(x)`|$O(n)$|$O(n)$|\r\n",
    "|`s.isSubsetOf(t)`|$O(n^2)$||\r\n",
    "|`s==t`|$O(n^2)$||\r\n",
    "|`s.union(t)`|$O(n^2)$||"
   ],
   "metadata": {}
  },
  {
   "cell_type": "markdown",
   "source": [],
   "metadata": {}
  }
 ],
 "metadata": {
  "orig_nbformat": 4,
  "language_info": {
   "name": "python"
  }
 },
 "nbformat": 4,
 "nbformat_minor": 2
}