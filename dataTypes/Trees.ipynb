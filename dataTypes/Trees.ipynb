{
 "cells": [
  {
   "cell_type": "markdown",
   "metadata": {},
   "source": [
    "# Arbol\n",
    "Son estructuras enlazadas jerarquicas, las de mayor jerarquia son el \n",
    "\"padre\" y el resto son los \"hijos\". \n",
    "Un **arbol** puede ser definido como un conjunto de nodos que estan vacios o contiene un nodo llamado **raiz** que esta conectado a través de aristas(edge) a cero o mas **subarboles**.   \n",
    "**Por definicion cada nodo es un arbol en si mismo.**  \n",
    "Tal como se puede notar, es una definicion recursiva.  \n",
    "El sistema de archivos de un directorio es el ejemplo mas comun de un arbol.   \n",
    "Una lista enlazada es un generalizacion de un arbol; Es un arbol en el que cada nodo tiene un hijo.  \n",
    "Usualmente los arboles tiene su raiz como **T**. Los grafos como **S**."
   ]
  },
  {
   "cell_type": "markdown",
   "metadata": {},
   "source": [
    "## Raiz\n",
    "**Se le dice raiz a un nodo que no tiene padre**, esto, claro está, dentro del contexto. La raiz es el punto de acceso a la estructura, no tiene aristas entrantes. Una arista saliente es una que tiene flechas saliendo de ella y lo opuesto."
   ]
  },
  {
   "cell_type": "markdown",
   "metadata": {},
   "source": [
    "Un grafo es una generalización de esta estructura de arboles."
   ]
  },
  {
   "cell_type": "markdown",
   "metadata": {},
   "source": [
    "## Trayectoria:\n",
    "Conjunto de nodos encontrados entre el nodo raiz y un nodo en particular.  \n",
    "A->D->F->G  \n",
    "## Padre\n",
    "Todo nodo, excepto la raiz tiene un padre, identificado por la arista entrante. Un nodo puede temer unicamente un padre, resultando en una trayectoria única."
   ]
  },
  {
   "cell_type": "markdown",
   "metadata": {},
   "source": [
    "## Nodo\n",
    "Cada nodo puede tener uno o mas hijos, que son identificados por las aristas salientes, A todos los nodos que comparten un padre se les llama hermanos."
   ]
  },
  {
   "cell_type": "markdown",
   "metadata": {},
   "source": [
    "### Nodo Interior(rama)\n",
    "Un nodo interior tiene al menos un hijo.\n",
    "### Nodo Terminal(hoja)\n",
    "Nodo sin hijos"
   ]
  },
  {
   "cell_type": "markdown",
   "metadata": {},
   "source": [
    "## Árbol Binario\n",
    "Dicese del arbol que, como mucho, tiene dos hijos.   "
   ]
  },
  {
   "cell_type": "markdown",
   "metadata": {},
   "source": [
    "# Propiedades\n",
    "* **Tamaño**: Cantidad de nodos en el árbol.\n",
    "* **Niveles**: Raiz nivel , sus hijos nivel , etc.\n",
    "* **Profundidad**: Distancia(# de niveles) desde la raiz a un nodo.  \n",
    "* **Altura**: Número de niveles en el árbol, o la profundidad mayor de un nodo terminante.\n",
    "* **Ancho**: Número de nodos en el nivel que contenga más nodos."
   ]
  },
  {
   "cell_type": "markdown",
   "metadata": {},
   "source": [
    "## Tipos de Árboles\n",
    "* **Árbol Binario lleno**: Cada nodo interior, tiene sus dos hijos.\n",
    "* **Árbol Binario perfecto**: Es un árbol lleno y todas sus hojas están en el mismo nivel.\n",
    "* **Árbol Binario Completo**: Aquel árbol que es perfecto hasta el h-1(el nivel anterior a su maxima altura), y los nodos en su último nivel están llenados de izquierda a derecha sin espacios.  "
   ]
  },
  {
   "cell_type": "markdown",
   "metadata": {},
   "source": []
  }
 ],
 "metadata": {
  "interpreter": {
   "hash": "8a1dc5df9880934e0dd062a8d308138585b2fb9c45286a326c45e8b909761c85"
  },
  "kernelspec": {
   "display_name": "Python 3.9.6 64-bit ('py39': conda)",
   "language": "python",
   "name": "python3"
  },
  "language_info": {
   "codemirror_mode": {
    "name": "ipython",
    "version": 3
   },
   "file_extension": ".py",
   "mimetype": "text/x-python",
   "name": "python",
   "nbconvert_exporter": "python",
   "pygments_lexer": "ipython3",
   "version": "3.9.6"
  },
  "orig_nbformat": 4
 },
 "nbformat": 4,
 "nbformat_minor": 2
}
