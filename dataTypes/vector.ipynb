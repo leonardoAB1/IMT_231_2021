{
    "cells": [
        {
            "cell_type": "markdown",
            "source": [
                "# Vectors vs Arrays"
            ],
            "metadata": {}
        },
        {
            "cell_type": "markdown",
            "source": [
                "```c \r\n",
                "unsigned int num;  \r\n",
                "short small_num;  \r\n",
                "\r\n",
                "int[] numbers;  \r\n",
                "int num[5];  \r\n",
                "int multiplo[4];  \r\n",
                "```\r\n",
                "Arrays:\r\n",
                "* Están en un bloque de memoria contigua\r\n",
                "* Todos los elementos comparten el mismo tipo de dato\r\n",
                "* El tamaño es estatico\r\n",
                "\r\n",
                "Vectores:  \r\n",
                "* Pueden estar en distintas partes de memoria  \r\n",
                "* Todos los elementos comparten el mismo tipo de dato  \r\n",
                "* El tamaño es dinamico  "
            ],
            "metadata": {}
        },
        {
            "cell_type": "markdown",
            "source": [
                "## Vector Interface\r\n",
                "| Metodo | Argumento | Comportamiento |\r\n",
                "|------|----------|---------------|\r\n",
                "|Vector()|No tiene|Crea una instancia de un vector sin elementos|\r\n",
                "|Vector(n, x)|n: numero de elementos, x: valor del elemento| Crea una instancia de un vector de n elementos que contiene el valor x|\r\n",
                "|add(n)|n|Agrega el valor n al final del contenido del vector|\r\n",
                "|insert(i, n)|i: indice, n: valor| Inserta el valor en el indice especificado, desplazando los valores existentes|\r\n",
                "|remove(i)|i: indice|Elimina el valor en la posicion del indice y desplaza el resto de los valores|\r\n",
                "|get(i)|i: indice|Retorna el valor almacenado en la posicion del indice|\r\n",
                "|set(i, n)|i: indice, n: valor| Sobreeescribe el valor en la posicion del indice con el valor del argumento|\r\n",
                "|size()|No tiene|Retorna el numero de elementos contenidos en el vector|\r\n",
                "|isEmpty()|No tiene|Retorna True si el vector está vacio|\r\n",
                "|clear()|No tiene|Elimina todos los elementos del vector|\r\n",
                "\r\n",
                "\r\n",
                "#\r\n",
                "| Operacion | Operador | Comportamiento |\r\n",
                "|-----------|----------|----------------|\r\n",
                "|Indexacion|[i]|Retorna el valor en la posicion del indice|\r\n",
                "|Suma|v1 + v2|Concatena v1 y v2, y retorna un nuevo conteniendo elementos de ambos|\r\n",
                "|Adjuncion|v1 += e1|Agrega el elemento e1 al final del vector|"
            ],
            "metadata": {}
        }
    ],
    "metadata": {
        "orig_nbformat": 4,
        "language_info": {
            "name": "python",
            "version": "3.6.10",
            "mimetype": "text/x-python",
            "codemirror_mode": {
                "name": "ipython",
                "version": 3
            },
            "pygments_lexer": "ipython3",
            "nbconvert_exporter": "python",
            "file_extension": ".py"
        },
        "kernelspec": {
            "name": "python3",
            "display_name": "Python 3.6.10 64-bit ('dta_science': conda)"
        },
        "interpreter": {
            "hash": "19cdd4891dce956de4e924b90eef06ac8d3f34d704fb42487198644e018ff995"
        }
    },
    "nbformat": 4,
    "nbformat_minor": 2
}