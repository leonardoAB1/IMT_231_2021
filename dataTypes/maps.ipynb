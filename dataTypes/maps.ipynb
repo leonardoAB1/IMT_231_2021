{
 "cells": [
  {
   "cell_type": "markdown",
   "source": [
    "# Maps or Dictionaries\r\n",
    "\r\n",
    "| Método | Argumento | Comportamiento |\r\n",
    "| -- | -- | -- |\r\n",
    "| Map | No tiene argumentos | Crea un nuevo mapa vacio.|\r\n",
    "| lenght() | No tiene argumentos| Retorna el número de pares de lleves-valores (key-value pairs) en el mapa.|\r\n",
    "| contains(k) | k: llave, v: valor | Agrega un nuevo par de llave-valor si la llave no se encuentra en el mapa, y si se encuentra, reemplaza el valor asociado a la llave. Retorna Tru si la lleve es nueva y false si el valor asociado con la llave es reemplazado.|\r\n",
    "| remove(k) | k: llave | Remueve al par de llave-valor asociado con la lleve dada. La llave debe existir en el mapa o se levanta una excepción.|\r\n",
    "| iterator() | No tiene argumentos | Crea y retorna un iterador que puede ser usado para iterar sobre las llaves en el mapa.|"
   ],
   "metadata": {}
  }
 ],
 "metadata": {
  "orig_nbformat": 4,
  "language_info": {
   "name": "python"
  }
 },
 "nbformat": 4,
 "nbformat_minor": 2
}