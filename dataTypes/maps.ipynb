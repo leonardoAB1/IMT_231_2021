{
 "cells": [
  {
   "cell_type": "markdown",
   "source": [
    "# Maps or Dictionaries\r\n",
    "\r\n",
    "| Método | Argumento | Comportamiento |\r\n",
    "| -- | -- | -- |\r\n",
    "| Map | No tiene argumentos | Crea un nuevo mapa vacio.|\r\n",
    "| lenght() | No tiene argumentos| Retorna el número de pares de lleves-valores (key-value pairs) en el mapa.|\r\n",
    "| contains(k) | k: llave | Determina si la llave dada está en el mapa y retorna un booleano |\r\n",
    "| add(k, v) | k: llave, v: valor | Agrega un nuevo de par de llave-valor si la llave no se encuentra en el mapa, y si se encuentra, reemplaza el valor asociado a la llave. Retorna True si la llave es nueva y False si el valor asociado con la llave es reemplazado |\r\n",
    "| remove(k) | k: llave | Remueve el par de llave-valor de la llave dada si se encuentra en el mapa, y si no levanta una excepción |\r\n",
    "| valueOf(k) | k: llave | Retorna el valor asociado con la llave dada. La llave debe existir en el mapa o se levanta una excepción |\r\n",
    "| iterator() | No tiene argumentos | Crea y retorna un iterador que puede ser usado para iterar sobre las llaves en el mapa.|"
   ],
   "metadata": {}
  },
  {
   "cell_type": "markdown",
   "source": [],
   "metadata": {}
  }
 ],
 "metadata": {
  "orig_nbformat": 4,
  "language_info": {
   "name": "python",
   "version": "3.9.6"
  },
  "kernelspec": {
   "name": "python3",
   "display_name": "Python 3.9.6 64-bit ('py39': conda)"
  },
  "interpreter": {
   "hash": "8a1dc5df9880934e0dd062a8d308138585b2fb9c45286a326c45e8b909761c85"
  }
 },
 "nbformat": 4,
 "nbformat_minor": 2
}