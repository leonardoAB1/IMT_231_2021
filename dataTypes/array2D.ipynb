{
 "cells": [
  {
   "cell_type": "markdown",
   "source": [
    "# Array 2D\r\n",
    "\r\n",
    "## Interface\r\n",
    "\r\n",
    "|Método|Argumentos|Comportamiento|\r\n",
    "|--|--|--|\r\n",
    "|Array2D(nrow, ncols)|nrow:número de filas, ncols:número de columnas| Crea un arreglo bidimensional organizado en filas y columnas. Los elementos individuales son inicializados a None|\r\n",
    "|numRows()| No tiene argumentos| Retorna el numero de filas en el arreglo 2D|\r\n",
    "|numCols()| No tiene argumentos| Retorna el numero de columnas inidviduales del arreglo|\r\n",
    "|getitem(i1, i2)| i1: indice de filas, i2: indice de columnas|Retorna el valor almacenado en el elemento en la posicion indicada por los dos indices, que deben estar dentro del rango valido|\r\n",
    "|setitem(i1, i2, v)| i1: indice de filas, i2: indice de columnas, v:valor|Modifica el contenido del elementos en la posicon indicada por los dos indices al valor. Ambos indices deben estar dentro del rango válido|"
   ],
   "metadata": {}
  },
  {
   "cell_type": "markdown",
   "source": [
    "### Ejemplo\r\n",
    "\r\n",
    "```\r\n",
    "7\r\n",
    "3\r\n",
    "90 96 92\r\n",
    "85 91 89\r\n",
    "69 82 86\r\n",
    "95 88 91\r\n",
    "78 64 84\r\n",
    "81 80 69\r\n",
    "```"
   ],
   "metadata": {}
  },
  {
   "cell_type": "markdown",
   "source": [
    "Pseudocodigo de la solucion propuesta:\r\n",
    "\r\n",
    "1. Abrir el archivo\r\n",
    "2. Leer la primera linea y almacenar el valor en una varaible nRows\r\n",
    "3. Leer la segunda linea y almacenarl el valor en una variable nCols\r\n",
    "4. Creamos una intancia de Array2D con nRows y nCols\r\n",
    "5. Iterar sobre las filas  \r\n",
    "  5.1. Dividir el string en tres fragmentos  \r\n",
    "  5.2. Iterar sobre las columnas  \r\n",
    "  5.3. Almacenar cada nota en la posicion respectiva  "
   ],
   "metadata": {}
  },
  {
   "cell_type": "markdown",
   "source": [
    "```\r\n",
    "archivo_notas=open(\"dataTypes\\\\arrayNotas.txt\")\r\n",
    "nEstudiantes=int(archivo_notas.readline())\r\n",
    "nExamenes=int(archivo_notas.readline())\r\n",
    "\r\n",
    "notasExamenes = Array2D(nEstudiantes, nExamenes)\r\n",
    "\r\n",
    "for i, j in enumerate(nExamenes):\r\n",
    "    notas= j.split()\r\n",
    "    notasExamenes[j, i]=int(notas[i])\r\n",
    "    \r\n",
    "archivo_notas.close()\r\n",
    "```"
   ],
   "metadata": {}
  },
  {
   "cell_type": "code",
   "execution_count": null,
   "source": [],
   "outputs": [],
   "metadata": {}
  }
 ],
 "metadata": {
  "orig_nbformat": 4,
  "language_info": {
   "name": "python",
   "version": "3.7.9",
   "mimetype": "text/x-python",
   "codemirror_mode": {
    "name": "ipython",
    "version": 3
   },
   "pygments_lexer": "ipython3",
   "nbconvert_exporter": "python",
   "file_extension": ".py"
  },
  "kernelspec": {
   "name": "python3",
   "display_name": "Python 3.7.9 64-bit ('base': conda)"
  },
  "interpreter": {
   "hash": "573a5c7e7f6b69a982819e50b3614ba2e70da23418480f96bebec1796dfd44fd"
  }
 },
 "nbformat": 4,
 "nbformat_minor": 2
}