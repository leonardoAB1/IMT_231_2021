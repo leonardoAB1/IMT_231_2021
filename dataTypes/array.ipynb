{
 "cells": [
  {
   "cell_type": "markdown",
   "source": [
    "# Array\r\n",
    "\r\n",
    "| Método | Argumentos | Comportamiento |\r\n",
    "|--|--|--|\r\n",
    "|Array(n)|n: número de elementos contenidos, n debe de ser mayor a 0. | Crea un arreglo unidemensional con cada elemento inicializado a None.|\r\n",
    "|length()| No tiene argumentos | Retorna el número de elementos en el arreglo |\r\n",
    "| getitem() | i: indice del elemento | Retorna el valor almacenado del elemento en la posicion del indice. El indice debe estar dentro del rango válido. | subscript |\r\n",
    "| setitem(i, v)| i:indice, v: valor | Modifica el contenido del arreglo en la posicion del indice. El indice debe de estar dentro del rango válido |\r\n",
    "| clearing(v) | v: valor |Limpia el arreglo cambiando los elementos al valor pasando como argumento |\r\n",
    "| iterator()| No tiene argumentos | Retorna un objeto iterador que puede ser usado para recorrer los leementos del arreglo |"
   ],
   "metadata": {}
  },
  {
   "cell_type": "code",
   "execution_count": 8,
   "source": [
    "import ctypes\r\n",
    "\r\n",
    "ArrayType = ctypes.py_object*5\r\n",
    "lista_valores = ArrayType()\r\n",
    "\r\n",
    "for i in range(5):\r\n",
    "    lista_valores[i]=None\r\n",
    "    \r\n",
    "lista_valores[1]=12\r\n",
    "lista_valores[2]=34\r\n",
    "lista_valores[4]=39\r\n",
    "\r\n",
    "#Implementación más robusta\r\n",
    "class Array:\r\n",
    "    def __init__(self, n):\r\n",
    "        assert n>0\r\n",
    "        self._n=n\r\n",
    "        PyArrayType=ctypes.py_object*n\r\n",
    "        self._elements=PyArrayType()\r\n",
    "        self.clear(None)\r\n",
    "        \r\n",
    "    def __len__(self):\r\n",
    "        return self._n\r\n",
    "    \r\n",
    "    def __getitem__(self, i):\r\n",
    "        assert i >= 0 and i < len(self)\r\n",
    "        return self._elements[i]\r\n",
    "    \r\n",
    "    def __setitem__(self, i , v):\r\n",
    "        assert i >= 0 and i < len(self)\r\n",
    "        self._elements[i]=v\r\n",
    "        \r\n",
    "    def clear(self, v):\r\n",
    "        for i in range(len(self)):\r\n",
    "            self._elements[i]=v\r\n",
    "        \r\n",
    "    def __iter__self(self):\r\n",
    "        return _ArrayIterator(self._elements)\r\n",
    "    \r\n",
    "\r\n",
    "class _ArrayIterator:\r\n",
    "    def __init__(self, array):\r\n",
    "        self._arrayRef=array\r\n",
    "        self._iActual= 0\r\n",
    "        \r\n",
    "    def __iter__(self):\r\n",
    "        return self\r\n",
    "    \r\n",
    "    def __next__(self):\r\n",
    "        if self._iActual < len(self._arrayRef):\r\n",
    "            element=self._arrayRef[self._iActual]\r\n",
    "            self._iActual += 1\r\n",
    "            return element\r\n",
    "        else:\r\n",
    "            raise StopIteration"
   ],
   "outputs": [],
   "metadata": {}
  },
  {
   "cell_type": "code",
   "execution_count": 15,
   "source": [
    "# Modo de uso\r\n",
    "#from array import Array\r\n",
    "import random\r\n",
    "\r\n",
    "lista_valores = Array(20)\r\n",
    "\r\n",
    "#Llenar el arreglo con floats aleatorios\r\n",
    "for i in range(len(lista_valores)):\r\n",
    "    lista_valores[i]=random.random()\r\n",
    "\r\n",
    "#Imprimir los contenidos del arreglo\r\n",
    "for valor in lista_valores:\r\n",
    "    print(valor)"
   ],
   "outputs": [
    {
     "output_type": "stream",
     "name": "stdout",
     "text": [
      "0.4417926725982455\n",
      "0.9813990439891515\n",
      "0.9108968791119227\n",
      "0.7604918556085117\n",
      "0.3808349079797847\n",
      "0.6861676074061184\n",
      "0.5842276693454456\n",
      "0.34737414059181093\n",
      "0.6488795925228656\n",
      "0.7256095014968007\n",
      "0.44927762114890346\n",
      "0.47934826569924205\n",
      "0.8293037647293807\n",
      "0.40394010902571464\n",
      "0.11536265401693124\n",
      "0.644826507088849\n",
      "0.530846896098405\n",
      "0.6966102336748253\n",
      "0.8968144153087922\n",
      "0.1291469020074697\n"
     ]
    },
    {
     "output_type": "error",
     "ename": "AssertionError",
     "evalue": "",
     "traceback": [
      "\u001b[1;31m---------------------------------------------------------------------------\u001b[0m",
      "\u001b[1;31mAssertionError\u001b[0m                            Traceback (most recent call last)",
      "\u001b[1;32m<ipython-input-15-25062082a8e1>\u001b[0m in \u001b[0;36m<module>\u001b[1;34m\u001b[0m\n\u001b[0;32m     10\u001b[0m \u001b[1;33m\u001b[0m\u001b[0m\n\u001b[0;32m     11\u001b[0m \u001b[1;31m#Imprimir los contenidos del arreglo\u001b[0m\u001b[1;33m\u001b[0m\u001b[1;33m\u001b[0m\u001b[1;33m\u001b[0m\u001b[0m\n\u001b[1;32m---> 12\u001b[1;33m \u001b[1;32mfor\u001b[0m \u001b[0mvalor\u001b[0m \u001b[1;32min\u001b[0m \u001b[0mlista_valores\u001b[0m\u001b[1;33m:\u001b[0m\u001b[1;33m\u001b[0m\u001b[1;33m\u001b[0m\u001b[0m\n\u001b[0m\u001b[0;32m     13\u001b[0m     \u001b[0mprint\u001b[0m\u001b[1;33m(\u001b[0m\u001b[0mvalor\u001b[0m\u001b[1;33m)\u001b[0m\u001b[1;33m\u001b[0m\u001b[1;33m\u001b[0m\u001b[0m\n",
      "\u001b[1;32m<ipython-input-8-762d8bbb7879>\u001b[0m in \u001b[0;36m__getitem__\u001b[1;34m(self, i)\u001b[0m\n\u001b[0;32m     24\u001b[0m \u001b[1;33m\u001b[0m\u001b[0m\n\u001b[0;32m     25\u001b[0m     \u001b[1;32mdef\u001b[0m \u001b[0m__getitem__\u001b[0m\u001b[1;33m(\u001b[0m\u001b[0mself\u001b[0m\u001b[1;33m,\u001b[0m \u001b[0mi\u001b[0m\u001b[1;33m)\u001b[0m\u001b[1;33m:\u001b[0m\u001b[1;33m\u001b[0m\u001b[1;33m\u001b[0m\u001b[0m\n\u001b[1;32m---> 26\u001b[1;33m         \u001b[1;32massert\u001b[0m \u001b[0mi\u001b[0m \u001b[1;33m>=\u001b[0m \u001b[1;36m0\u001b[0m \u001b[1;32mand\u001b[0m \u001b[0mi\u001b[0m \u001b[1;33m<\u001b[0m \u001b[0mlen\u001b[0m\u001b[1;33m(\u001b[0m\u001b[0mself\u001b[0m\u001b[1;33m)\u001b[0m\u001b[1;33m\u001b[0m\u001b[1;33m\u001b[0m\u001b[0m\n\u001b[0m\u001b[0;32m     27\u001b[0m         \u001b[1;32mreturn\u001b[0m \u001b[0mself\u001b[0m\u001b[1;33m.\u001b[0m\u001b[0m_elements\u001b[0m\u001b[1;33m[\u001b[0m\u001b[0mi\u001b[0m\u001b[1;33m]\u001b[0m\u001b[1;33m\u001b[0m\u001b[1;33m\u001b[0m\u001b[0m\n\u001b[0;32m     28\u001b[0m \u001b[1;33m\u001b[0m\u001b[0m\n",
      "\u001b[1;31mAssertionError\u001b[0m: "
     ]
    }
   ],
   "metadata": {}
  },
  {
   "cell_type": "code",
   "execution_count": null,
   "source": [],
   "outputs": [],
   "metadata": {}
  }
 ],
 "metadata": {
  "orig_nbformat": 4,
  "language_info": {
   "name": "python",
   "version": "3.6.10",
   "mimetype": "text/x-python",
   "codemirror_mode": {
    "name": "ipython",
    "version": 3
   },
   "pygments_lexer": "ipython3",
   "nbconvert_exporter": "python",
   "file_extension": ".py"
  },
  "kernelspec": {
   "name": "python3",
   "display_name": "Python 3.6.10 64-bit ('dta_science': conda)"
  },
  "interpreter": {
   "hash": "19cdd4891dce956de4e924b90eef06ac8d3f34d704fb42487198644e018ff995"
  }
 },
 "nbformat": 4,
 "nbformat_minor": 2
}