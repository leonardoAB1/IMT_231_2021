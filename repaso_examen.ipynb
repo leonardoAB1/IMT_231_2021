{
 "cells": [
  {
   "cell_type": "markdown",
   "source": [
    "## Tipos de datos\r\n",
    "\r\n",
    "### Simples:  \r\n",
    "\r\n",
    "* int\r\n",
    "* str\r\n",
    "* float\r\n",
    "* bool  \r\n",
    "### Complejos:  \r\n",
    "\r\n",
    "* tuple\r\n",
    "* list\r\n",
    "* dict\r\n",
    "* set\r\n",
    "* None\r\n",
    "### Tipo de dato abstracto(ADT)\r\n",
    "\r\n",
    "  `Fecha`  \r\n",
    "  `dia()`  \r\n",
    "  `mes()`  \r\n",
    "  `anho()`   \r\n",
    "  `diasEnMes`  \r\n",
    "  `avanzar()`  \r\n",
    "  `esBisiesto()`  \r\n",
    "  `esSolsticio()`  \r\n",
    "  `avanzarPorDias(d)`    \r\n",
    "  `diasEntre(f2)`  \r\n",
    "  "
   ],
   "metadata": {}
  },
  {
   "cell_type": "markdown",
   "source": [
    "Abstraccion: Propiedades relevantes que permite a un ente abstracto diferenciarse de otras abstracciones en un contexto.  \r\n",
    "Tipo de dato abstracto: Tipo de dato cuya abstracción, independientemente de la implementación e interfase, está definida por convención."
   ],
   "metadata": {}
  }
 ],
 "metadata": {
  "orig_nbformat": 4,
  "language_info": {
   "name": "python"
  }
 },
 "nbformat": 4,
 "nbformat_minor": 2
}