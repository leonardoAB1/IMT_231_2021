{
 "cells": [
  {
   "cell_type": "markdown",
   "metadata": {},
   "source": [
    "# Stack\n",
    "\n",
    "Implementa un protocolo Last In First Out (LIFO)\n",
    "\n",
    "![stack](./stack.png)"
   ]
  },
  {
   "cell_type": "markdown",
   "metadata": {},
   "source": [
    "a) \"Pushing\" el valor 19  \n",
    "b) \"Pushing\" el valor 5  \n",
    "c) Resultado de las operaciones anteriores  \n",
    "d) \"Popping\" el valor en la cima del stack (top of the stack)  "
   ]
  },
  {
   "cell_type": "markdown",
   "metadata": {},
   "source": [
    "| Método | Argumentos | Comportamiento |\n",
    "| -- | -- | -- |\n",
    "| Stack() | No tiene argumentos | Crea un stack vacío |\n",
    "| isEmpty() | No tiene argumentos | Retorna un booleano indicando si la estructura está vacía |\n",
    "| length() | No tiene argumentos | Retorna el número de elementos contenidos |\n",
    "| pop() | No tiene argumentos | Remueve y retorna el elemento en la cima del stack si el stack no está vacío. No se puede hacer pop en un stack vacío. Al hacer pop, el siguiente elemento sube a la cima del stack |\n",
    "| peek() | No tiene argumentos | Retorna una referencia al elemento en la cima del stack sin removerlo. No se puede hacer peek en un stack vacío, y no modifica los elementos contenidos |\n",
    "| push(e) | e: elemento | Agrega el elemento a la cima del stack |\n"
   ]
  },
  {
   "cell_type": "code",
   "execution_count": 9,
   "metadata": {},
   "outputs": [
    {
     "name": "stdout",
     "output_type": "stream",
     "text": [
      "[1, 2, 3, 4, 5]\n",
      "[1, 2, 3, 4]\n",
      "[1, 3, 4]\n"
     ]
    }
   ],
   "source": [
    "lista = [1, 2, 3, 4, 5]\n",
    "print(lista)\n",
    "lista.pop()\n",
    "print(lista)\n",
    "lista[2]\n",
    "lista.pop(1)\n",
    "print(lista)"
   ]
  },
  {
   "cell_type": "code",
   "execution_count": 1,
   "metadata": {},
   "outputs": [],
   "source": [
    "from StackLinked import Stack"
   ]
  },
  {
   "cell_type": "code",
   "execution_count": 11,
   "metadata": {},
   "outputs": [
    {
     "name": "stdout",
     "output_type": "stream",
     "text": [
      "True\n"
     ]
    }
   ],
   "source": [
    "s = Stack()\n",
    "print(s.isEmpty())"
   ]
  },
  {
   "cell_type": "code",
   "execution_count": 24,
   "metadata": {},
   "outputs": [],
   "source": [
    "s.push(5)\n",
    "s.push(13)\n",
    "s.push(2)\n",
    "s.push(8)\n",
    "s.push(14)"
   ]
  },
  {
   "cell_type": "code",
   "execution_count": 25,
   "metadata": {},
   "outputs": [
    {
     "name": "stdout",
     "output_type": "stream",
     "text": [
      "14\n",
      "8\n",
      "2\n",
      "13\n",
      "5\n"
     ]
    }
   ],
   "source": [
    "while not s.isEmpty():\n",
    "    print(s.pop())"
   ]
  },
  {
   "cell_type": "markdown",
   "metadata": {},
   "source": [
    "{A + (B * C) - (D / [E - F])}"
   ]
  },
  {
   "cell_type": "code",
   "execution_count": 2,
   "metadata": {},
   "outputs": [],
   "source": [
    "def isValidSource(archivo):\n",
    "    s = Stack()\n",
    "    with open(archivo) as contenido:\n",
    "        for linea in contenido:\n",
    "            for caracter in linea:\n",
    "                if caracter in \"{[(\":\n",
    "                    s.push(caracter)\n",
    "                elif caracter in \"}])\":\n",
    "                    if s.isEmpty():\n",
    "                        return False\n",
    "                    else:\n",
    "                        ultima_apertura = s.pop()\n",
    "                        if (caracter == \"}\" and ultima_apertura != \"{\") or \\\n",
    "                            (caracter == \"]\" and ultima_apertura != \"[\") or \\\n",
    "                                (caracter == \")\" and ultima_apertura != \"(\"):\n",
    "                                return False\n",
    "        return s.isEmpty()\n"
   ]
  },
  {
   "cell_type": "code",
   "execution_count": 3,
   "metadata": {},
   "outputs": [
    {
     "data": {
      "text/plain": [
       "False"
      ]
     },
     "execution_count": 3,
     "metadata": {},
     "output_type": "execute_result"
    }
   ],
   "source": [
    "isValidSource(\"sumaLista.cpp\")"
   ]
  },
  {
   "cell_type": "markdown",
   "metadata": {},
   "source": [
    "![laberinto](./laberinto.png)"
   ]
  },
  {
   "cell_type": "code",
   "execution_count": null,
   "metadata": {},
   "outputs": [],
   "source": [
    "# *******\n",
    "# *.....*\n",
    "# ***.*..\n",
    "# *o*.*.*\n",
    "# *X..***\n",
    "# *x*...*\n",
    "# *x*****"
   ]
  },
  {
   "cell_type": "markdown",
   "metadata": {},
   "source": [
    "# Laberinto\n",
    "\n",
    "| Método | Argumentos |Comportamiento |\n",
    "| -- | -- | -- |\n",
    "| Laberinto(r, c) | r: núm. de filas, c: núm. de columnas | Crea un nuevo laberinto con todas las celdas inicializadas como abiertas. La entrada y la salida no están definidas |\n",
    "| numRows() | No tiene argumentos | Retorna el número de filas en el laberinto |\n",
    "| numCols() | No tiene argumentos | Retorna el número de columnas en el laberinto |\n",
    "| crearPared(r, c) | r: fila, c: columna | Rellena la posición indicada por (r, c) con una pared (*). Los índices deben estar dentro del rango válido |\n",
    "| setEntrada(r, c) | r: fila, c: columna | Asigna la entrada a la posición indicada por (r,c). Los índices deben estar dentro del rango válido |\n",
    "| setSalida(r, c) | r: fila, c: columna | Asigna la salida a la posición indicada por (r,c). Los índices deben estar dentro del rango válido |\n",
    "| encontrarTrayectoria() | No tiene argumentos | Intenta resolver una trayectoria empezando desde la entrada hasta encontrar la salida. Si una solución es encontrada la trayectoria es marcada con x y retorna True. Para un laberinto sin solución, retorna False y el laberinto queda en su estado original. El laberinto debe contener una entrada y un salida |\n",
    "| reset() | No tiene argumentos | Reinicia el laberinto a su estado original quitando cualquier marca realizada durante la operación de trayectoria |\n",
    "| dibujar() | No tiene argumentos | Imprime el laberinto en un formato legible usando caracteres para representar paredes y la trayectoria en el laberinto. También se indican la entrada y la salida |"
   ]
  },
  {
   "cell_type": "code",
   "execution_count": 2,
   "metadata": {},
   "outputs": [
    {
     "name": "stdout",
     "output_type": "stream",
     "text": [
      "Trayectoria no encontrada\n"
     ]
    }
   ],
   "source": [
    "from laberinto import Laberinto\n",
    "\n",
    "def main():\n",
    "    laberinto = construirLaberinto(\"laberinto.txt\")\n",
    "    if laberinto.encontrarTrayectoria():\n",
    "        laberinto.dibujar()\n",
    "    else:\n",
    "        print(\"Trayectoria no encontrada\")\n",
    "\n",
    "def construirLaberinto(archivo):\n",
    "    contenido = open(archivo, \"r\")\n",
    "\n",
    "    nrows, ncols = leerPares(contenido)\n",
    "    laberinto = Laberinto(nrows, ncols)\n",
    "\n",
    "    row, col = leerPares(contenido)\n",
    "    laberinto.crearEntrada(row, col)\n",
    "    row, col = leerPares(contenido)\n",
    "    laberinto.crearSalida(row, col)\n",
    "\n",
    "    for row in range(nrows):\n",
    "        linea = contenido.readline()\n",
    "        for col in range(len(linea)):\n",
    "            if linea[col] == \"*\":\n",
    "                laberinto.crearPared(row, col)\n",
    "    \n",
    "    contenido.close()\n",
    "    return laberinto\n",
    "\n",
    "def leerPares(archivo):\n",
    "    linea = archivo.readline()\n",
    "    valR, valC = linea.split()\n",
    "    return int(valR), int(valC)\n",
    "\n",
    "main()"
   ]
  },
  {
   "cell_type": "code",
   "execution_count": 3,
   "metadata": {},
   "outputs": [],
   "source": [
    "laberinto = construirLaberinto(\"laberinto.txt\")"
   ]
  },
  {
   "cell_type": "code",
   "execution_count": 24,
   "metadata": {},
   "outputs": [],
   "source": [
    "laberinto._laberinto[1, 1]"
   ]
  }
 ],
 "metadata": {
  "interpreter": {
   "hash": "356a636ce2f51450019099ea7bc032334283464645747bec92c9e9fde053324a"
  },
  "kernelspec": {
   "display_name": "Python 3.8.5 64-bit ('base': conda)",
   "name": "python3"
  },
  "language_info": {
   "codemirror_mode": {
    "name": "ipython",
    "version": 3
   },
   "file_extension": ".py",
   "mimetype": "text/x-python",
   "name": "python",
   "nbconvert_exporter": "python",
   "pygments_lexer": "ipython3",
   "version": "3.8.5"
  },
  "orig_nbformat": 4
 },
 "nbformat": 4,
 "nbformat_minor": 2
}
